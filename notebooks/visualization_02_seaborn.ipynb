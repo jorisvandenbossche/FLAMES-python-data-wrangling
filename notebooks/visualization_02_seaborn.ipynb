{
 "cells": [
  {
   "cell_type": "markdown",
   "metadata": {
    "deletable": true,
    "editable": true
   },
   "source": [
    "<p><font size=\"6\"><b>Visualisation: Seaborn </b></font></p>\n",
    "\n",
    "> *Data wrangling in Python*  \n",
    "> *November, 2020*\n",
    ">\n",
    "> *© 2020, Joris Van den Bossche and Stijn Van Hoey  (<mailto:jorisvandenbossche@gmail.com>, <mailto:stijnvanhoey@gmail.com>). Licensed under [CC BY 4.0 Creative Commons](http://creativecommons.org/licenses/by/4.0/)*\n",
    "\n",
    "---\n"
   ]
  },
  {
   "cell_type": "code",
   "execution_count": null,
   "metadata": {
    "deletable": true,
    "editable": true,
    "jupyter": {
     "outputs_hidden": true
    },
    "run_control": {
     "frozen": false,
     "read_only": false
    }
   },
   "outputs": [],
   "source": [
    "import pandas as pd\n",
    "import matplotlib.pyplot as plt"
   ]
  },
  {
   "cell_type": "markdown",
   "metadata": {
    "deletable": true,
    "editable": true
   },
   "source": [
    "# Seaborn"
   ]
  },
  {
   "cell_type": "markdown",
   "metadata": {
    "deletable": true,
    "editable": true,
    "run_control": {
     "frozen": false,
     "read_only": false
    }
   },
   "source": [
    "[Seaborn](https://seaborn.pydata.org/) is a Python data visualization library:\n",
    "\n",
    "* Built on top of Matplotlib, but providing\n",
    "    1. High level functions.\n",
    "    2. Support for _tidy data_, which became famous due to the `ggplot2` R package.\n",
    "    3. Attractive and informative statistical graphics out of the box.\n",
    "* Interacts well with Pandas"
   ]
  },
  {
   "cell_type": "code",
   "execution_count": null,
   "metadata": {
    "deletable": true,
    "editable": true,
    "jupyter": {
     "outputs_hidden": true
    },
    "run_control": {
     "frozen": false,
     "read_only": false
    }
   },
   "outputs": [],
   "source": [
    "import seaborn as sns"
   ]
  },
  {
   "cell_type": "markdown",
   "metadata": {
    "deletable": true,
    "editable": true
   },
   "source": [
    "## Introduction"
   ]
  },
  {
   "cell_type": "markdown",
   "metadata": {
    "deletable": true,
    "editable": true
   },
   "source": [
    "We will use the Titanic example data set:"
   ]
  },
  {
   "cell_type": "code",
   "execution_count": null,
   "metadata": {
    "deletable": true,
    "editable": true,
    "jupyter": {
     "outputs_hidden": true
    }
   },
   "outputs": [],
   "source": [
    "titanic = pd.read_csv('data/titanic.csv')"
   ]
  },
  {
   "cell_type": "code",
   "execution_count": null,
   "metadata": {
    "deletable": true,
    "editable": true,
    "jupyter": {
     "outputs_hidden": false
    }
   },
   "outputs": [],
   "source": [
    "titanic.head()"
   ]
  },
  {
   "cell_type": "markdown",
   "metadata": {
    "deletable": true,
    "editable": true
   },
   "source": [
    "Let's consider following question:\n",
    ">*For each class at the Titanic, how many people survived and how many died?*"
   ]
  },
  {
   "cell_type": "markdown",
   "metadata": {
    "deletable": true,
    "editable": true
   },
   "source": [
    "Hence, we should define the *size/count* of respectively the zeros (died) and ones (survived) groups of column `Survived`, also grouped by the `Pclass`. In Pandas terminology:"
   ]
  },
  {
   "cell_type": "code",
   "execution_count": null,
   "metadata": {
    "deletable": true,
    "editable": true,
    "jupyter": {
     "outputs_hidden": false
    }
   },
   "outputs": [],
   "source": [
    "survived_stat = titanic.groupby([\"Pclass\", \"Survived\"]).size().rename('count').reset_index()\n",
    "survived_stat\n",
    "# Remark: the `rename` syntax is to provide the count column a column name "
   ]
  },
  {
   "cell_type": "markdown",
   "metadata": {
    "deletable": true,
    "editable": true
   },
   "source": [
    "Providing this data in a bar chart with pure Pandas is still partly supported:"
   ]
  },
  {
   "cell_type": "code",
   "execution_count": null,
   "metadata": {
    "deletable": true,
    "editable": true,
    "jupyter": {
     "outputs_hidden": false
    }
   },
   "outputs": [],
   "source": [
    "survived_stat.plot(x='Survived', y='count', kind='bar')\n",
    "## A possible other way of plotting this could be using groupby again:   \n",
    "# survived_stat.groupby('Pclass').plot(x='Survived', y='count', kind='bar') # (try yourself by uncommenting)"
   ]
  },
  {
   "cell_type": "markdown",
   "metadata": {
    "deletable": true,
    "editable": true
   },
   "source": [
    "but with mixed results."
   ]
  },
  {
   "cell_type": "markdown",
   "metadata": {
    "deletable": true,
    "editable": true
   },
   "source": [
    "__Seaborn__ provides another level of abstraction to visualize such *grouped* plots with different categories:"
   ]
  },
  {
   "cell_type": "code",
   "execution_count": null,
   "metadata": {
    "deletable": true,
    "editable": true,
    "jupyter": {
     "outputs_hidden": false
    }
   },
   "outputs": [],
   "source": [
    "sns.catplot(data=survived_stat, \n",
    "            x=\"Survived\", y=\"count\", \n",
    "            col=\"Pclass\", kind=\"bar\")"
   ]
  },
  {
   "cell_type": "markdown",
   "metadata": {
    "deletable": true,
    "editable": true
   },
   "source": [
    "Moreover, these `count` operations are embedded in Seaborn (similar to other 'Grammar of Graphics' packages such as ggplot in R and plotnine/altair in Python). We can do these operations directly on the original `titanic` data set in a single coding step:"
   ]
  },
  {
   "cell_type": "code",
   "execution_count": null,
   "metadata": {
    "deletable": true,
    "editable": true,
    "jupyter": {
     "outputs_hidden": false
    }
   },
   "outputs": [],
   "source": [
    "sns.catplot(data=titanic, \n",
    "            x=\"Survived\", \n",
    "            col=\"Pclass\", kind=\"count\")"
   ]
  },
  {
   "cell_type": "markdown",
   "metadata": {
    "deletable": true,
    "editable": true
   },
   "source": [
    "Check <a href=\"#this_is_tidy\">here</a> for a short recap about `tidy` data."
   ]
  },
  {
   "cell_type": "markdown",
   "metadata": {
    "deletable": true,
    "editable": true
   },
   "source": [
    "<div class=\"alert alert-info\">\n",
    "\n",
    "**Remember**\n",
    "\n",
    "- Seaborn is especially suitbale for these so-called <a href=\"http://vita.had.co.nz/papers/tidy-data.pdf\">tidy</a> dataframe representations.\n",
    "- The [Seaborn tutorial](https://seaborn.pydata.org/tutorial/data_structure.html#long-form-vs-wide-form-data) provides a very good introduction to tidy (also called _long-form_) data. \n",
    "- You can use __Pandas column names__ as input for the visualisation functions of Seaborn.\n",
    "\n",
    "</div>"
   ]
  },
  {
   "cell_type": "markdown",
   "metadata": {
    "deletable": true,
    "editable": true
   },
   "source": [
    "## Interaction with Matplotlib"
   ]
  },
  {
   "cell_type": "markdown",
   "metadata": {
    "deletable": true,
    "editable": true
   },
   "source": [
    "Seaborn builds on top of Matplotlib/Pandas, adding an additional layer of convenience. \n",
    "\n",
    "Topic-wise, Seaborn provides three main modules, i.e. type of plots:\n",
    "\n",
    "- __relational__: understanding how variables in a dataset relate to each other\n",
    "- __distribution__: specialize in representing the distribution of datapoints\n",
    "- __categorical__: visualize a relationship involving categorical data (i.e. plot something _for each category_)\n",
    "\n",
    "In 'technical' terms, when working with Seaborn functions, it is important to understand which level they operate, as `axes-level` or `figure-level`: \n",
    "\n",
    "- __axes-level__ functions plot data onto a single `matplotlib.pyplot.Axes` object and return the `Axes`\n",
    "- __figure-level__ functions return a Seaborn object, `FacetGrid`, which is a `matplotlib.pyplot.Figure`\n",
    "\n",
    "Remember the Matplotlib `Figure`, `axes` and `axis` anatomy explained in [visualization_01_matplotlib](visualization_01_matplotlib.ipynb)? \n",
    "\n",
    "Each plot module has a single `Figure`-level function, which offers a unitary interface to its various `Axes`-level functions. The organization looks like this:"
   ]
  },
  {
   "cell_type": "markdown",
   "metadata": {
    "deletable": true,
    "editable": true
   },
   "source": [
    "![](../img/seaborn_overview_modules.png)"
   ]
  },
  {
   "cell_type": "markdown",
   "metadata": {
    "deletable": true,
    "editable": true
   },
   "source": [
    "### Figure level functions"
   ]
  },
  {
   "cell_type": "markdown",
   "metadata": {
    "deletable": true,
    "editable": true
   },
   "source": [
    "Let's start from: _What is the relation between Age and Fare?_"
   ]
  },
  {
   "cell_type": "code",
   "execution_count": null,
   "metadata": {
    "deletable": true,
    "editable": true,
    "jupyter": {
     "outputs_hidden": false
    }
   },
   "outputs": [],
   "source": [
    "# A relation between variables in a Pandas DataFrame -> `relplot`\n",
    "sns.relplot(data=titanic, x=\"Age\", y=\"Fare\")"
   ]
  },
  {
   "cell_type": "markdown",
   "metadata": {
    "deletable": true,
    "editable": true
   },
   "source": [
    "Extend to: _Is the relation between Age and Fare different for people how survived?_"
   ]
  },
  {
   "cell_type": "code",
   "execution_count": null,
   "metadata": {
    "deletable": true,
    "editable": true,
    "jupyter": {
     "outputs_hidden": false
    }
   },
   "outputs": [],
   "source": [
    "sns.relplot(data=titanic, x=\"Age\", y=\"Fare\",\n",
    "            hue=\"Survived\")"
   ]
  },
  {
   "cell_type": "markdown",
   "metadata": {
    "deletable": true,
    "editable": true
   },
   "source": [
    "Extend to: _Is the relation between Age and Fare different for people how survived and/or the gender of the passengers?_"
   ]
  },
  {
   "cell_type": "code",
   "execution_count": null,
   "metadata": {
    "deletable": true,
    "editable": true,
    "jupyter": {
     "outputs_hidden": false
    }
   },
   "outputs": [],
   "source": [
    "age_fare = sns.relplot(data=titanic, x=\"Age\", y=\"Fare\",\n",
    "                       hue=\"Survived\",\n",
    "                       col=\"Sex\")"
   ]
  },
  {
   "cell_type": "markdown",
   "metadata": {
    "deletable": true,
    "editable": true
   },
   "source": [
    "The function returns a Seaborn `FacetGrid`, which is related to a Matplotlib `Figure`:"
   ]
  },
  {
   "cell_type": "code",
   "execution_count": null,
   "metadata": {
    "deletable": true,
    "editable": true,
    "jupyter": {
     "outputs_hidden": false
    }
   },
   "outputs": [],
   "source": [
    "type(age_fare), type(age_fare.fig)"
   ]
  },
  {
   "cell_type": "markdown",
   "metadata": {
    "deletable": true,
    "editable": true
   },
   "source": [
    "As we are dealing here with 2 subplots, the `FacetGrid` consists of two Matplotlib `Axes`:"
   ]
  },
  {
   "cell_type": "code",
   "execution_count": null,
   "metadata": {
    "deletable": true,
    "editable": true,
    "jupyter": {
     "outputs_hidden": false
    }
   },
   "outputs": [],
   "source": [
    "age_fare.axes, type(age_fare.axes.flatten()[0])"
   ]
  },
  {
   "cell_type": "markdown",
   "metadata": {
    "deletable": true,
    "editable": true
   },
   "source": [
    "Hence, we can still apply all the power of Matplotlib, but start from the convenience of Seaborn."
   ]
  },
  {
   "cell_type": "markdown",
   "metadata": {
    "deletable": true,
    "editable": true
   },
   "source": [
    "<div class=\"alert alert-info\">\n",
    "\n",
    "**Remember**\n",
    "\n",
    "The `Figure` level Seaborn functions:    \n",
    "    \n",
    "- Support __faceting__ by data variables (split up in subplots using a categorical variable)\n",
    "- Return a Matplotlib `Figure`, hence the output can NOT be part of a larger Matplotlib Figure\n",
    "\n",
    "</div>"
   ]
  },
  {
   "cell_type": "markdown",
   "metadata": {
    "deletable": true,
    "editable": true
   },
   "source": [
    "### Axes level functions"
   ]
  },
  {
   "cell_type": "markdown",
   "metadata": {
    "deletable": true,
    "editable": true
   },
   "source": [
    "We can ask the same question: _Is the relation between Age and Fare different for people how survived?_"
   ]
  },
  {
   "cell_type": "code",
   "execution_count": null,
   "metadata": {
    "deletable": true,
    "editable": true,
    "jupyter": {
     "outputs_hidden": false
    }
   },
   "outputs": [],
   "source": [
    "scatter_out = sns.scatterplot(data=titanic, x=\"Age\", y=\"Fare\", hue=\"Survived\")"
   ]
  },
  {
   "cell_type": "code",
   "execution_count": null,
   "metadata": {
    "deletable": true,
    "editable": true,
    "jupyter": {
     "outputs_hidden": false
    }
   },
   "outputs": [],
   "source": [
    "type(scatter_out)"
   ]
  },
  {
   "cell_type": "markdown",
   "metadata": {
    "deletable": true,
    "editable": true
   },
   "source": [
    "But we can't use the `col`/`row` options for facetting:"
   ]
  },
  {
   "cell_type": "code",
   "execution_count": null,
   "metadata": {
    "deletable": true,
    "editable": true,
    "jupyter": {
     "outputs_hidden": true
    }
   },
   "outputs": [],
   "source": [
    "# sns.scatterplot(data=titanic, x=\"Age\", y=\"Fare\", hue=\"Survived\", col=\"Sex\")  # uncomment to check the output"
   ]
  },
  {
   "cell_type": "markdown",
   "metadata": {
    "deletable": true,
    "editable": true
   },
   "source": [
    "We can use these functions to create custom combinations of plots:"
   ]
  },
  {
   "cell_type": "code",
   "execution_count": null,
   "metadata": {
    "deletable": true,
    "editable": true,
    "jupyter": {
     "outputs_hidden": false
    }
   },
   "outputs": [],
   "source": [
    "fig, (ax0, ax1) = plt.subplots(1, 2, figsize=(10, 6))\n",
    "sns.scatterplot(data=titanic, x=\"Age\", y=\"Fare\", hue=\"Survived\", ax=ax0)\n",
    "sns.violinplot(data=titanic, x=\"Survived\", y=\"Fare\", ax=ax1)  # boxplot, stripplot,.. as alternative to represent distribution per category"
   ]
  },
  {
   "cell_type": "markdown",
   "metadata": {
    "deletable": true,
    "editable": true
   },
   "source": [
    "__Note!__ Check the similarity with the _best of both worlds_ approach:\n",
    "\n",
    "1. Prepare with Matplotlib\n",
    "2. Plot using Seaborn \n",
    "3. Further adjust specific elements with Matplotlib if needed"
   ]
  },
  {
   "cell_type": "markdown",
   "metadata": {
    "deletable": true,
    "editable": true
   },
   "source": [
    "<div class=\"alert alert-info\">\n",
    "\n",
    "**Remember**\n",
    "\n",
    "The `Axes` level Seaborn functions:    \n",
    "    \n",
    "- Do NOT support faceting by data variables \n",
    "- Return a Matplotlib `Axes`, hence the output can be used in combination with other Matplotlib `Axes` in the same `Figure`\n",
    "\n",
    "</div>"
   ]
  },
  {
   "cell_type": "markdown",
   "metadata": {
    "deletable": true,
    "editable": true
   },
   "source": [
    "## (OPTIONAL) exercises"
   ]
  },
  {
   "cell_type": "markdown",
   "metadata": {
    "deletable": true,
    "editable": true
   },
   "source": [
    "<div class=\"alert alert-success\">\n",
    "\n",
    "**EXERCISE**\n",
    "\n",
    "- Make a histogram of the age, split up in two subplots by the `Sex` of the passengers.\n",
    "- Put both subplots underneath each other. \n",
    "- Use the `height` and `aspect` arguments of the plot function to adjust the size of the figure.\n",
    "    \n",
    "<details><summary>Hints</summary>\n",
    "\n",
    "- When interested in a histogram, i.e. the distribution of data, use the `displot` module\n",
    "- A split into subplots is requested using a variable of the DataFrame (facetting), so use the `Figure`-level function instead of the `Axes` level functions.\n",
    "- Link a column name to the `row` argument for splitting into subplots row-wise.\n",
    "\n",
    "</details>"
   ]
  },
  {
   "cell_type": "code",
   "execution_count": null,
   "metadata": {
    "clear_cell": true,
    "deletable": true,
    "editable": true,
    "jupyter": {
     "outputs_hidden": false
    }
   },
   "outputs": [],
   "source": [
    "# %load _solutions/visualization_02_seaborn1.py"
   ]
  },
  {
   "cell_type": "markdown",
   "metadata": {
    "deletable": true,
    "editable": true
   },
   "source": [
    "<div class=\"alert alert-success\">\n",
    "\n",
    "**EXERCISE**\n",
    "\n",
    "Make a violin plot showing the `Age` distribution for each `Sex` in each of the `Pclass` categories:\n",
    "    \n",
    "- Use a different color for the `Age`.\n",
    "- Use the `Pclass` to make a plot for each of the classes along the `x-axis`\n",
    "- Check the behavior of the `split` argument and apply it to compare male/female.\n",
    "- Use the `sns.despine` function to remove the boundaries around the plot.    \n",
    "    \n",
    "<details><summary>Hints</summary>\n",
    "\n",
    "- Have a look at https://seaborn.pydata.org/examples/grouped_violinplots.html for inspiration.\n",
    "\n",
    "</details>"
   ]
  },
  {
   "cell_type": "code",
   "execution_count": null,
   "metadata": {
    "clear_cell": true,
    "deletable": true,
    "editable": true,
    "jupyter": {
     "outputs_hidden": false
    }
   },
   "outputs": [],
   "source": [
    "# %load _solutions/visualization_02_seaborn2.py"
   ]
  },
  {
   "cell_type": "code",
   "execution_count": null,
   "metadata": {
    "clear_cell": true,
    "deletable": true,
    "editable": true,
    "jupyter": {
     "outputs_hidden": false
    }
   },
   "outputs": [],
   "source": [
    "# %load _solutions/visualization_02_seaborn3.py"
   ]
  },
  {
   "cell_type": "markdown",
   "metadata": {
    "deletable": true,
    "editable": true
   },
   "source": [
    "## Some more Seaborn functionalities to remember"
   ]
  },
  {
   "cell_type": "markdown",
   "metadata": {
    "deletable": true,
    "editable": true
   },
   "source": [
    "Whereas the `relplot`, `catplot` and `displot` represent the main components of the Seaborn library, more interesting functions are available. You can check the [gallery](https://seaborn.pydata.org/examples/index.html) yourself, but let's introduce a few rof them:"
   ]
  },
  {
   "cell_type": "markdown",
   "metadata": {
    "deletable": true,
    "editable": true
   },
   "source": [
    "__jointplot()__ and __pairplot()__\n",
    "\n",
    "`jointplot()` and `pairplot()` are Figure-level functions and create figures with specific subplots by default:"
   ]
  },
  {
   "cell_type": "code",
   "execution_count": null,
   "metadata": {
    "deletable": true,
    "editable": true,
    "jupyter": {
     "outputs_hidden": false
    }
   },
   "outputs": [],
   "source": [
    "# joined distribution plot\n",
    "sns.jointplot(data=titanic, x=\"Fare\", y=\"Age\", \n",
    "              hue=\"Sex\", kind=\"scatter\") # kde"
   ]
  },
  {
   "cell_type": "code",
   "execution_count": null,
   "metadata": {
    "deletable": true,
    "editable": true,
    "jupyter": {
     "outputs_hidden": false
    }
   },
   "outputs": [],
   "source": [
    "sns.pairplot(data=titanic[[\"Age\", \"Fare\", \"Sex\"]], hue=\"Sex\")  # Also called scattermatrix plot"
   ]
  },
  {
   "cell_type": "markdown",
   "metadata": {
    "deletable": true,
    "editable": true
   },
   "source": [
    "__heatmap()__"
   ]
  },
  {
   "cell_type": "markdown",
   "metadata": {
    "deletable": true,
    "editable": true
   },
   "source": [
    "Plot rectangular data as a color-encoded matrix."
   ]
  },
  {
   "cell_type": "code",
   "execution_count": null,
   "metadata": {
    "deletable": true,
    "editable": true,
    "jupyter": {
     "outputs_hidden": false
    }
   },
   "outputs": [],
   "source": [
    "titanic_age_summary = titanic.pivot_table(columns=\"Pclass\", index=\"Sex\", \n",
    "                                          values=\"Age\", aggfunc=\"mean\")\n",
    "titanic_age_summary"
   ]
  },
  {
   "cell_type": "code",
   "execution_count": null,
   "metadata": {
    "deletable": true,
    "editable": true,
    "jupyter": {
     "outputs_hidden": false
    }
   },
   "outputs": [],
   "source": [
    "sns.heatmap(titanic_age_summary, cmap=\"Reds\")"
   ]
  },
  {
   "cell_type": "markdown",
   "metadata": {
    "deletable": true,
    "editable": true
   },
   "source": [
    "__lmplot() regressions__"
   ]
  },
  {
   "cell_type": "markdown",
   "metadata": {
    "deletable": true,
    "editable": true
   },
   "source": [
    "`Figure` level function to generate a regression model fit across a FacetGrid:"
   ]
  },
  {
   "cell_type": "code",
   "execution_count": null,
   "metadata": {
    "deletable": true,
    "editable": true,
    "jupyter": {
     "outputs_hidden": false
    }
   },
   "outputs": [],
   "source": [
    "g = sns.lmplot(\n",
    "    data=titanic, x=\"Age\", y=\"Fare\", \n",
    "    hue=\"Survived\", col=\"Survived\",  # hue=\"Pclass\"\n",
    ")"
   ]
  },
  {
   "cell_type": "markdown",
   "metadata": {
    "deletable": true,
    "editable": true
   },
   "source": [
    "# Need more Seaborn inspiration? "
   ]
  },
  {
   "cell_type": "markdown",
   "metadata": {
    "deletable": true,
    "editable": true
   },
   "source": [
    "<div class=\"alert alert-info\" style=\"font-size:18px\">\n",
    "\n",
    "__Remember__\n",
    "\n",
    "[Seaborn gallery](https://seaborn.pydata.org/examples/index.html) and package [documentation](https://seaborn.pydata.org/index.html)\n",
    "\n",
    "</div>"
   ]
  },
  {
   "cell_type": "markdown",
   "metadata": {
    "deletable": true,
    "editable": true
   },
   "source": [
    "<a id='this_is_tidy'></a>"
   ]
  },
  {
   "cell_type": "markdown",
   "metadata": {
    "deletable": true,
    "editable": true
   },
   "source": [
    "# Recap: what is `tidy`?"
   ]
  },
  {
   "cell_type": "markdown",
   "metadata": {
    "deletable": true,
    "editable": true
   },
   "source": [
    "If you're wondering what *tidy* data representations are, you can read the scientific paper by Hadley Wickham, http://vita.had.co.nz/papers/tidy-data.pdf. \n",
    "\n",
    "Here, we just introduce the main principle very briefly:"
   ]
  },
  {
   "cell_type": "markdown",
   "metadata": {
    "deletable": true,
    "editable": true
   },
   "source": [
    "Compare:\n",
    "\n",
    "#### un-tidy\n",
    "        \n",
    "| WWTP | Treatment A | Treatment B |\n",
    "|:------|-------------|-------------|\n",
    "| Destelbergen | 8.  | 6.3 |\n",
    "| Landegem | 7.5  | 5.2 |\n",
    "| Dendermonde | 8.3  | 6.2 |\n",
    "| Eeklo | 6.5  | 7.2 |\n",
    "\n",
    "*versus*\n",
    "\n",
    "#### tidy\n",
    "\n",
    "| WWTP | Treatment | pH |\n",
    "|:------|:-------------:|:-------------:|\n",
    "| Destelbergen | A  | 8. |\n",
    "| Landegem | A  | 7.5 |\n",
    "| Dendermonde | A  | 8.3 |\n",
    "| Eeklo | A  | 6.5 |\n",
    "| Destelbergen | B  | 6.3 |\n",
    "| Landegem | B  | 5.2 |\n",
    "| Dendermonde | B  | 6.2 |\n",
    "| Eeklo | B  | 7.2 |"
   ]
  },
  {
   "cell_type": "markdown",
   "metadata": {
    "deletable": true,
    "editable": true
   },
   "source": [
    "This is sometimes also referred as *short* versus *long* format for a specific variable... Seaborn (and other grammar of graphics libraries) work better on `tidy` (long format) data, as it better supports `groupby`-like transactions!"
   ]
  },
  {
   "cell_type": "markdown",
   "metadata": {
    "deletable": true,
    "editable": true
   },
   "source": [
    "<div class=\"alert alert-info\" style=\"font-size:16px\">\n",
    "\n",
    "**Remember:**\n",
    "\n",
    "A tidy data set is setup as follows:\n",
    " \n",
    "- Each <code>variable</code> forms a <b>column</b> and contains <code>values</code>\n",
    "- Each <code>observation</code> forms a <b>row</b>\n",
    "- Each type of <code>observational unit</code> forms a <b>table</b>.\n",
    "\n",
    "</div>\n",
    "\n"
   ]
  }
 ],
 "metadata": {
  "celltoolbar": "Nbtutor - export exercises",
  "kernelspec": {
   "display_name": "Python 3",
   "language": "python",
   "name": "python3"
  },
  "language_info": {
   "codemirror_mode": {
    "name": "ipython",
    "version": 3
   },
   "file_extension": ".py",
   "mimetype": "text/x-python",
   "name": "python",
   "nbconvert_exporter": "python",
   "pygments_lexer": "ipython3",
   "version": "3.8.6"
  },
  "nav_menu": {},
  "toc": {
   "navigate_menu": true,
   "number_sections": true,
   "sideBar": true,
   "threshold": 6,
   "toc_cell": false,
   "toc_section_display": "block",
   "toc_window_display": true
  },
  "toc_position": {
   "height": "860px",
   "left": "0px",
   "right": "1657px",
   "top": "106px",
   "width": "212px"
  }
 },
 "nbformat": 4,
 "nbformat_minor": 4
}
