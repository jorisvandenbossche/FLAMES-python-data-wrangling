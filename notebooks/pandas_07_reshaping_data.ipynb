{
 "cells": [
  {
   "cell_type": "markdown",
   "id": "a7d814f2",
   "metadata": {},
   "source": [
    "<p><font size=\"6\"><b>07 - Pandas: Reshaping data</b></font></p>\n",
    "\n",
    "\n",
    "> *© 2021, Joris Van den Bossche and Stijn Van Hoey  (<mailto:jorisvandenbossche@gmail.com>, <mailto:stijnvanhoey@gmail.com>). Licensed under [CC BY 4.0 Creative Commons](http://creativecommons.org/licenses/by/4.0/)*\n",
    "\n",
    "---"
   ]
  },
  {
   "cell_type": "code",
   "execution_count": null,
   "id": "270512af",
   "metadata": {},
   "outputs": [],
   "source": [
    "import pandas as pd\n",
    "import numpy as np\n",
    "import matplotlib.pyplot as plt"
   ]
  },
  {
   "cell_type": "markdown",
   "id": "7375e157",
   "metadata": {},
   "source": [
    "# Pivoting data"
   ]
  },
  {
   "cell_type": "markdown",
   "id": "8482ab32",
   "metadata": {},
   "source": [
    "## Cfr. excel"
   ]
  },
  {
   "cell_type": "markdown",
   "id": "10656c32",
   "metadata": {},
   "source": [
    "People who know Excel, probably know the **Pivot** functionality:"
   ]
  },
  {
   "cell_type": "markdown",
   "id": "29fcba52",
   "metadata": {},
   "source": [
    "![](../img/pandas/pivot_excel.png)"
   ]
  },
  {
   "cell_type": "markdown",
   "id": "bd6a8804",
   "metadata": {},
   "source": [
    "The data of the table:"
   ]
  },
  {
   "cell_type": "code",
   "execution_count": null,
   "id": "190e9ad0",
   "metadata": {},
   "outputs": [],
   "source": [
    "excelample = pd.DataFrame({'Month': [\"January\", \"January\", \"January\", \"January\", \n",
    "                                  \"February\", \"February\", \"February\", \"February\", \n",
    "                                  \"March\", \"March\", \"March\", \"March\"],\n",
    "                   'Category': [\"Transportation\", \"Grocery\", \"Household\", \"Entertainment\",\n",
    "                                \"Transportation\", \"Grocery\", \"Household\", \"Entertainment\",\n",
    "                                \"Transportation\", \"Grocery\", \"Household\", \"Entertainment\"],\n",
    "                   'Amount': [74., 235., 175., 100., 115., 240., 225., 125., 90., 260., 200., 120.]})"
   ]
  },
  {
   "cell_type": "code",
   "execution_count": null,
   "id": "f3acdb03",
   "metadata": {},
   "outputs": [],
   "source": [
    "excelample"
   ]
  },
  {
   "cell_type": "code",
   "execution_count": null,
   "id": "849ae13d",
   "metadata": {},
   "outputs": [],
   "source": [
    "excelample_pivot = excelample.pivot(index=\"Category\", columns=\"Month\", values=\"Amount\")\n",
    "excelample_pivot"
   ]
  },
  {
   "cell_type": "markdown",
   "id": "83f21fde",
   "metadata": {},
   "source": [
    "Interested in *Grand totals*?"
   ]
  },
  {
   "cell_type": "code",
   "execution_count": null,
   "id": "6ed80893",
   "metadata": {},
   "outputs": [],
   "source": [
    "# sum columns\n",
    "excelample_pivot.sum(axis=1)"
   ]
  },
  {
   "cell_type": "code",
   "execution_count": null,
   "id": "68d18057",
   "metadata": {},
   "outputs": [],
   "source": [
    "# sum rows\n",
    "excelample_pivot.sum(axis=0)"
   ]
  },
  {
   "cell_type": "markdown",
   "id": "664adb8e",
   "metadata": {},
   "source": [
    "## Pivot is just reordering your data:"
   ]
  },
  {
   "cell_type": "markdown",
   "id": "71257fbf",
   "metadata": {},
   "source": [
    "Small subsample of the titanic dataset:"
   ]
  },
  {
   "cell_type": "code",
   "execution_count": null,
   "id": "f23c70b6",
   "metadata": {},
   "outputs": [],
   "source": [
    "df = pd.DataFrame({'Fare': [7.25, 71.2833, 51.8625, 30.0708, 7.8542, 13.0],\n",
    "                   'Pclass': [3, 1, 1, 2, 3, 2],\n",
    "                   'Sex': ['male', 'female', 'male', 'female', 'female', 'male'],\n",
    "                   'Survived': [0, 1, 0, 1, 0, 1]})"
   ]
  },
  {
   "cell_type": "code",
   "execution_count": null,
   "id": "4435bd03",
   "metadata": {},
   "outputs": [],
   "source": [
    "df"
   ]
  },
  {
   "cell_type": "code",
   "execution_count": null,
   "id": "3a999ee9",
   "metadata": {},
   "outputs": [],
   "source": [
    "df.pivot(index='Pclass', columns='Sex', values='Fare')"
   ]
  },
  {
   "cell_type": "code",
   "execution_count": null,
   "id": "47c55cc9",
   "metadata": {},
   "outputs": [],
   "source": [
    "df.pivot(index='Pclass', columns='Sex', values='Survived')"
   ]
  },
  {
   "cell_type": "markdown",
   "id": "fad032e0",
   "metadata": {},
   "source": [
    "So far, so good..."
   ]
  },
  {
   "cell_type": "markdown",
   "id": "947176ee",
   "metadata": {},
   "source": [
    "Let's now use the full titanic dataset:"
   ]
  },
  {
   "cell_type": "code",
   "execution_count": null,
   "id": "f5eeb481",
   "metadata": {},
   "outputs": [],
   "source": [
    "df = pd.read_csv(\"data/titanic.csv\")"
   ]
  },
  {
   "cell_type": "code",
   "execution_count": null,
   "id": "3e902ec3",
   "metadata": {},
   "outputs": [],
   "source": [
    "df.head()"
   ]
  },
  {
   "cell_type": "markdown",
   "id": "65722c82",
   "metadata": {},
   "source": [
    "And try the same pivot (*no worries about the try-except, this is here just used to catch a loooong error*):"
   ]
  },
  {
   "cell_type": "code",
   "execution_count": null,
   "id": "563610d4",
   "metadata": {},
   "outputs": [],
   "source": [
    "try:\n",
    "    df.pivot(index='Sex', columns='Pclass', values='Fare')\n",
    "except Exception as e:\n",
    "    print(\"Exception!\", e)"
   ]
  },
  {
   "cell_type": "markdown",
   "id": "d95ce712",
   "metadata": {},
   "source": [
    "This does not work, because we would end up with multiple values for one cell of the resulting frame, as the error says: `duplicated` values for the columns in the selection. As an example, consider the following rows of our three columns of interest:"
   ]
  },
  {
   "cell_type": "code",
   "execution_count": null,
   "id": "2948f0eb",
   "metadata": {},
   "outputs": [],
   "source": [
    "df.loc[[1, 3], [\"Sex\", 'Pclass', 'Fare']]"
   ]
  },
  {
   "cell_type": "markdown",
   "id": "a1f43b95",
   "metadata": {},
   "source": [
    "Since `pivot` is just restructering data, where would both values of `Fare` for the same combination of `Sex` and `Pclass` need to go?\n",
    "\n",
    "Well, they need to be combined, according to an `aggregation` functionality, which is supported by the function`pivot_table`"
   ]
  },
  {
   "cell_type": "markdown",
   "id": "22469764",
   "metadata": {},
   "source": [
    "<div class=\"alert alert-danger\">\n",
    "\n",
    "<b>NOTE</b>:\n",
    "\n",
    " <ul>\n",
    "  <li><b>Pivot</b> is purely restructering: a single value for each index/column combination is required.</li>\n",
    "</ul>\n",
    "\n",
    "</div>"
   ]
  },
  {
   "cell_type": "markdown",
   "id": "a83de3ae",
   "metadata": {},
   "source": [
    "# Pivot tables - aggregating while pivoting"
   ]
  },
  {
   "cell_type": "code",
   "execution_count": null,
   "id": "ae2f767c",
   "metadata": {},
   "outputs": [],
   "source": [
    "df = pd.read_csv(\"data/titanic.csv\")"
   ]
  },
  {
   "cell_type": "code",
   "execution_count": null,
   "id": "4109424e",
   "metadata": {},
   "outputs": [],
   "source": [
    "df.pivot_table(index='Sex', columns='Pclass', values='Fare')"
   ]
  },
  {
   "cell_type": "markdown",
   "id": "167a6298",
   "metadata": {},
   "source": [
    "<div class=\"alert alert-info\">\n",
    "\n",
    "<b>REMEMBER</b>:\n",
    "\n",
    "* By default, `pivot_table` takes the **mean** of all values that would end up into one cell. However, you can also specify other aggregation functions using the `aggfunc` keyword.\n",
    "\n",
    "</div>"
   ]
  },
  {
   "cell_type": "code",
   "execution_count": null,
   "id": "56e3a68e",
   "metadata": {},
   "outputs": [],
   "source": [
    "df.pivot_table(index='Sex', columns='Pclass', \n",
    "               values='Fare', aggfunc='max')"
   ]
  },
  {
   "cell_type": "code",
   "execution_count": null,
   "id": "d648d80f",
   "metadata": {},
   "outputs": [],
   "source": [
    "df.pivot_table(index='Sex', columns='Pclass', \n",
    "               values='Fare', aggfunc='count')"
   ]
  },
  {
   "cell_type": "markdown",
   "id": "a68120dd",
   "metadata": {},
   "source": [
    "<div class=\"alert alert-info\">\n",
    "\n",
    "<b>REMEMBER</b>:\n",
    "\n",
    " <ul>\n",
    "  <li>There is a shortcut function for a <code>pivot_table</code> with a <code>aggfunc='count'</code> as aggregation: <code>crosstab</code></li>\n",
    "</ul>\n",
    "</div>"
   ]
  },
  {
   "cell_type": "code",
   "execution_count": null,
   "id": "b9cf345c",
   "metadata": {},
   "outputs": [],
   "source": [
    "pd.crosstab(index=df['Sex'], columns=df['Pclass'])"
   ]
  },
  {
   "cell_type": "markdown",
   "id": "5916201b",
   "metadata": {
    "clear_cell": false
   },
   "source": [
    "<div class=\"alert alert-success\">\n",
    "\n",
    "<b>EXERCISE</b>:\n",
    "\n",
    " <ul>\n",
    "  <li>Make a pivot table with the survival rates for Pclass vs Sex.</li>\n",
    "</ul>\n",
    "</div>"
   ]
  },
  {
   "cell_type": "code",
   "execution_count": null,
   "id": "f1c056b4",
   "metadata": {
    "tags": [
     "nbtutor-solution"
    ]
   },
   "outputs": [],
   "source": [
    "# %load _solutions/pandas_07_reshaping_data1.py"
   ]
  },
  {
   "cell_type": "code",
   "execution_count": null,
   "id": "d2137b87",
   "metadata": {
    "tags": [
     "nbtutor-solution"
    ]
   },
   "outputs": [],
   "source": [
    "# %load _solutions/pandas_07_reshaping_data2.py"
   ]
  },
  {
   "cell_type": "markdown",
   "id": "fc08704b",
   "metadata": {
    "clear_cell": false
   },
   "source": [
    "<div class=\"alert alert-success\">\n",
    "\n",
    "<b>EXERCISE</b>:\n",
    "\n",
    " <ul>\n",
    "  <li>Make a table of the median Fare payed by aged/underaged vs Sex.</li>\n",
    "</ul>\n",
    "</div>"
   ]
  },
  {
   "cell_type": "code",
   "execution_count": null,
   "id": "a369f84c",
   "metadata": {
    "tags": [
     "nbtutor-solution"
    ]
   },
   "outputs": [],
   "source": [
    "# %load _solutions/pandas_07_reshaping_data3.py"
   ]
  },
  {
   "cell_type": "code",
   "execution_count": null,
   "id": "a32d5f69",
   "metadata": {
    "tags": [
     "nbtutor-solution"
    ]
   },
   "outputs": [],
   "source": [
    "# %load _solutions/pandas_07_reshaping_data4.py"
   ]
  },
  {
   "cell_type": "markdown",
   "id": "0952ee18",
   "metadata": {},
   "source": [
    "# Melt - from pivot table to long or tidy format"
   ]
  },
  {
   "cell_type": "markdown",
   "id": "399ca374",
   "metadata": {},
   "source": [
    "The `melt` function performs the inverse operation of a `pivot`. This can be used to make your frame longer, i.e. to make a *tidy* version of your data."
   ]
  },
  {
   "cell_type": "code",
   "execution_count": null,
   "id": "0112108d",
   "metadata": {},
   "outputs": [],
   "source": [
    "pivoted = df.pivot_table(index='Sex', columns='Pclass', values='Fare').reset_index()\n",
    "pivoted.columns.name = None"
   ]
  },
  {
   "cell_type": "code",
   "execution_count": null,
   "id": "0a1c2d62",
   "metadata": {},
   "outputs": [],
   "source": [
    "pivoted"
   ]
  },
  {
   "cell_type": "markdown",
   "id": "850d7dbe",
   "metadata": {},
   "source": [
    "Assume we have a DataFrame like the above. The observations (the average Fare people payed) are spread over different columns. In a tidy dataset, each observation is stored in one row. To obtain this, we can use the `melt` function:"
   ]
  },
  {
   "cell_type": "code",
   "execution_count": null,
   "id": "f4c39b5d",
   "metadata": {},
   "outputs": [],
   "source": [
    "pd.melt(pivoted)"
   ]
  },
  {
   "cell_type": "markdown",
   "id": "8cf8ee89",
   "metadata": {},
   "source": [
    "As you can see above, the `melt` function puts all column labels in one column, and all values in a second column.\n",
    "\n",
    "In this case, this is not fully what we want. We would like to keep the 'Sex' column separately:"
   ]
  },
  {
   "cell_type": "code",
   "execution_count": null,
   "id": "46fc91cd",
   "metadata": {},
   "outputs": [],
   "source": [
    "pd.melt(pivoted, id_vars=['Sex']) #, var_name='Pclass', value_name='Fare')"
   ]
  },
  {
   "cell_type": "markdown",
   "id": "5b2c8ee2",
   "metadata": {},
   "source": [
    "# Reshaping with `stack` and `unstack`"
   ]
  },
  {
   "cell_type": "markdown",
   "id": "657c8b41",
   "metadata": {},
   "source": [
    "The docs say:\n",
    "\n",
    "> Pivot a level of the (possibly hierarchical) column labels, returning a\n",
    "DataFrame (or Series in the case of an object with a single level of\n",
    "column labels) having a hierarchical index with a new inner-most level\n",
    "of row labels.\n",
    "\n",
    "Indeed... \n",
    "<img src=\"../img/pandas/schema-stack.svg\" width=50%>\n",
    "\n",
    "Before we speak about `hierarchical index`, first check it in practice on the following dummy example:"
   ]
  },
  {
   "cell_type": "code",
   "execution_count": null,
   "id": "6d0a76ae",
   "metadata": {},
   "outputs": [],
   "source": [
    "df = pd.DataFrame({'A':['one', 'one', 'two', 'two'], \n",
    "                   'B':['a', 'b', 'a', 'b'], \n",
    "                   'C':range(4)})\n",
    "df"
   ]
  },
  {
   "cell_type": "markdown",
   "id": "570d33f0",
   "metadata": {},
   "source": [
    "To use `stack`/`unstack`, we need the values we want to shift from rows to columns or the other way around as the index:"
   ]
  },
  {
   "cell_type": "code",
   "execution_count": null,
   "id": "8942822d",
   "metadata": {},
   "outputs": [],
   "source": [
    "df = df.set_index(['A', 'B']) # Indeed, you can combine two indices\n",
    "df"
   ]
  },
  {
   "cell_type": "code",
   "execution_count": null,
   "id": "0862a7db",
   "metadata": {},
   "outputs": [],
   "source": [
    "result = df['C'].unstack()\n",
    "result"
   ]
  },
  {
   "cell_type": "code",
   "execution_count": null,
   "id": "c215f8af",
   "metadata": {},
   "outputs": [],
   "source": [
    "df = result.stack().reset_index(name='C')\n",
    "df"
   ]
  },
  {
   "cell_type": "markdown",
   "id": "c4b57a70",
   "metadata": {},
   "source": [
    "<div class=\"alert alert-info\">\n",
    "\n",
    "<b>REMEMBER</b>:\n",
    "\n",
    " <ul>\n",
    "  <li><b>stack</b>: make your data <i>longer</i> and <i>smaller</i> </li>\n",
    "  <li><b>unstack</b>: make your data <i>shorter</i> and <i>wider</i> </li>\n",
    "</ul>\n",
    "</div>"
   ]
  },
  {
   "cell_type": "markdown",
   "id": "6b10d7b3",
   "metadata": {},
   "source": [
    "## Mimick pivot table"
   ]
  },
  {
   "cell_type": "markdown",
   "id": "0d836b8f",
   "metadata": {},
   "source": [
    "To better understand and reason about pivot tables, we can express this method as a combination of more basic steps. In short, the pivot is a convenient way of expressing the combination of a `groupby` and `stack/unstack`."
   ]
  },
  {
   "cell_type": "code",
   "execution_count": null,
   "id": "bd77bcfc",
   "metadata": {},
   "outputs": [],
   "source": [
    "df = pd.read_csv(\"data/titanic.csv\")"
   ]
  },
  {
   "cell_type": "code",
   "execution_count": null,
   "id": "46b68202",
   "metadata": {},
   "outputs": [],
   "source": [
    "df.head()"
   ]
  },
  {
   "cell_type": "code",
   "execution_count": null,
   "id": "cecf662e",
   "metadata": {},
   "outputs": [],
   "source": [
    "df.pivot_table(index='Pclass', columns='Sex', \n",
    "               values='Survived', aggfunc='mean')"
   ]
  },
  {
   "cell_type": "markdown",
   "id": "513101a6",
   "metadata": {},
   "source": [
    "<div class=\"alert alert-success\">\n",
    "\n",
    "<b>EXERCISE</b>:\n",
    "\n",
    " <ul>\n",
    "  <li>Get the same result as above based on a combination of `groupby` and `unstack`</li>\n",
    "  <li>First use `groupby` to calculate the survival ratio for all groups`unstack`</li>\n",
    "  <li>Then, use `unstack` to reshape the output of the groupby operation</li>\n",
    "</ul>\n",
    "</div>"
   ]
  },
  {
   "cell_type": "code",
   "execution_count": null,
   "id": "0fee61fb",
   "metadata": {
    "tags": [
     "nbtutor-solution"
    ]
   },
   "outputs": [],
   "source": [
    "# %load _solutions/pandas_07_reshaping_data5.py"
   ]
  },
  {
   "cell_type": "markdown",
   "id": "5ef0f498",
   "metadata": {},
   "source": [
    "# [OPTIONAL] Exercises: use the reshaping methods with the movie data"
   ]
  },
  {
   "cell_type": "markdown",
   "id": "45ce16c2",
   "metadata": {},
   "source": [
    "These exercises are based on the [PyCon tutorial of Brandon Rhodes](https://github.com/brandon-rhodes/pycon-pandas-tutorial/) (so credit to him!) and the datasets he prepared for that. You can download these data from here: [`titles.csv`](https://drive.google.com/file/d/0B3G70MlBnCgKajNMa1pfSzN6Q3M/view?usp=sharing&resourcekey=0-EC8vCWiiKisQIkhYLBvOpQ) and [`cast.csv`](https://drive.google.com/file/d/0B3G70MlBnCgKal9UYTJSR2ZhSW8/view?usp=sharing&resourcekey=0-w_mAR11xVeXm84sRZtyAhg) and put them in the `/data` folder."
   ]
  },
  {
   "cell_type": "code",
   "execution_count": null,
   "id": "255ff480",
   "metadata": {},
   "outputs": [],
   "source": [
    "cast = pd.read_csv('data/cast.csv')\n",
    "cast.head()"
   ]
  },
  {
   "cell_type": "code",
   "execution_count": null,
   "id": "0a6b5757",
   "metadata": {},
   "outputs": [],
   "source": [
    "titles = pd.read_csv('data/titles.csv')\n",
    "titles.head()"
   ]
  },
  {
   "cell_type": "markdown",
   "id": "f34562cb",
   "metadata": {},
   "source": [
    "<div class=\"alert alert-success\">\n",
    "\n",
    "<b>EXERCISE</b>:\n",
    "\n",
    " <ul>\n",
    "  <li>Plot the number of actor roles each year and the number of actress roles each year over the whole period of available movie data.</li>\n",
    "</ul>\n",
    "</div>"
   ]
  },
  {
   "cell_type": "code",
   "execution_count": null,
   "id": "97cd998b",
   "metadata": {
    "tags": [
     "nbtutor-solution"
    ]
   },
   "outputs": [],
   "source": [
    "# %load _solutions/pandas_07_reshaping_data6.py"
   ]
  },
  {
   "cell_type": "code",
   "execution_count": null,
   "id": "165b1114",
   "metadata": {
    "tags": [
     "nbtutor-solution"
    ]
   },
   "outputs": [],
   "source": [
    "# %load _solutions/pandas_07_reshaping_data7.py"
   ]
  },
  {
   "cell_type": "code",
   "execution_count": null,
   "id": "831a9220",
   "metadata": {
    "tags": [
     "nbtutor-solution"
    ]
   },
   "outputs": [],
   "source": [
    "# %load _solutions/pandas_07_reshaping_data8.py"
   ]
  },
  {
   "cell_type": "markdown",
   "id": "581b3d08",
   "metadata": {},
   "source": [
    "<div class=\"alert alert-success\">\n",
    "\n",
    "<b>EXERCISE</b>:\n",
    "\n",
    " <ul>\n",
    "  <li>Plot the number of actor roles each year and the number of actress roles each year. Use kind='area' as plot type</li>\n",
    "</ul>\n",
    "</div>"
   ]
  },
  {
   "cell_type": "code",
   "execution_count": null,
   "id": "6426434f",
   "metadata": {
    "tags": [
     "nbtutor-solution"
    ]
   },
   "outputs": [],
   "source": [
    "# %load _solutions/pandas_07_reshaping_data9.py"
   ]
  },
  {
   "cell_type": "markdown",
   "id": "44a3b20b",
   "metadata": {},
   "source": [
    "<div class=\"alert alert-success\">\n",
    "\n",
    "<b>EXERCISE</b>:\n",
    "\n",
    " <ul>\n",
    "  <li>Plot the fraction of roles that have been 'actor' roles each year over the whole period of available movie data.</li>\n",
    "</ul>\n",
    "</div>"
   ]
  },
  {
   "cell_type": "code",
   "execution_count": null,
   "id": "391718f5",
   "metadata": {
    "tags": [
     "nbtutor-solution"
    ]
   },
   "outputs": [],
   "source": [
    "# %load _solutions/pandas_07_reshaping_data10.py"
   ]
  },
  {
   "cell_type": "markdown",
   "id": "f51ca3d3",
   "metadata": {},
   "source": [
    "<div class=\"alert alert-success\">\n",
    "\n",
    "<b>EXERCISE</b>:\n",
    "\n",
    " <ul>\n",
    "  <li>Define a year as a \"Superman year\" when films of that year feature more Superman characters than Batman characters. How many years in film history have been Superman years?</li>\n",
    "</ul>\n",
    "</div>"
   ]
  },
  {
   "cell_type": "code",
   "execution_count": null,
   "id": "d49401d5",
   "metadata": {
    "tags": [
     "nbtutor-solution"
    ]
   },
   "outputs": [],
   "source": [
    "# %load _solutions/pandas_07_reshaping_data11.py"
   ]
  },
  {
   "cell_type": "code",
   "execution_count": null,
   "id": "8c75667b",
   "metadata": {
    "tags": [
     "nbtutor-solution"
    ]
   },
   "outputs": [],
   "source": [
    "# %load _solutions/pandas_07_reshaping_data12.py"
   ]
  }
 ],
 "metadata": {
  "jupytext": {
   "formats": "ipynb,md:myst"
  },
  "kernelspec": {
   "display_name": "Python 3 (ipykernel)",
   "language": "python",
   "name": "python3"
  },
  "language_info": {
   "codemirror_mode": {
    "name": "ipython",
    "version": 3
   },
   "file_extension": ".py",
   "mimetype": "text/x-python",
   "name": "python",
   "nbconvert_exporter": "python",
   "pygments_lexer": "ipython3",
   "version": "3.8.12"
  },
  "widgets": {
   "application/vnd.jupyter.widget-state+json": {
    "state": {},
    "version_major": 2,
    "version_minor": 0
   }
  }
 },
 "nbformat": 4,
 "nbformat_minor": 5
}
