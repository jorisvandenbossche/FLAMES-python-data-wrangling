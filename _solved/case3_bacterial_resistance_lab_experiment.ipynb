{
 "cells": [
  {
   "cell_type": "markdown",
   "metadata": {
    "deletable": true,
    "editable": true
   },
   "source": [
    "<p><font size=\"6\"><b>CASE - Bacterial resistance experiment</b></font></p>\n",
    "\n",
    "\n",
    "> *Data wrangling in Python*  \n",
    "> *November, 2020*\n",
    ">\n",
    "> *© 2020, Joris Van den Bossche and Stijn Van Hoey  (<mailto:jorisvandenbossche@gmail.com>, <mailto:stijnvanhoey@gmail.com>). Licensed under [CC BY 4.0 Creative Commons](http://creativecommons.org/licenses/by/4.0/)*\n",
    "\n",
    "---"
   ]
  },
  {
   "cell_type": "markdown",
   "metadata": {
    "deletable": true,
    "editable": true
   },
   "source": [
    "Hzllo!!\n",
    "\n",
    "In this case study, we will make use of the open data, affiliated to the following [journal article](http://rsbl.royalsocietypublishing.org/content/12/5/20160064):\n",
    "\n",
    ">Arias-Sánchez FI, Hall A (2016) Effects of antibiotic resistance alleles on bacterial evolutionary responses to viral parasites. Biology Letters 12(5): 20160064. https://doi.org/10.1098/rsbl.2016.0064\n",
    "\n"
   ]
  },
  {
   "cell_type": "markdown",
   "metadata": {
    "deletable": true,
    "editable": true
   },
   "source": [
    "<img src=\"../img/bacteriophage.jpeg\">"
   ]
  },
  {
   "cell_type": "markdown",
   "metadata": {
    "deletable": true,
    "editable": true
   },
   "source": [
    "Check the full paper on the [web version](http://rsbl.royalsocietypublishing.org/content/12/5/20160064). The study handles:\n",
    "> Antibiotic resistance has wide-ranging effects on bacterial phenotypes and evolution. However, the influence of antibiotic resistance on bacterial responses to parasitic viruses remains unclear, despite the ubiquity of such viruses in nature and current interest in therapeutic applications. We experimentally investigated this by exposing various Escherichia coli genotypes, including eight antibiotic-resistant genotypes and a mutator, to different viruses (lytic bacteriophages). Across 960 populations, we measured changes in population density and sensitivity to viruses, and tested whether variation among bacterial genotypes was explained by their relative growth in the absence of parasites, or mutation rate towards phage resistance measured by fluctuation tests for each phage"
   ]
  },
  {
   "cell_type": "code",
   "execution_count": 1,
   "metadata": {
    "deletable": true,
    "editable": true
   },
   "outputs": [],
   "source": [
    "import pandas as pd\n",
    "import seaborn as sns\n",
    "import matplotlib.pyplot as plt"
   ]
  },
  {
   "cell_type": "markdown",
   "metadata": {
    "deletable": true,
    "editable": true
   },
   "source": [
    "## Reading and processing the data"
   ]
  },
  {
   "cell_type": "markdown",
   "metadata": {
    "deletable": true,
    "editable": true
   },
   "source": [
    "The data is available on [Dryad](http://www.datadryad.org/resource/doi:10.5061/dryad.90qb7.3), a general purpose data repository providing all kinds of data sets linked to journal papers. The downloaded data is available in this repository in the `data` folder as an excel-file called `Dryad_Arias_Hall_v3.xlsx`.\n",
    "\n",
    "For the exercises, two sheets of the excel file will be used: \n",
    "* `Main experiment`: \n",
    "\n",
    "\n",
    "| Variable name | Description |\n",
    "|---------------:|:-------------|\n",
    "|**AB_r** |\tAntibotic resistance |\n",
    "|**Bacterial_genotype** | Bacterial genotype |\n",
    "|**Phage_t** |\tPhage treatment |\n",
    "|**OD_0h** |\tOptical density at the start of the experiment (0h) |\n",
    "|**OD_20h**\t| Optical density after 20h |\n",
    "|**OD_72h**\t| Optical density at the end of the experiment (72h) |\n",
    "|**Survival_72h** |\tPopulation survival at 72h (1=survived, 0=extinct) |\n",
    "|**PhageR_72h**\t| Bacterial sensitivity to the phage they were exposed to (0=no bacterial growth, 1= colony formation in the presence of phage) |\n",
    "\n",
    "* `Falcor`: we focus on a subset of the columns:\n",
    "\n",
    "| Variable name | Description |\n",
    "|---------------:|:-------------|\n",
    "| **Phage**  | Bacteriophage used in the fluctuation test (T4, T7 and lambda) |\n",
    "| **Bacterial_genotype** | Bacterial genotype. |\n",
    "| **log10 Mc** |\tLog 10 of corrected mutation rate |\n",
    "| **log10 UBc** |\tLog 10 of corrected upper bound |\n",
    "| **log10 LBc** |\tLog 10 of corrected lower bound |"
   ]
  },
  {
   "cell_type": "markdown",
   "metadata": {
    "deletable": true,
    "editable": true
   },
   "source": [
    "Reading the `main experiment` data set from the corresponding sheet:"
   ]
  },
  {
   "cell_type": "code",
   "execution_count": 2,
   "metadata": {
    "collapsed": false,
    "deletable": true,
    "editable": true,
    "jupyter": {
     "outputs_hidden": false
    }
   },
   "outputs": [
    {
     "data": {
      "text/html": [
       "<div>\n",
       "<style scoped>\n",
       "    .dataframe tbody tr th:only-of-type {\n",
       "        vertical-align: middle;\n",
       "    }\n",
       "\n",
       "    .dataframe tbody tr th {\n",
       "        vertical-align: top;\n",
       "    }\n",
       "\n",
       "    .dataframe thead th {\n",
       "        text-align: right;\n",
       "    }\n",
       "</style>\n",
       "<table border=\"1\" class=\"dataframe\">\n",
       "  <thead>\n",
       "    <tr style=\"text-align: right;\">\n",
       "      <th></th>\n",
       "      <th>AB_r</th>\n",
       "      <th>Bacterial_genotype</th>\n",
       "      <th>Phage_t</th>\n",
       "      <th>OD_0h</th>\n",
       "      <th>OD_20h</th>\n",
       "      <th>OD_72h</th>\n",
       "      <th>Survival_72h</th>\n",
       "      <th>PhageR_72h</th>\n",
       "    </tr>\n",
       "  </thead>\n",
       "  <tbody>\n",
       "    <tr>\n",
       "      <th>0</th>\n",
       "      <td>Rif</td>\n",
       "      <td>D516G</td>\n",
       "      <td>C_noPhage</td>\n",
       "      <td>0.1971</td>\n",
       "      <td>0.5960</td>\n",
       "      <td>0.6900</td>\n",
       "      <td>1</td>\n",
       "      <td>NaN</td>\n",
       "    </tr>\n",
       "    <tr>\n",
       "      <th>1</th>\n",
       "      <td>Rif</td>\n",
       "      <td>D516G</td>\n",
       "      <td>C_noPhage</td>\n",
       "      <td>0.1593</td>\n",
       "      <td>0.5702</td>\n",
       "      <td>0.6989</td>\n",
       "      <td>1</td>\n",
       "      <td>NaN</td>\n",
       "    </tr>\n",
       "    <tr>\n",
       "      <th>2</th>\n",
       "      <td>Rif</td>\n",
       "      <td>D516G</td>\n",
       "      <td>C_noPhage</td>\n",
       "      <td>0.0926</td>\n",
       "      <td>0.6613</td>\n",
       "      <td>0.6474</td>\n",
       "      <td>1</td>\n",
       "      <td>NaN</td>\n",
       "    </tr>\n",
       "    <tr>\n",
       "      <th>3</th>\n",
       "      <td>Rif</td>\n",
       "      <td>D516G</td>\n",
       "      <td>C_noPhage</td>\n",
       "      <td>0.1482</td>\n",
       "      <td>0.6465</td>\n",
       "      <td>0.7045</td>\n",
       "      <td>1</td>\n",
       "      <td>NaN</td>\n",
       "    </tr>\n",
       "    <tr>\n",
       "      <th>4</th>\n",
       "      <td>Rif</td>\n",
       "      <td>D516G</td>\n",
       "      <td>C_noPhage</td>\n",
       "      <td>0.0978</td>\n",
       "      <td>0.6752</td>\n",
       "      <td>0.6700</td>\n",
       "      <td>1</td>\n",
       "      <td>NaN</td>\n",
       "    </tr>\n",
       "    <tr>\n",
       "      <th>...</th>\n",
       "      <td>...</td>\n",
       "      <td>...</td>\n",
       "      <td>...</td>\n",
       "      <td>...</td>\n",
       "      <td>...</td>\n",
       "      <td>...</td>\n",
       "      <td>...</td>\n",
       "      <td>...</td>\n",
       "    </tr>\n",
       "    <tr>\n",
       "      <th>949</th>\n",
       "      <td>sensitive</td>\n",
       "      <td>MUT</td>\n",
       "      <td>T7</td>\n",
       "      <td>0.0417</td>\n",
       "      <td>0.0402</td>\n",
       "      <td>0.3179</td>\n",
       "      <td>1</td>\n",
       "      <td>1.0</td>\n",
       "    </tr>\n",
       "    <tr>\n",
       "      <th>950</th>\n",
       "      <td>sensitive</td>\n",
       "      <td>MUT</td>\n",
       "      <td>T7</td>\n",
       "      <td>0.0789</td>\n",
       "      <td>0.0276</td>\n",
       "      <td>0.3601</td>\n",
       "      <td>1</td>\n",
       "      <td>1.0</td>\n",
       "    </tr>\n",
       "    <tr>\n",
       "      <th>951</th>\n",
       "      <td>sensitive</td>\n",
       "      <td>MUT</td>\n",
       "      <td>T7</td>\n",
       "      <td>0.0875</td>\n",
       "      <td>0.0216</td>\n",
       "      <td>0.3709</td>\n",
       "      <td>1</td>\n",
       "      <td>1.0</td>\n",
       "    </tr>\n",
       "    <tr>\n",
       "      <th>952</th>\n",
       "      <td>sensitive</td>\n",
       "      <td>MUT</td>\n",
       "      <td>T7</td>\n",
       "      <td>0.0755</td>\n",
       "      <td>0.0418</td>\n",
       "      <td>0.3628</td>\n",
       "      <td>1</td>\n",
       "      <td>1.0</td>\n",
       "    </tr>\n",
       "    <tr>\n",
       "      <th>953</th>\n",
       "      <td>sensitive</td>\n",
       "      <td>MUT</td>\n",
       "      <td>T7</td>\n",
       "      <td>0.0401</td>\n",
       "      <td>0.0345</td>\n",
       "      <td>0.3321</td>\n",
       "      <td>1</td>\n",
       "      <td>1.0</td>\n",
       "    </tr>\n",
       "  </tbody>\n",
       "</table>\n",
       "<p>954 rows × 8 columns</p>\n",
       "</div>"
      ],
      "text/plain": [
       "          AB_r Bacterial_genotype    Phage_t   OD_0h  OD_20h  OD_72h  \\\n",
       "0          Rif              D516G  C_noPhage  0.1971  0.5960  0.6900   \n",
       "1          Rif              D516G  C_noPhage  0.1593  0.5702  0.6989   \n",
       "2          Rif              D516G  C_noPhage  0.0926  0.6613  0.6474   \n",
       "3          Rif              D516G  C_noPhage  0.1482  0.6465  0.7045   \n",
       "4          Rif              D516G  C_noPhage  0.0978  0.6752  0.6700   \n",
       "..         ...                ...        ...     ...     ...     ...   \n",
       "949  sensitive                MUT         T7  0.0417  0.0402  0.3179   \n",
       "950  sensitive                MUT         T7  0.0789  0.0276  0.3601   \n",
       "951  sensitive                MUT         T7  0.0875  0.0216  0.3709   \n",
       "952  sensitive                MUT         T7  0.0755  0.0418  0.3628   \n",
       "953  sensitive                MUT         T7  0.0401  0.0345  0.3321   \n",
       "\n",
       "     Survival_72h  PhageR_72h  \n",
       "0               1         NaN  \n",
       "1               1         NaN  \n",
       "2               1         NaN  \n",
       "3               1         NaN  \n",
       "4               1         NaN  \n",
       "..            ...         ...  \n",
       "949             1         1.0  \n",
       "950             1         1.0  \n",
       "951             1         1.0  \n",
       "952             1         1.0  \n",
       "953             1         1.0  \n",
       "\n",
       "[954 rows x 8 columns]"
      ]
     },
     "execution_count": 2,
     "metadata": {},
     "output_type": "execute_result"
    }
   ],
   "source": [
    "main_experiment = pd.read_excel(\"data/Dryad_Arias_Hall_v3.xlsx\", sheet_name=\"Main experiment\")\n",
    "main_experiment"
   ]
  },
  {
   "cell_type": "markdown",
   "metadata": {
    "deletable": true,
    "editable": true
   },
   "source": [
    "Read the `Falcor` data and subset the columns of interest:"
   ]
  },
  {
   "cell_type": "code",
   "execution_count": 3,
   "metadata": {
    "collapsed": false,
    "deletable": true,
    "editable": true,
    "jupyter": {
     "outputs_hidden": false
    }
   },
   "outputs": [
    {
     "data": {
      "text/html": [
       "<div>\n",
       "<style scoped>\n",
       "    .dataframe tbody tr th:only-of-type {\n",
       "        vertical-align: middle;\n",
       "    }\n",
       "\n",
       "    .dataframe tbody tr th {\n",
       "        vertical-align: top;\n",
       "    }\n",
       "\n",
       "    .dataframe thead th {\n",
       "        text-align: right;\n",
       "    }\n",
       "</style>\n",
       "<table border=\"1\" class=\"dataframe\">\n",
       "  <thead>\n",
       "    <tr style=\"text-align: right;\">\n",
       "      <th></th>\n",
       "      <th>Phage</th>\n",
       "      <th>Bacterial_genotype</th>\n",
       "      <th>log10 Mc</th>\n",
       "      <th>log10 UBc</th>\n",
       "      <th>log10 LBc</th>\n",
       "    </tr>\n",
       "  </thead>\n",
       "  <tbody>\n",
       "    <tr>\n",
       "      <th>0</th>\n",
       "      <td>T7</td>\n",
       "      <td>RP4</td>\n",
       "      <td>-6.908090</td>\n",
       "      <td>-6.766699</td>\n",
       "      <td>-7.086027</td>\n",
       "    </tr>\n",
       "    <tr>\n",
       "      <th>1</th>\n",
       "      <td>T7</td>\n",
       "      <td>RSF1010</td>\n",
       "      <td>-6.839080</td>\n",
       "      <td>-6.709209</td>\n",
       "      <td>-6.999176</td>\n",
       "    </tr>\n",
       "    <tr>\n",
       "      <th>2</th>\n",
       "      <td>T7</td>\n",
       "      <td>K43N</td>\n",
       "      <td>-7.072899</td>\n",
       "      <td>-6.933264</td>\n",
       "      <td>-7.248105</td>\n",
       "    </tr>\n",
       "    <tr>\n",
       "      <th>3</th>\n",
       "      <td>T7</td>\n",
       "      <td>S512F</td>\n",
       "      <td>-7.058820</td>\n",
       "      <td>-6.902430</td>\n",
       "      <td>-7.261299</td>\n",
       "    </tr>\n",
       "    <tr>\n",
       "      <th>4</th>\n",
       "      <td>T7</td>\n",
       "      <td>D516G</td>\n",
       "      <td>-6.920474</td>\n",
       "      <td>-6.722230</td>\n",
       "      <td>-7.199283</td>\n",
       "    </tr>\n",
       "  </tbody>\n",
       "</table>\n",
       "</div>"
      ],
      "text/plain": [
       "  Phage Bacterial_genotype  log10 Mc  log10 UBc  log10 LBc\n",
       "0    T7                RP4 -6.908090  -6.766699  -7.086027\n",
       "1    T7            RSF1010 -6.839080  -6.709209  -6.999176\n",
       "2    T7               K43N -7.072899  -6.933264  -7.248105\n",
       "3    T7              S512F -7.058820  -6.902430  -7.261299\n",
       "4    T7              D516G -6.920474  -6.722230  -7.199283"
      ]
     },
     "execution_count": 3,
     "metadata": {},
     "output_type": "execute_result"
    }
   ],
   "source": [
    "falcor = pd.read_excel(\"data/Dryad_Arias_Hall_v3.xlsx\", sheet_name=\"Falcor\", \n",
    "                       skiprows=1)\n",
    "falcor = falcor[[\"Phage\", \"Bacterial_genotype\", \"log10 Mc\", \"log10 UBc\", \"log10 LBc\"]]\n",
    "falcor.head()"
   ]
  },
  {
   "cell_type": "markdown",
   "metadata": {
    "deletable": true,
    "editable": true
   },
   "source": [
    "## Tidy the `main_experiment` data"
   ]
  },
  {
   "cell_type": "markdown",
   "metadata": {
    "deletable": true,
    "editable": true
   },
   "source": [
    "*(If you're wondering what `tidy` data representations are, check again the `pandas_07_reshaping_data.ipynb` notebook)*"
   ]
  },
  {
   "cell_type": "markdown",
   "metadata": {
    "deletable": true,
    "editable": true
   },
   "source": [
    "Actually, the columns `OD_0h`, `OD_20h` and `OD_72h` are representing the same variable (i.e. `optical_density`) and the column names itself represent a variable, i.e. `experiment_time_h`. Hence, it is stored in the table as *short* format and we could *tidy* these columns by converting them to 2 columns: `experiment_time_h` and `optical_density`."
   ]
  },
  {
   "cell_type": "markdown",
   "metadata": {
    "deletable": true,
    "editable": true
   },
   "source": [
    "Before making any changes to the data, we will add an identifier column for each of the current rows to make sure we keep the connection in between the entries of a row when converting from wide to ong format."
   ]
  },
  {
   "cell_type": "code",
   "execution_count": 4,
   "metadata": {
    "collapsed": false,
    "deletable": true,
    "editable": true,
    "jupyter": {
     "outputs_hidden": false
    }
   },
   "outputs": [
    {
     "data": {
      "text/html": [
       "<div>\n",
       "<style scoped>\n",
       "    .dataframe tbody tr th:only-of-type {\n",
       "        vertical-align: middle;\n",
       "    }\n",
       "\n",
       "    .dataframe tbody tr th {\n",
       "        vertical-align: top;\n",
       "    }\n",
       "\n",
       "    .dataframe thead th {\n",
       "        text-align: right;\n",
       "    }\n",
       "</style>\n",
       "<table border=\"1\" class=\"dataframe\">\n",
       "  <thead>\n",
       "    <tr style=\"text-align: right;\">\n",
       "      <th></th>\n",
       "      <th>AB_r</th>\n",
       "      <th>Bacterial_genotype</th>\n",
       "      <th>Phage_t</th>\n",
       "      <th>OD_0h</th>\n",
       "      <th>OD_20h</th>\n",
       "      <th>OD_72h</th>\n",
       "      <th>Survival_72h</th>\n",
       "      <th>PhageR_72h</th>\n",
       "      <th>experiment_ID</th>\n",
       "    </tr>\n",
       "  </thead>\n",
       "  <tbody>\n",
       "    <tr>\n",
       "      <th>0</th>\n",
       "      <td>Rif</td>\n",
       "      <td>D516G</td>\n",
       "      <td>C_noPhage</td>\n",
       "      <td>0.1971</td>\n",
       "      <td>0.5960</td>\n",
       "      <td>0.6900</td>\n",
       "      <td>1</td>\n",
       "      <td>NaN</td>\n",
       "      <td>ID_0</td>\n",
       "    </tr>\n",
       "    <tr>\n",
       "      <th>1</th>\n",
       "      <td>Rif</td>\n",
       "      <td>D516G</td>\n",
       "      <td>C_noPhage</td>\n",
       "      <td>0.1593</td>\n",
       "      <td>0.5702</td>\n",
       "      <td>0.6989</td>\n",
       "      <td>1</td>\n",
       "      <td>NaN</td>\n",
       "      <td>ID_1</td>\n",
       "    </tr>\n",
       "    <tr>\n",
       "      <th>2</th>\n",
       "      <td>Rif</td>\n",
       "      <td>D516G</td>\n",
       "      <td>C_noPhage</td>\n",
       "      <td>0.0926</td>\n",
       "      <td>0.6613</td>\n",
       "      <td>0.6474</td>\n",
       "      <td>1</td>\n",
       "      <td>NaN</td>\n",
       "      <td>ID_2</td>\n",
       "    </tr>\n",
       "    <tr>\n",
       "      <th>3</th>\n",
       "      <td>Rif</td>\n",
       "      <td>D516G</td>\n",
       "      <td>C_noPhage</td>\n",
       "      <td>0.1482</td>\n",
       "      <td>0.6465</td>\n",
       "      <td>0.7045</td>\n",
       "      <td>1</td>\n",
       "      <td>NaN</td>\n",
       "      <td>ID_3</td>\n",
       "    </tr>\n",
       "    <tr>\n",
       "      <th>4</th>\n",
       "      <td>Rif</td>\n",
       "      <td>D516G</td>\n",
       "      <td>C_noPhage</td>\n",
       "      <td>0.0978</td>\n",
       "      <td>0.6752</td>\n",
       "      <td>0.6700</td>\n",
       "      <td>1</td>\n",
       "      <td>NaN</td>\n",
       "      <td>ID_4</td>\n",
       "    </tr>\n",
       "    <tr>\n",
       "      <th>...</th>\n",
       "      <td>...</td>\n",
       "      <td>...</td>\n",
       "      <td>...</td>\n",
       "      <td>...</td>\n",
       "      <td>...</td>\n",
       "      <td>...</td>\n",
       "      <td>...</td>\n",
       "      <td>...</td>\n",
       "      <td>...</td>\n",
       "    </tr>\n",
       "    <tr>\n",
       "      <th>949</th>\n",
       "      <td>sensitive</td>\n",
       "      <td>MUT</td>\n",
       "      <td>T7</td>\n",
       "      <td>0.0417</td>\n",
       "      <td>0.0402</td>\n",
       "      <td>0.3179</td>\n",
       "      <td>1</td>\n",
       "      <td>1.0</td>\n",
       "      <td>ID_949</td>\n",
       "    </tr>\n",
       "    <tr>\n",
       "      <th>950</th>\n",
       "      <td>sensitive</td>\n",
       "      <td>MUT</td>\n",
       "      <td>T7</td>\n",
       "      <td>0.0789</td>\n",
       "      <td>0.0276</td>\n",
       "      <td>0.3601</td>\n",
       "      <td>1</td>\n",
       "      <td>1.0</td>\n",
       "      <td>ID_950</td>\n",
       "    </tr>\n",
       "    <tr>\n",
       "      <th>951</th>\n",
       "      <td>sensitive</td>\n",
       "      <td>MUT</td>\n",
       "      <td>T7</td>\n",
       "      <td>0.0875</td>\n",
       "      <td>0.0216</td>\n",
       "      <td>0.3709</td>\n",
       "      <td>1</td>\n",
       "      <td>1.0</td>\n",
       "      <td>ID_951</td>\n",
       "    </tr>\n",
       "    <tr>\n",
       "      <th>952</th>\n",
       "      <td>sensitive</td>\n",
       "      <td>MUT</td>\n",
       "      <td>T7</td>\n",
       "      <td>0.0755</td>\n",
       "      <td>0.0418</td>\n",
       "      <td>0.3628</td>\n",
       "      <td>1</td>\n",
       "      <td>1.0</td>\n",
       "      <td>ID_952</td>\n",
       "    </tr>\n",
       "    <tr>\n",
       "      <th>953</th>\n",
       "      <td>sensitive</td>\n",
       "      <td>MUT</td>\n",
       "      <td>T7</td>\n",
       "      <td>0.0401</td>\n",
       "      <td>0.0345</td>\n",
       "      <td>0.3321</td>\n",
       "      <td>1</td>\n",
       "      <td>1.0</td>\n",
       "      <td>ID_953</td>\n",
       "    </tr>\n",
       "  </tbody>\n",
       "</table>\n",
       "<p>954 rows × 9 columns</p>\n",
       "</div>"
      ],
      "text/plain": [
       "          AB_r Bacterial_genotype    Phage_t   OD_0h  OD_20h  OD_72h  \\\n",
       "0          Rif              D516G  C_noPhage  0.1971  0.5960  0.6900   \n",
       "1          Rif              D516G  C_noPhage  0.1593  0.5702  0.6989   \n",
       "2          Rif              D516G  C_noPhage  0.0926  0.6613  0.6474   \n",
       "3          Rif              D516G  C_noPhage  0.1482  0.6465  0.7045   \n",
       "4          Rif              D516G  C_noPhage  0.0978  0.6752  0.6700   \n",
       "..         ...                ...        ...     ...     ...     ...   \n",
       "949  sensitive                MUT         T7  0.0417  0.0402  0.3179   \n",
       "950  sensitive                MUT         T7  0.0789  0.0276  0.3601   \n",
       "951  sensitive                MUT         T7  0.0875  0.0216  0.3709   \n",
       "952  sensitive                MUT         T7  0.0755  0.0418  0.3628   \n",
       "953  sensitive                MUT         T7  0.0401  0.0345  0.3321   \n",
       "\n",
       "     Survival_72h  PhageR_72h experiment_ID  \n",
       "0               1         NaN          ID_0  \n",
       "1               1         NaN          ID_1  \n",
       "2               1         NaN          ID_2  \n",
       "3               1         NaN          ID_3  \n",
       "4               1         NaN          ID_4  \n",
       "..            ...         ...           ...  \n",
       "949             1         1.0        ID_949  \n",
       "950             1         1.0        ID_950  \n",
       "951             1         1.0        ID_951  \n",
       "952             1         1.0        ID_952  \n",
       "953             1         1.0        ID_953  \n",
       "\n",
       "[954 rows x 9 columns]"
      ]
     },
     "execution_count": 4,
     "metadata": {},
     "output_type": "execute_result"
    }
   ],
   "source": [
    "main_experiment[\"experiment_ID\"] = [\"ID_\" + str(idx) for idx in range(len(main_experiment))]\n",
    "main_experiment"
   ]
  },
  {
   "cell_type": "markdown",
   "metadata": {
    "deletable": true,
    "editable": true
   },
   "source": [
    "<div class=\"alert alert-success\">\n",
    "\n",
    "<b>EXERCISE</b>:\n",
    "\n",
    "Convert the columns `OD_0h`, `OD_20h` and `OD_72h` to a long format with the values stored in a column `optical_density` and the time in the experiment as `experiment_time_h`. Save the variable as <code>tidy_experiment</code>\n",
    "\n",
    "<details><summary>Hints</summary>\n",
    "    \n",
    "- Have a look at `pandas_07_reshaping_data.ipynb` to find out the required function.\n",
    "- Remember to check the documentation of a function using the SHIFT + TAB keystroke combination when the cursor is on the function of interest.\n",
    "    \n",
    "</details>\n",
    "    \n",
    "</div>"
   ]
  },
  {
   "cell_type": "code",
   "execution_count": 5,
   "metadata": {
    "clear_cell": true,
    "collapsed": false,
    "deletable": true,
    "editable": true,
    "jupyter": {
     "outputs_hidden": false
    }
   },
   "outputs": [
    {
     "data": {
      "text/html": [
       "<div>\n",
       "<style scoped>\n",
       "    .dataframe tbody tr th:only-of-type {\n",
       "        vertical-align: middle;\n",
       "    }\n",
       "\n",
       "    .dataframe tbody tr th {\n",
       "        vertical-align: top;\n",
       "    }\n",
       "\n",
       "    .dataframe thead th {\n",
       "        text-align: right;\n",
       "    }\n",
       "</style>\n",
       "<table border=\"1\" class=\"dataframe\">\n",
       "  <thead>\n",
       "    <tr style=\"text-align: right;\">\n",
       "      <th></th>\n",
       "      <th>AB_r</th>\n",
       "      <th>Bacterial_genotype</th>\n",
       "      <th>Phage_t</th>\n",
       "      <th>Survival_72h</th>\n",
       "      <th>PhageR_72h</th>\n",
       "      <th>experiment_ID</th>\n",
       "      <th>experiment_time_h</th>\n",
       "      <th>optical_density</th>\n",
       "    </tr>\n",
       "  </thead>\n",
       "  <tbody>\n",
       "    <tr>\n",
       "      <th>0</th>\n",
       "      <td>Rif</td>\n",
       "      <td>D516G</td>\n",
       "      <td>C_noPhage</td>\n",
       "      <td>1</td>\n",
       "      <td>NaN</td>\n",
       "      <td>ID_0</td>\n",
       "      <td>OD_0h</td>\n",
       "      <td>0.1971</td>\n",
       "    </tr>\n",
       "    <tr>\n",
       "      <th>1</th>\n",
       "      <td>Rif</td>\n",
       "      <td>D516G</td>\n",
       "      <td>C_noPhage</td>\n",
       "      <td>1</td>\n",
       "      <td>NaN</td>\n",
       "      <td>ID_1</td>\n",
       "      <td>OD_0h</td>\n",
       "      <td>0.1593</td>\n",
       "    </tr>\n",
       "    <tr>\n",
       "      <th>2</th>\n",
       "      <td>Rif</td>\n",
       "      <td>D516G</td>\n",
       "      <td>C_noPhage</td>\n",
       "      <td>1</td>\n",
       "      <td>NaN</td>\n",
       "      <td>ID_2</td>\n",
       "      <td>OD_0h</td>\n",
       "      <td>0.0926</td>\n",
       "    </tr>\n",
       "    <tr>\n",
       "      <th>3</th>\n",
       "      <td>Rif</td>\n",
       "      <td>D516G</td>\n",
       "      <td>C_noPhage</td>\n",
       "      <td>1</td>\n",
       "      <td>NaN</td>\n",
       "      <td>ID_3</td>\n",
       "      <td>OD_0h</td>\n",
       "      <td>0.1482</td>\n",
       "    </tr>\n",
       "    <tr>\n",
       "      <th>4</th>\n",
       "      <td>Rif</td>\n",
       "      <td>D516G</td>\n",
       "      <td>C_noPhage</td>\n",
       "      <td>1</td>\n",
       "      <td>NaN</td>\n",
       "      <td>ID_4</td>\n",
       "      <td>OD_0h</td>\n",
       "      <td>0.0978</td>\n",
       "    </tr>\n",
       "    <tr>\n",
       "      <th>...</th>\n",
       "      <td>...</td>\n",
       "      <td>...</td>\n",
       "      <td>...</td>\n",
       "      <td>...</td>\n",
       "      <td>...</td>\n",
       "      <td>...</td>\n",
       "      <td>...</td>\n",
       "      <td>...</td>\n",
       "    </tr>\n",
       "    <tr>\n",
       "      <th>2857</th>\n",
       "      <td>sensitive</td>\n",
       "      <td>MUT</td>\n",
       "      <td>T7</td>\n",
       "      <td>1</td>\n",
       "      <td>1.0</td>\n",
       "      <td>ID_949</td>\n",
       "      <td>OD_72h</td>\n",
       "      <td>0.3179</td>\n",
       "    </tr>\n",
       "    <tr>\n",
       "      <th>2858</th>\n",
       "      <td>sensitive</td>\n",
       "      <td>MUT</td>\n",
       "      <td>T7</td>\n",
       "      <td>1</td>\n",
       "      <td>1.0</td>\n",
       "      <td>ID_950</td>\n",
       "      <td>OD_72h</td>\n",
       "      <td>0.3601</td>\n",
       "    </tr>\n",
       "    <tr>\n",
       "      <th>2859</th>\n",
       "      <td>sensitive</td>\n",
       "      <td>MUT</td>\n",
       "      <td>T7</td>\n",
       "      <td>1</td>\n",
       "      <td>1.0</td>\n",
       "      <td>ID_951</td>\n",
       "      <td>OD_72h</td>\n",
       "      <td>0.3709</td>\n",
       "    </tr>\n",
       "    <tr>\n",
       "      <th>2860</th>\n",
       "      <td>sensitive</td>\n",
       "      <td>MUT</td>\n",
       "      <td>T7</td>\n",
       "      <td>1</td>\n",
       "      <td>1.0</td>\n",
       "      <td>ID_952</td>\n",
       "      <td>OD_72h</td>\n",
       "      <td>0.3628</td>\n",
       "    </tr>\n",
       "    <tr>\n",
       "      <th>2861</th>\n",
       "      <td>sensitive</td>\n",
       "      <td>MUT</td>\n",
       "      <td>T7</td>\n",
       "      <td>1</td>\n",
       "      <td>1.0</td>\n",
       "      <td>ID_953</td>\n",
       "      <td>OD_72h</td>\n",
       "      <td>0.3321</td>\n",
       "    </tr>\n",
       "  </tbody>\n",
       "</table>\n",
       "<p>2862 rows × 8 columns</p>\n",
       "</div>"
      ],
      "text/plain": [
       "           AB_r Bacterial_genotype    Phage_t  Survival_72h  PhageR_72h  \\\n",
       "0           Rif              D516G  C_noPhage             1         NaN   \n",
       "1           Rif              D516G  C_noPhage             1         NaN   \n",
       "2           Rif              D516G  C_noPhage             1         NaN   \n",
       "3           Rif              D516G  C_noPhage             1         NaN   \n",
       "4           Rif              D516G  C_noPhage             1         NaN   \n",
       "...         ...                ...        ...           ...         ...   \n",
       "2857  sensitive                MUT         T7             1         1.0   \n",
       "2858  sensitive                MUT         T7             1         1.0   \n",
       "2859  sensitive                MUT         T7             1         1.0   \n",
       "2860  sensitive                MUT         T7             1         1.0   \n",
       "2861  sensitive                MUT         T7             1         1.0   \n",
       "\n",
       "     experiment_ID experiment_time_h  optical_density  \n",
       "0             ID_0             OD_0h           0.1971  \n",
       "1             ID_1             OD_0h           0.1593  \n",
       "2             ID_2             OD_0h           0.0926  \n",
       "3             ID_3             OD_0h           0.1482  \n",
       "4             ID_4             OD_0h           0.0978  \n",
       "...            ...               ...              ...  \n",
       "2857        ID_949            OD_72h           0.3179  \n",
       "2858        ID_950            OD_72h           0.3601  \n",
       "2859        ID_951            OD_72h           0.3709  \n",
       "2860        ID_952            OD_72h           0.3628  \n",
       "2861        ID_953            OD_72h           0.3321  \n",
       "\n",
       "[2862 rows x 8 columns]"
      ]
     },
     "execution_count": 5,
     "metadata": {},
     "output_type": "execute_result"
    }
   ],
   "source": [
    "tidy_experiment = main_experiment.melt(id_vars=['AB_r', 'Bacterial_genotype', 'Phage_t', \n",
    "                                                'Survival_72h', 'PhageR_72h', 'experiment_ID'], \n",
    "                                       value_vars=['OD_0h', 'OD_20h', 'OD_72h'], \n",
    "                                       var_name='experiment_time_h', \n",
    "                                       value_name='optical_density', )\n",
    "tidy_experiment"
   ]
  },
  {
   "cell_type": "markdown",
   "metadata": {
    "deletable": true,
    "editable": true
   },
   "source": [
    "## Visual data exploration"
   ]
  },
  {
   "cell_type": "code",
   "execution_count": 6,
   "metadata": {
    "collapsed": false,
    "deletable": true,
    "editable": true,
    "jupyter": {
     "outputs_hidden": false
    }
   },
   "outputs": [
    {
     "data": {
      "text/html": [
       "<div>\n",
       "<style scoped>\n",
       "    .dataframe tbody tr th:only-of-type {\n",
       "        vertical-align: middle;\n",
       "    }\n",
       "\n",
       "    .dataframe tbody tr th {\n",
       "        vertical-align: top;\n",
       "    }\n",
       "\n",
       "    .dataframe thead th {\n",
       "        text-align: right;\n",
       "    }\n",
       "</style>\n",
       "<table border=\"1\" class=\"dataframe\">\n",
       "  <thead>\n",
       "    <tr style=\"text-align: right;\">\n",
       "      <th></th>\n",
       "      <th>AB_r</th>\n",
       "      <th>Bacterial_genotype</th>\n",
       "      <th>Phage_t</th>\n",
       "      <th>Survival_72h</th>\n",
       "      <th>PhageR_72h</th>\n",
       "      <th>experiment_ID</th>\n",
       "      <th>experiment_time_h</th>\n",
       "      <th>optical_density</th>\n",
       "    </tr>\n",
       "  </thead>\n",
       "  <tbody>\n",
       "    <tr>\n",
       "      <th>0</th>\n",
       "      <td>Rif</td>\n",
       "      <td>D516G</td>\n",
       "      <td>C_noPhage</td>\n",
       "      <td>1</td>\n",
       "      <td>NaN</td>\n",
       "      <td>ID_0</td>\n",
       "      <td>OD_0h</td>\n",
       "      <td>0.1971</td>\n",
       "    </tr>\n",
       "    <tr>\n",
       "      <th>1</th>\n",
       "      <td>Rif</td>\n",
       "      <td>D516G</td>\n",
       "      <td>C_noPhage</td>\n",
       "      <td>1</td>\n",
       "      <td>NaN</td>\n",
       "      <td>ID_1</td>\n",
       "      <td>OD_0h</td>\n",
       "      <td>0.1593</td>\n",
       "    </tr>\n",
       "    <tr>\n",
       "      <th>2</th>\n",
       "      <td>Rif</td>\n",
       "      <td>D516G</td>\n",
       "      <td>C_noPhage</td>\n",
       "      <td>1</td>\n",
       "      <td>NaN</td>\n",
       "      <td>ID_2</td>\n",
       "      <td>OD_0h</td>\n",
       "      <td>0.0926</td>\n",
       "    </tr>\n",
       "    <tr>\n",
       "      <th>3</th>\n",
       "      <td>Rif</td>\n",
       "      <td>D516G</td>\n",
       "      <td>C_noPhage</td>\n",
       "      <td>1</td>\n",
       "      <td>NaN</td>\n",
       "      <td>ID_3</td>\n",
       "      <td>OD_0h</td>\n",
       "      <td>0.1482</td>\n",
       "    </tr>\n",
       "    <tr>\n",
       "      <th>4</th>\n",
       "      <td>Rif</td>\n",
       "      <td>D516G</td>\n",
       "      <td>C_noPhage</td>\n",
       "      <td>1</td>\n",
       "      <td>NaN</td>\n",
       "      <td>ID_4</td>\n",
       "      <td>OD_0h</td>\n",
       "      <td>0.0978</td>\n",
       "    </tr>\n",
       "  </tbody>\n",
       "</table>\n",
       "</div>"
      ],
      "text/plain": [
       "  AB_r Bacterial_genotype    Phage_t  Survival_72h  PhageR_72h experiment_ID  \\\n",
       "0  Rif              D516G  C_noPhage             1         NaN          ID_0   \n",
       "1  Rif              D516G  C_noPhage             1         NaN          ID_1   \n",
       "2  Rif              D516G  C_noPhage             1         NaN          ID_2   \n",
       "3  Rif              D516G  C_noPhage             1         NaN          ID_3   \n",
       "4  Rif              D516G  C_noPhage             1         NaN          ID_4   \n",
       "\n",
       "  experiment_time_h  optical_density  \n",
       "0             OD_0h           0.1971  \n",
       "1             OD_0h           0.1593  \n",
       "2             OD_0h           0.0926  \n",
       "3             OD_0h           0.1482  \n",
       "4             OD_0h           0.0978  "
      ]
     },
     "execution_count": 6,
     "metadata": {},
     "output_type": "execute_result"
    }
   ],
   "source": [
    "tidy_experiment.head()"
   ]
  },
  {
   "cell_type": "markdown",
   "metadata": {
    "deletable": true,
    "editable": true
   },
   "source": [
    "<div class=\"alert alert-success\">\n",
    "\n",
    "<b>EXERCISE</b>:\n",
    "\n",
    "* Make a histogram using the [Seaborn package](https://seaborn.pydata.org/index.html) to visualize the distribution of the `optical_density`\n",
    "* Change the overall theme to any of the available Seaborn themes\n",
    "* Change the border color of the bars to `white` and the fill color of the bars to `grey`\n",
    "    \n",
    "<details><summary>Hints</summary>\n",
    "    \n",
    "- See https://seaborn.pydata.org/tutorial/distributions.html#plotting-univariate-histograms.\n",
    "- There are five preset seaborn themes: `darkgrid`, `whitegrid`, `dark`, `white`, and `ticks`.\n",
    "- Make sure to set the theme before creating the graph.\n",
    "- Seaborn relies on Matplotlib to plot the individual bars, so the available parameters (`**kwargs`) to adjust the bars that can be passed (e.g. `color` and `edgecolor`) are enlisted in the [matplotlib.axes.Axes.bar](https://matplotlib.org/3.3.2/api/_as_gen/matplotlib.axes.Axes.bar.html) documentation.\n",
    "    \n",
    "</details>\n",
    "\n",
    "\n",
    "</div>"
   ]
  },
  {
   "cell_type": "code",
   "execution_count": 8,
   "metadata": {
    "clear_cell": true,
    "collapsed": false,
    "deletable": true,
    "editable": true,
    "jupyter": {
     "outputs_hidden": false
    }
   },
   "outputs": [
    {
     "data": {
      "text/plain": [
       "<seaborn.axisgrid.FacetGrid at 0x7fbe253b6f70>"
      ]
     },
     "execution_count": 8,
     "metadata": {},
     "output_type": "execute_result"
    },
    {
     "data": {
      "image/png": "[encoded data removed]",
      "text/plain": [
       "<Figure size 360x360 with 1 Axes>"
      ]
     },
     "metadata": {},
     "output_type": "display_data"
    }
   ],
   "source": [
    "sns.set_style(\"white\")\n",
    "sns.displot(tidy_experiment, x=\"optical_density\", \n",
    "            color='grey', edgecolor='white')"
   ]
  },
  {
   "cell_type": "markdown",
   "metadata": {
    "deletable": true,
    "editable": true
   },
   "source": [
    "<div class=\"alert alert-success\">\n",
    "\n",
    "**EXERCISE**\n",
    "\n",
    "Use a Seaborn `violin plot` to check the distribution of the `optical_density` in each of the experiment time phases (`experiment_time_h` in the x-axis).\n",
    "\n",
    "<details><summary>Hints</summary>\n",
    "    \n",
    "- See https://seaborn.pydata.org/tutorial/categorical.html#violinplots.\n",
    "- Whereas the previous exercise focuses on the distribution of data (`distplot`), this exercise focuses on distrbutions _for each category of..._ and needs the categorical functions of Seaborn (`catplot`).\n",
    "    \n",
    "</details>"
   ]
  },
  {
   "cell_type": "code",
   "execution_count": 10,
   "metadata": {
    "clear_cell": true,
    "collapsed": false,
    "deletable": true,
    "editable": true,
    "jupyter": {
     "outputs_hidden": false
    }
   },
   "outputs": [
    {
     "name": "stderr",
     "output_type": "stream",
     "text": [
      "/home/joris/miniconda3/envs/FLAMES-python/lib/python3.8/site-packages/seaborn/_decorators.py:36: FutureWarning: Pass the following variable as a keyword arg: x. From version 0.12, the only valid positional argument will be `data`, and passing other arguments without an explicit keyword will result in an error or misinterpretation.\n",
      "  warnings.warn(\n"
     ]
    },
    {
     "ename": "ValueError",
     "evalue": "Could not interpret input 'optical_density'",
     "output_type": "error",
     "traceback": [
      "\u001b[0;31m---------------------------------------------------------------------------\u001b[0m",
      "\u001b[0;31mValueError\u001b[0m                                Traceback (most recent call last)",
      "\u001b[0;32m<ipython-input-10-1cd05d44ee1f>\u001b[0m in \u001b[0;36m<module>\u001b[0;34m\u001b[0m\n\u001b[0;32m----> 1\u001b[0;31m sns.catplot(tidy_experiment, x=\"experiment_time_h\", \n\u001b[0m\u001b[1;32m      2\u001b[0m             y=\"optical_density\", kind=\"violin\")\n",
      "\u001b[0;32m~/miniconda3/envs/FLAMES-python/lib/python3.8/site-packages/seaborn/_decorators.py\u001b[0m in \u001b[0;36minner_f\u001b[0;34m(*args, **kwargs)\u001b[0m\n\u001b[1;32m     44\u001b[0m             )\n\u001b[1;32m     45\u001b[0m         \u001b[0mkwargs\u001b[0m\u001b[0;34m.\u001b[0m\u001b[0mupdate\u001b[0m\u001b[0;34m(\u001b[0m\u001b[0;34m{\u001b[0m\u001b[0mk\u001b[0m\u001b[0;34m:\u001b[0m \u001b[0marg\u001b[0m \u001b[0;32mfor\u001b[0m \u001b[0mk\u001b[0m\u001b[0;34m,\u001b[0m \u001b[0marg\u001b[0m \u001b[0;32min\u001b[0m \u001b[0mzip\u001b[0m\u001b[0;34m(\u001b[0m\u001b[0msig\u001b[0m\u001b[0;34m.\u001b[0m\u001b[0mparameters\u001b[0m\u001b[0;34m,\u001b[0m \u001b[0margs\u001b[0m\u001b[0;34m)\u001b[0m\u001b[0;34m}\u001b[0m\u001b[0;34m)\u001b[0m\u001b[0;34m\u001b[0m\u001b[0;34m\u001b[0m\u001b[0m\n\u001b[0;32m---> 46\u001b[0;31m         \u001b[0;32mreturn\u001b[0m \u001b[0mf\u001b[0m\u001b[0;34m(\u001b[0m\u001b[0;34m**\u001b[0m\u001b[0mkwargs\u001b[0m\u001b[0;34m)\u001b[0m\u001b[0;34m\u001b[0m\u001b[0;34m\u001b[0m\u001b[0m\n\u001b[0m\u001b[1;32m     47\u001b[0m     \u001b[0;32mreturn\u001b[0m \u001b[0minner_f\u001b[0m\u001b[0;34m\u001b[0m\u001b[0;34m\u001b[0m\u001b[0m\n\u001b[1;32m     48\u001b[0m \u001b[0;34m\u001b[0m\u001b[0m\n",
      "\u001b[0;32m~/miniconda3/envs/FLAMES-python/lib/python3.8/site-packages/seaborn/categorical.py\u001b[0m in \u001b[0;36mcatplot\u001b[0;34m(x, y, hue, data, row, col, col_wrap, estimator, ci, n_boot, units, seed, order, hue_order, row_order, col_order, kind, height, aspect, orient, color, palette, legend, legend_out, sharex, sharey, margin_titles, facet_kws, **kwargs)\u001b[0m\n\u001b[1;32m   3777\u001b[0m     \u001b[0mp\u001b[0m \u001b[0;34m=\u001b[0m \u001b[0m_CategoricalPlotter\u001b[0m\u001b[0;34m(\u001b[0m\u001b[0;34m)\u001b[0m\u001b[0;34m\u001b[0m\u001b[0;34m\u001b[0m\u001b[0m\n\u001b[1;32m   3778\u001b[0m     \u001b[0mp\u001b[0m\u001b[0;34m.\u001b[0m\u001b[0mrequire_numeric\u001b[0m \u001b[0;34m=\u001b[0m \u001b[0mplotter_class\u001b[0m\u001b[0;34m.\u001b[0m\u001b[0mrequire_numeric\u001b[0m\u001b[0;34m\u001b[0m\u001b[0;34m\u001b[0m\u001b[0m\n\u001b[0;32m-> 3779\u001b[0;31m     \u001b[0mp\u001b[0m\u001b[0;34m.\u001b[0m\u001b[0mestablish_variables\u001b[0m\u001b[0;34m(\u001b[0m\u001b[0mx_\u001b[0m\u001b[0;34m,\u001b[0m \u001b[0my_\u001b[0m\u001b[0;34m,\u001b[0m \u001b[0mhue\u001b[0m\u001b[0;34m,\u001b[0m \u001b[0mdata\u001b[0m\u001b[0;34m,\u001b[0m \u001b[0morient\u001b[0m\u001b[0;34m,\u001b[0m \u001b[0morder\u001b[0m\u001b[0;34m,\u001b[0m \u001b[0mhue_order\u001b[0m\u001b[0;34m)\u001b[0m\u001b[0;34m\u001b[0m\u001b[0;34m\u001b[0m\u001b[0m\n\u001b[0m\u001b[1;32m   3780\u001b[0m     if (\n\u001b[1;32m   3781\u001b[0m         \u001b[0morder\u001b[0m \u001b[0;32mis\u001b[0m \u001b[0;32mnot\u001b[0m \u001b[0;32mNone\u001b[0m\u001b[0;34m\u001b[0m\u001b[0;34m\u001b[0m\u001b[0m\n",
      "\u001b[0;32m~/miniconda3/envs/FLAMES-python/lib/python3.8/site-packages/seaborn/categorical.py\u001b[0m in \u001b[0;36mestablish_variables\u001b[0;34m(self, x, y, hue, data, orient, order, hue_order, units)\u001b[0m\n\u001b[1;32m    151\u001b[0m                 \u001b[0;32mif\u001b[0m \u001b[0misinstance\u001b[0m\u001b[0;34m(\u001b[0m\u001b[0mvar\u001b[0m\u001b[0;34m,\u001b[0m \u001b[0mstr\u001b[0m\u001b[0;34m)\u001b[0m\u001b[0;34m:\u001b[0m\u001b[0;34m\u001b[0m\u001b[0;34m\u001b[0m\u001b[0m\n\u001b[1;32m    152\u001b[0m                     \u001b[0merr\u001b[0m \u001b[0;34m=\u001b[0m \u001b[0;34m\"Could not interpret input '{}'\"\u001b[0m\u001b[0;34m.\u001b[0m\u001b[0mformat\u001b[0m\u001b[0;34m(\u001b[0m\u001b[0mvar\u001b[0m\u001b[0;34m)\u001b[0m\u001b[0;34m\u001b[0m\u001b[0;34m\u001b[0m\u001b[0m\n\u001b[0;32m--> 153\u001b[0;31m                     \u001b[0;32mraise\u001b[0m \u001b[0mValueError\u001b[0m\u001b[0;34m(\u001b[0m\u001b[0merr\u001b[0m\u001b[0;34m)\u001b[0m\u001b[0;34m\u001b[0m\u001b[0;34m\u001b[0m\u001b[0m\n\u001b[0m\u001b[1;32m    154\u001b[0m \u001b[0;34m\u001b[0m\u001b[0m\n\u001b[1;32m    155\u001b[0m             \u001b[0;31m# Figure out the plotting orientation\u001b[0m\u001b[0;34m\u001b[0m\u001b[0;34m\u001b[0m\u001b[0;34m\u001b[0m\u001b[0m\n",
      "\u001b[0;31mValueError\u001b[0m: Could not interpret input 'optical_density'"
     ]
    }
   ],
   "source": [
    "sns.catplot(tidy_experiment, x=\"experiment_time_h\", \n",
    "            y=\"optical_density\", kind=\"violin\")"
   ]
  },
  {
   "cell_type": "markdown",
   "metadata": {
    "deletable": true,
    "editable": true
   },
   "source": [
    "<div class=\"alert alert-success\">\n",
    "\n",
    "**EXERCISE**\n",
    "\n",
    "For each `Phage_t` in an individual subplot, use a `violin plot` to check the distribution of the `optical_density` in each of the experiment time phases (`experiment_time_h`)\n",
    "\n",
    "<details><summary>Hints</summary>\n",
    "    \n",
    "- The technical term for splitting in subplots using a categorical variable is `facetting`, see https://seaborn.pydata.org/tutorial/categorical.html#showing-multiple-relationships-with-facets\n",
    "- You want to wrap the number of colums on 2 subplots, look for a function argument in the documentation of the `catplot` function.\n",
    "    \n",
    "</details>"
   ]
  },
  {
   "cell_type": "code",
   "execution_count": 9,
   "metadata": {
    "clear_cell": true,
    "collapsed": false,
    "deletable": true,
    "editable": true,
    "jupyter": {
     "outputs_hidden": false
    }
   },
   "outputs": [
    {
     "data": {
      "text/plain": [
       "<seaborn.axisgrid.FacetGrid at 0x7f5f48d47970>"
      ]
     },
     "execution_count": 9,
     "metadata": {},
     "output_type": "execute_result"
    },
    {
     "data": {
      "image/png": "[encoded data removed]",
      "text/plain": [
       "<Figure size 720x720 with 4 Axes>"
      ]
     },
     "metadata": {},
     "output_type": "display_data"
    }
   ],
   "source": [
    "sns.catplot(data=tidy_experiment, x=\"experiment_time_h\", y=\"optical_density\", \n",
    "            col=\"Phage_t\", col_wrap=2, kind=\"violin\")"
   ]
  },
  {
   "cell_type": "markdown",
   "metadata": {
    "deletable": true,
    "editable": true
   },
   "source": [
    "<div class=\"alert alert-success\">\n",
    "\n",
    "**EXERCISE**\n",
    "\n",
    "Create a summary table of the __average__ `optical_density` with the `Bacterial_genotype` in the rows and the `experiment_time_h` in the columns\n",
    "\n",
    "<details><summary>Hints</summary>\n",
    "    \n",
    "- No Seaborn required here, rely on Pandas `pivot_table()` function to reshape tables. \n",
    "    \n",
    "</details>"
   ]
  },
  {
   "cell_type": "code",
   "execution_count": 10,
   "metadata": {
    "clear_cell": true,
    "collapsed": false,
    "deletable": true,
    "editable": true,
    "jupyter": {
     "outputs_hidden": false
    }
   },
   "outputs": [
    {
     "data": {
      "text/html": [
       "<div>\n",
       "<style scoped>\n",
       "    .dataframe tbody tr th:only-of-type {\n",
       "        vertical-align: middle;\n",
       "    }\n",
       "\n",
       "    .dataframe tbody tr th {\n",
       "        vertical-align: top;\n",
       "    }\n",
       "\n",
       "    .dataframe thead th {\n",
       "        text-align: right;\n",
       "    }\n",
       "</style>\n",
       "<table border=\"1\" class=\"dataframe\">\n",
       "  <thead>\n",
       "    <tr style=\"text-align: right;\">\n",
       "      <th>experiment_time_h</th>\n",
       "      <th>OD_0h</th>\n",
       "      <th>OD_20h</th>\n",
       "      <th>OD_72h</th>\n",
       "    </tr>\n",
       "    <tr>\n",
       "      <th>Bacterial_genotype</th>\n",
       "      <th></th>\n",
       "      <th></th>\n",
       "      <th></th>\n",
       "    </tr>\n",
       "  </thead>\n",
       "  <tbody>\n",
       "    <tr>\n",
       "      <th>D516G</th>\n",
       "      <td>0.081090</td>\n",
       "      <td>0.308745</td>\n",
       "      <td>0.422481</td>\n",
       "    </tr>\n",
       "    <tr>\n",
       "      <th>D87G</th>\n",
       "      <td>0.094826</td>\n",
       "      <td>0.358149</td>\n",
       "      <td>0.435589</td>\n",
       "    </tr>\n",
       "    <tr>\n",
       "      <th>K43N</th>\n",
       "      <td>0.073319</td>\n",
       "      <td>0.229284</td>\n",
       "      <td>0.360857</td>\n",
       "    </tr>\n",
       "    <tr>\n",
       "      <th>K88R</th>\n",
       "      <td>0.087895</td>\n",
       "      <td>0.349078</td>\n",
       "      <td>0.441870</td>\n",
       "    </tr>\n",
       "    <tr>\n",
       "      <th>MUT</th>\n",
       "      <td>0.086279</td>\n",
       "      <td>0.370074</td>\n",
       "      <td>0.549770</td>\n",
       "    </tr>\n",
       "    <tr>\n",
       "      <th>RP4</th>\n",
       "      <td>0.100410</td>\n",
       "      <td>0.294452</td>\n",
       "      <td>0.438770</td>\n",
       "    </tr>\n",
       "    <tr>\n",
       "      <th>RSF1010</th>\n",
       "      <td>0.086731</td>\n",
       "      <td>0.338346</td>\n",
       "      <td>0.464583</td>\n",
       "    </tr>\n",
       "    <tr>\n",
       "      <th>S512F</th>\n",
       "      <td>0.059865</td>\n",
       "      <td>0.269255</td>\n",
       "      <td>0.413397</td>\n",
       "    </tr>\n",
       "    <tr>\n",
       "      <th>S83L</th>\n",
       "      <td>0.099519</td>\n",
       "      <td>0.352234</td>\n",
       "      <td>0.438004</td>\n",
       "    </tr>\n",
       "    <tr>\n",
       "      <th>WT</th>\n",
       "      <td>0.086394</td>\n",
       "      <td>0.326306</td>\n",
       "      <td>0.431576</td>\n",
       "    </tr>\n",
       "  </tbody>\n",
       "</table>\n",
       "</div>"
      ],
      "text/plain": [
       "experiment_time_h      OD_0h    OD_20h    OD_72h\n",
       "Bacterial_genotype                              \n",
       "D516G               0.081090  0.308745  0.422481\n",
       "D87G                0.094826  0.358149  0.435589\n",
       "K43N                0.073319  0.229284  0.360857\n",
       "K88R                0.087895  0.349078  0.441870\n",
       "MUT                 0.086279  0.370074  0.549770\n",
       "RP4                 0.100410  0.294452  0.438770\n",
       "RSF1010             0.086731  0.338346  0.464583\n",
       "S512F               0.059865  0.269255  0.413397\n",
       "S83L                0.099519  0.352234  0.438004\n",
       "WT                  0.086394  0.326306  0.431576"
      ]
     },
     "execution_count": 10,
     "metadata": {},
     "output_type": "execute_result"
    }
   ],
   "source": [
    "pd.pivot_table(tidy_experiment, values='optical_density', \n",
    "               index='Bacterial_genotype', \n",
    "               columns='experiment_time_h',\n",
    "               aggfunc='mean')"
   ]
  },
  {
   "cell_type": "code",
   "execution_count": 11,
   "metadata": {
    "clear_cell": true,
    "collapsed": false,
    "deletable": true,
    "editable": true,
    "jupyter": {
     "outputs_hidden": false
    }
   },
   "outputs": [
    {
     "data": {
      "text/html": [
       "<div>\n",
       "<style scoped>\n",
       "    .dataframe tbody tr th:only-of-type {\n",
       "        vertical-align: middle;\n",
       "    }\n",
       "\n",
       "    .dataframe tbody tr th {\n",
       "        vertical-align: top;\n",
       "    }\n",
       "\n",
       "    .dataframe thead th {\n",
       "        text-align: right;\n",
       "    }\n",
       "</style>\n",
       "<table border=\"1\" class=\"dataframe\">\n",
       "  <thead>\n",
       "    <tr style=\"text-align: right;\">\n",
       "      <th>experiment_time_h</th>\n",
       "      <th>OD_0h</th>\n",
       "      <th>OD_20h</th>\n",
       "      <th>OD_72h</th>\n",
       "    </tr>\n",
       "    <tr>\n",
       "      <th>Bacterial_genotype</th>\n",
       "      <th></th>\n",
       "      <th></th>\n",
       "      <th></th>\n",
       "    </tr>\n",
       "  </thead>\n",
       "  <tbody>\n",
       "    <tr>\n",
       "      <th>D516G</th>\n",
       "      <td>0.081090</td>\n",
       "      <td>0.308745</td>\n",
       "      <td>0.422481</td>\n",
       "    </tr>\n",
       "    <tr>\n",
       "      <th>D87G</th>\n",
       "      <td>0.094826</td>\n",
       "      <td>0.358149</td>\n",
       "      <td>0.435589</td>\n",
       "    </tr>\n",
       "    <tr>\n",
       "      <th>K43N</th>\n",
       "      <td>0.073319</td>\n",
       "      <td>0.229284</td>\n",
       "      <td>0.360857</td>\n",
       "    </tr>\n",
       "    <tr>\n",
       "      <th>K88R</th>\n",
       "      <td>0.087895</td>\n",
       "      <td>0.349078</td>\n",
       "      <td>0.441870</td>\n",
       "    </tr>\n",
       "    <tr>\n",
       "      <th>MUT</th>\n",
       "      <td>0.086279</td>\n",
       "      <td>0.370074</td>\n",
       "      <td>0.549770</td>\n",
       "    </tr>\n",
       "    <tr>\n",
       "      <th>RP4</th>\n",
       "      <td>0.100410</td>\n",
       "      <td>0.294452</td>\n",
       "      <td>0.438770</td>\n",
       "    </tr>\n",
       "    <tr>\n",
       "      <th>RSF1010</th>\n",
       "      <td>0.086731</td>\n",
       "      <td>0.338346</td>\n",
       "      <td>0.464583</td>\n",
       "    </tr>\n",
       "    <tr>\n",
       "      <th>S512F</th>\n",
       "      <td>0.059865</td>\n",
       "      <td>0.269255</td>\n",
       "      <td>0.413397</td>\n",
       "    </tr>\n",
       "    <tr>\n",
       "      <th>S83L</th>\n",
       "      <td>0.099519</td>\n",
       "      <td>0.352234</td>\n",
       "      <td>0.438004</td>\n",
       "    </tr>\n",
       "    <tr>\n",
       "      <th>WT</th>\n",
       "      <td>0.086394</td>\n",
       "      <td>0.326306</td>\n",
       "      <td>0.431576</td>\n",
       "    </tr>\n",
       "  </tbody>\n",
       "</table>\n",
       "</div>"
      ],
      "text/plain": [
       "experiment_time_h      OD_0h    OD_20h    OD_72h\n",
       "Bacterial_genotype                              \n",
       "D516G               0.081090  0.308745  0.422481\n",
       "D87G                0.094826  0.358149  0.435589\n",
       "K43N                0.073319  0.229284  0.360857\n",
       "K88R                0.087895  0.349078  0.441870\n",
       "MUT                 0.086279  0.370074  0.549770\n",
       "RP4                 0.100410  0.294452  0.438770\n",
       "RSF1010             0.086731  0.338346  0.464583\n",
       "S512F               0.059865  0.269255  0.413397\n",
       "S83L                0.099519  0.352234  0.438004\n",
       "WT                  0.086394  0.326306  0.431576"
      ]
     },
     "execution_count": 11,
     "metadata": {},
     "output_type": "execute_result"
    }
   ],
   "source": [
    "# advanced/optional solution\n",
    "tidy_experiment.groupby(['Bacterial_genotype', 'experiment_time_h'])['optical_density'].mean().unstack()"
   ]
  },
  {
   "cell_type": "markdown",
   "metadata": {
    "deletable": true,
    "editable": true
   },
   "source": [
    "<div class=\"alert alert-success\">\n",
    "\n",
    "**EXERCISE**\n",
    "\n",
    "- Calculate for each combination of `Bacterial_genotype`, `Phage_t` and `experiment_time_h` the <i>mean</i> `optical_density` and store the result as a DataFrame called `density_mean` (tip: use `reset_index()` to convert the resulting Series to a DataFrame).\n",
    "- Based on `density_mean`, make a _barplot_ of the (mean) values for each `Bacterial_genotype`, with for each `Bacterial_genotype` an individual bar and with each `Phage_t` in a different color/hue (i.e. grouped bar chart).\n",
    "- Use the `experiment_time_h` to split into subplots. As we mainly want to compare the values within each subplot, make sure the scales in each of the subplots are adapted to its own data range, and put the subplots on different rows.\n",
    "- Adjust the size and aspect ratio of the Figure to your own preference.\n",
    "- Change the color scale of the bars to another Seaborn palette.\n",
    "\n",
    "<details><summary>Hints</summary>\n",
    "    \n",
    "- _Calculate for each combination of..._ sould remind you to the `groupby` functionality of Pandas to calculate statistics for each group.\n",
    "- The exercise is still using the `catplot` function of Seaborn with `bar`s. Variables are used to vary the `hue` and `row`.\n",
    "- Each subplot its own range is the same as not sharing axes (`sharey` argument).\n",
    "- Seaborn in fact has six variations of matplotlib’s palette, called `deep`, `muted`, `pastel`, `bright`, `dark`, and `colorblind`. See https://seaborn.pydata.org/tutorial/color_palettes.html#qualitative-color-palettes\n",
    "    \n",
    "</details>"
   ]
  },
  {
   "cell_type": "code",
   "execution_count": 12,
   "metadata": {
    "clear_cell": true,
    "deletable": true,
    "editable": true
   },
   "outputs": [],
   "source": [
    "density_mean = (tidy_experiment\n",
    "                .groupby(['Bacterial_genotype','Phage_t', 'experiment_time_h'])['optical_density']\n",
    "                .mean().reset_index())"
   ]
  },
  {
   "cell_type": "code",
   "execution_count": 13,
   "metadata": {
    "clear_cell": true,
    "collapsed": false,
    "deletable": true,
    "editable": true,
    "jupyter": {
     "outputs_hidden": false
    }
   },
   "outputs": [
    {
     "data": {
      "text/plain": [
       "<seaborn.axisgrid.FacetGrid at 0x7f5f48ebe850>"
      ]
     },
     "execution_count": 13,
     "metadata": {},
     "output_type": "execute_result"
    },
    {
     "data": {
      "image/png": "[encoded data removed]",
      "text/plain": [
       "<Figure size 736.875x648 with 3 Axes>"
      ]
     },
     "metadata": {},
     "output_type": "display_data"
    }
   ],
   "source": [
    "sns.catplot(data=density_mean, kind=\"bar\",\n",
    "            x='Bacterial_genotype', \n",
    "            y='optical_density', \n",
    "            hue='Phage_t', \n",
    "            row=\"experiment_time_h\",\n",
    "            sharey=False, \n",
    "            aspect=3, height=3,\n",
    "            palette=\"colorblind\")"
   ]
  },
  {
   "cell_type": "markdown",
   "metadata": {
    "deletable": true,
    "editable": true
   },
   "source": [
    "## (Optional) Reproduce graph of the original paper"
   ]
  },
  {
   "cell_type": "markdown",
   "metadata": {
    "deletable": true,
    "editable": true
   },
   "source": [
    "Check Figure 2 of the original journal paper in the 'correction' part of the <a href=\"http://rsbl.royalsocietypublishing.org/content/roybiolett/12/5/20160064.full.pdf\">pdf</a>:\n",
    "    \n",
    "<img src=\"https://royalsocietypublishing.org/cms/attachment/eb511c57-4167-4575-b8b3-93fbcf728572/rsbl20160064f02.jpg\" width=\"500\">    "
   ]
  },
  {
   "cell_type": "code",
   "execution_count": 14,
   "metadata": {
    "collapsed": false,
    "deletable": true,
    "editable": true,
    "jupyter": {
     "outputs_hidden": false
    }
   },
   "outputs": [
    {
     "data": {
      "text/html": [
       "<div>\n",
       "<style scoped>\n",
       "    .dataframe tbody tr th:only-of-type {\n",
       "        vertical-align: middle;\n",
       "    }\n",
       "\n",
       "    .dataframe tbody tr th {\n",
       "        vertical-align: top;\n",
       "    }\n",
       "\n",
       "    .dataframe thead th {\n",
       "        text-align: right;\n",
       "    }\n",
       "</style>\n",
       "<table border=\"1\" class=\"dataframe\">\n",
       "  <thead>\n",
       "    <tr style=\"text-align: right;\">\n",
       "      <th></th>\n",
       "      <th>Phage</th>\n",
       "      <th>Bacterial_genotype</th>\n",
       "      <th>log10 Mc</th>\n",
       "      <th>log10 UBc</th>\n",
       "      <th>log10 LBc</th>\n",
       "    </tr>\n",
       "  </thead>\n",
       "  <tbody>\n",
       "    <tr>\n",
       "      <th>0</th>\n",
       "      <td>T7</td>\n",
       "      <td>RP4</td>\n",
       "      <td>-6.908090</td>\n",
       "      <td>-6.766699</td>\n",
       "      <td>-7.086027</td>\n",
       "    </tr>\n",
       "    <tr>\n",
       "      <th>1</th>\n",
       "      <td>T7</td>\n",
       "      <td>RSF1010</td>\n",
       "      <td>-6.839080</td>\n",
       "      <td>-6.709209</td>\n",
       "      <td>-6.999176</td>\n",
       "    </tr>\n",
       "    <tr>\n",
       "      <th>2</th>\n",
       "      <td>T7</td>\n",
       "      <td>K43N</td>\n",
       "      <td>-7.072899</td>\n",
       "      <td>-6.933264</td>\n",
       "      <td>-7.248105</td>\n",
       "    </tr>\n",
       "    <tr>\n",
       "      <th>3</th>\n",
       "      <td>T7</td>\n",
       "      <td>S512F</td>\n",
       "      <td>-7.058820</td>\n",
       "      <td>-6.902430</td>\n",
       "      <td>-7.261299</td>\n",
       "    </tr>\n",
       "    <tr>\n",
       "      <th>4</th>\n",
       "      <td>T7</td>\n",
       "      <td>D516G</td>\n",
       "      <td>-6.920474</td>\n",
       "      <td>-6.722230</td>\n",
       "      <td>-7.199283</td>\n",
       "    </tr>\n",
       "  </tbody>\n",
       "</table>\n",
       "</div>"
      ],
      "text/plain": [
       "  Phage Bacterial_genotype  log10 Mc  log10 UBc  log10 LBc\n",
       "0    T7                RP4 -6.908090  -6.766699  -7.086027\n",
       "1    T7            RSF1010 -6.839080  -6.709209  -6.999176\n",
       "2    T7               K43N -7.072899  -6.933264  -7.248105\n",
       "3    T7              S512F -7.058820  -6.902430  -7.261299\n",
       "4    T7              D516G -6.920474  -6.722230  -7.199283"
      ]
     },
     "execution_count": 14,
     "metadata": {},
     "output_type": "execute_result"
    }
   ],
   "source": [
    "falcor.head()"
   ]
  },
  {
   "cell_type": "markdown",
   "metadata": {
    "deletable": true,
    "editable": true
   },
   "source": [
    "<div class=\"alert alert-success\">\n",
    "\n",
    "**EXERCISE**\n",
    "\n",
    "We will first reproduce 'Figure 2' without the error bars:\n",
    "    \n",
    "- Make sure the `WT(2)` and `MUT(2)` categories are used as respectively `WT` and `MUT` by adjusting them with Pandas first.\n",
    "- Use the __falcor__ data and the Seaborn package. The 'log10 mutation rate' on the figure corresponds to the `log10 Mc` column.\n",
    "\n",
    "    \n",
    "<details><summary>Hints</summary>\n",
    "\n",
    "- To replace values using a mapping (dictionary with the keys the current values and the values the new values), use the Pandas `replace` method.\n",
    "- This is another example of a `catplot`, using `point`s to represent the data. \n",
    "- The `join` argument defines if individual points need to be connected or not.\n",
    "- One combination appears multiple times, so make sure to not yet use confidence intervals by setting `ci` to `Null`.\n",
    "\n",
    "</details>\n"
   ]
  },
  {
   "cell_type": "code",
   "execution_count": 11,
   "metadata": {
    "clear_cell": true,
    "deletable": true,
    "editable": true
   },
   "outputs": [],
   "source": [
    "falcor[\"Bacterial_genotype\"] = falcor[\"Bacterial_genotype\"].replace({'WT(2)': 'WT', \n",
    "                                                                     'MUT(2)': 'MUT'})"
   ]
  },
  {
   "cell_type": "code",
   "execution_count": 25,
   "metadata": {
    "clear_cell": true,
    "collapsed": false,
    "deletable": true,
    "editable": true,
    "jupyter": {
     "outputs_hidden": false
    }
   },
   "outputs": [
    {
     "data": {
      "text/plain": [
       "<seaborn.axisgrid.FacetGrid at 0x7fbe2086a280>"
      ]
     },
     "execution_count": 25,
     "metadata": {},
     "output_type": "execute_result"
    },
    {
     "data": {
      "image/png": "[encoded data removed]",
      "text/plain": [
       "<Figure size 648x648 with 3 Axes>"
      ]
     },
     "metadata": {},
     "output_type": "display_data"
    }
   ],
   "source": [
    "sns.catplot(data=falcor, kind=\"point\",\n",
    "            x='Bacterial_genotype', \n",
    "            y='log10 Mc', \n",
    "            row=\"Phage\",\n",
    "            join=False, ci=None,\n",
    "            aspect=3, height=3,\n",
    "            color=\"black\", scale=3)"
   ]
  },
  {
   "cell_type": "code",
   "execution_count": 17,
   "metadata": {
    "collapsed": false,
    "deletable": true,
    "editable": true,
    "jupyter": {
     "outputs_hidden": false
    }
   },
   "outputs": [
    {
     "data": {
      "text/html": [
       "<div>\n",
       "<style scoped>\n",
       "    .dataframe tbody tr th:only-of-type {\n",
       "        vertical-align: middle;\n",
       "    }\n",
       "\n",
       "    .dataframe tbody tr th {\n",
       "        vertical-align: top;\n",
       "    }\n",
       "\n",
       "    .dataframe thead th {\n",
       "        text-align: right;\n",
       "    }\n",
       "</style>\n",
       "<table border=\"1\" class=\"dataframe\">\n",
       "  <thead>\n",
       "    <tr style=\"text-align: right;\">\n",
       "      <th></th>\n",
       "      <th>Phage</th>\n",
       "      <th>Bacterial_genotype</th>\n",
       "      <th>log10 Mc</th>\n",
       "      <th>log10 UBc</th>\n",
       "      <th>log10 LBc</th>\n",
       "    </tr>\n",
       "  </thead>\n",
       "  <tbody>\n",
       "    <tr>\n",
       "      <th>0</th>\n",
       "      <td>T7</td>\n",
       "      <td>RP4</td>\n",
       "      <td>-6.908090</td>\n",
       "      <td>-6.766699</td>\n",
       "      <td>-7.086027</td>\n",
       "    </tr>\n",
       "    <tr>\n",
       "      <th>1</th>\n",
       "      <td>T7</td>\n",
       "      <td>RSF1010</td>\n",
       "      <td>-6.839080</td>\n",
       "      <td>-6.709209</td>\n",
       "      <td>-6.999176</td>\n",
       "    </tr>\n",
       "    <tr>\n",
       "      <th>2</th>\n",
       "      <td>T7</td>\n",
       "      <td>K43N</td>\n",
       "      <td>-7.072899</td>\n",
       "      <td>-6.933264</td>\n",
       "      <td>-7.248105</td>\n",
       "    </tr>\n",
       "    <tr>\n",
       "      <th>3</th>\n",
       "      <td>T7</td>\n",
       "      <td>S512F</td>\n",
       "      <td>-7.058820</td>\n",
       "      <td>-6.902430</td>\n",
       "      <td>-7.261299</td>\n",
       "    </tr>\n",
       "    <tr>\n",
       "      <th>4</th>\n",
       "      <td>T7</td>\n",
       "      <td>D516G</td>\n",
       "      <td>-6.920474</td>\n",
       "      <td>-6.722230</td>\n",
       "      <td>-7.199283</td>\n",
       "    </tr>\n",
       "  </tbody>\n",
       "</table>\n",
       "</div>"
      ],
      "text/plain": [
       "  Phage Bacterial_genotype  log10 Mc  log10 UBc  log10 LBc\n",
       "0    T7                RP4 -6.908090  -6.766699  -7.086027\n",
       "1    T7            RSF1010 -6.839080  -6.709209  -6.999176\n",
       "2    T7               K43N -7.072899  -6.933264  -7.248105\n",
       "3    T7              S512F -7.058820  -6.902430  -7.261299\n",
       "4    T7              D516G -6.920474  -6.722230  -7.199283"
      ]
     },
     "execution_count": 17,
     "metadata": {},
     "output_type": "execute_result"
    }
   ],
   "source": [
    "falcor.head()"
   ]
  },
  {
   "cell_type": "markdown",
   "metadata": {
    "deletable": true,
    "editable": true
   },
   "source": [
    "Seaborn supports confidence intervals by different estimators when multiple values are combined (see [this example](https://seaborn.pydata.org/examples/pointplot_anova.html)). In this particular case, the error estimates are already provided and are not symmetrical. Hence, we need to find a method to use the lower `log10 LBc` and upper `log10 UBc` confidence intervals. \n",
    "\n",
    "Stackoverflow can help you with this, see [this thread](https://stackoverflow.com/questions/38385099/adding-simple-error-bars-to-seaborn-factorplot) to solve the following exercise."
   ]
  },
  {
   "cell_type": "markdown",
   "metadata": {
    "deletable": true,
    "editable": true
   },
   "source": [
    "<div class=\"alert alert-success\">\n",
    "\n",
    "**EXERCISE**\n",
    "\n",
    "Reproduce 'Figure 2' with the error bars using the information from [this Stackoverflow thread](https://stackoverflow.com/questions/38385099/adding-simple-error-bars-to-seaborn-factorplot). You do not have to adjust the order of the categories in the x-axis.\n",
    "    \n",
    "<details><summary>Hints</summary>\n",
    "\n",
    "- Do not use the `catplot` function, but first create the layout of the graph by `FacetGrid` on the `Phage` variable.\n",
    "- Next, map a custom `errorbar` function to the FactgGrid as the example from Stackoverflow.\n",
    "- Adjust/Simplify the `errorbar` custom function for your purpose.\n",
    "- Matplotlib uses the `capsize` to draw upper and lower lines of the intervals.\n",
    "\n",
    "</details>"
   ]
  },
  {
   "cell_type": "code",
   "execution_count": 15,
   "metadata": {
    "clear_cell": true,
    "deletable": true,
    "editable": true
   },
   "outputs": [],
   "source": [
    "falcor[\"Bacterial_genotype\"] = falcor[\"Bacterial_genotype\"].replace({'WT(2)': 'WT', \n",
    "                                                                     'MUT(2)': 'MUT'})"
   ]
  },
  {
   "cell_type": "code",
   "execution_count": 22,
   "metadata": {
    "clear_cell": true,
    "deletable": true,
    "editable": true
   },
   "outputs": [],
   "source": [
    "def errorbar(x, y, low, high, **kws):\n",
    "    \"\"\"Utility function to link falcor data representation with the errorbar representation of \"\"\"\n",
    "    plt.errorbar(x, y, (y - low, high - y), capsize=3, fmt=\"o\", color=\"black\", markersize=10)"
   ]
  },
  {
   "cell_type": "code",
   "execution_count": 23,
   "metadata": {
    "clear_cell": true,
    "collapsed": false,
    "deletable": true,
    "editable": true,
    "jupyter": {
     "outputs_hidden": false
    }
   },
   "outputs": [
    {
     "data": {
      "text/plain": [
       "<seaborn.axisgrid.FacetGrid at 0x7fbe2076e370>"
      ]
     },
     "execution_count": 23,
     "metadata": {},
     "output_type": "execute_result"
    },
    {
     "data": {
      "image/png": "[encoded data removed]",
      "text/plain": [
       "<Figure size 648x648 with 3 Axes>"
      ]
     },
     "metadata": {},
     "output_type": "display_data"
    }
   ],
   "source": [
    "sns.set_style(\"ticks\")\n",
    "g = sns.FacetGrid(falcor, row=\"Phage\", aspect=3, height=3)\n",
    "g.map(errorbar, \n",
    "      \"Bacterial_genotype\", \"log10 Mc\", \n",
    "      \"log10 LBc\", \"log10 UBc\")"
   ]
  },
  {
   "cell_type": "code",
   "execution_count": null,
   "metadata": {
    "collapsed": true,
    "deletable": true,
    "editable": true,
    "jupyter": {
     "outputs_hidden": true
    }
   },
   "outputs": [],
   "source": []
  }
 ],
 "metadata": {
  "celltoolbar": "Nbtutor - export exercises",
  "jupytext": {
   "formats": "ipynb,Rmd,md:myst"
  },
  "kernelspec": {
   "display_name": "Python 3",
   "language": "python",
   "name": "python3"
  },
  "language_info": {
   "codemirror_mode": {
    "name": "ipython",
    "version": 3
   },
   "file_extension": ".py",
   "mimetype": "text/x-python",
   "name": "python",
   "nbconvert_exporter": "python",
   "pygments_lexer": "ipython3",
   "version": "3.8.6"
  }
 },
 "nbformat": 4,
 "nbformat_minor": 4
}
