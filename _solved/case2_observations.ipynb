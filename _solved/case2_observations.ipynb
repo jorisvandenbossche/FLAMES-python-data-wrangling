{
 "cells": [
  {
   "cell_type": "markdown",
   "metadata": {},
   "source": [
    "<p><font size=\"6\"><b>CASE - Observation data</b></font></p>\n",
    "\n",
    "\n",
    "> *Data wrangling in Python*  \n",
    "> *November, 2020*\n",
    "\n",
    "> *© 2017, Joris Van den Bossche and Stijn Van Hoey  (<mailto:jorisvandenbossche@gmail.com>, <mailto:stijnvanhoey@gmail.com>). Licensed under [CC BY 4.0 Creative Commons](http://creativecommons.org/licenses/by/4.0/)*\n",
    "\n",
    "---"
   ]
  },
  {
   "cell_type": "code",
   "execution_count": 204,
   "metadata": {
    "run_control": {
     "frozen": false,
     "read_only": false
    }
   },
   "outputs": [],
   "source": [
    "%matplotlib inline\n",
    "\n",
    "import numpy as np\n",
    "import pandas as pd\n",
    "import matplotlib.pyplot as plt\n",
    "import seaborn as sns\n",
    "\n",
    "plt.style.use('seaborn-whitegrid')"
   ]
  },
  {
   "cell_type": "markdown",
   "metadata": {},
   "source": [
    "## Introduction"
   ]
  },
  {
   "cell_type": "markdown",
   "metadata": {},
   "source": [
    "Observation data of species (when/where is a given species observed) is typical in biodiversity studies. large international initiatives support the collection of this data by volunteers, e.g. [iNaturalist](https://www.inaturalist.org/). Thanks to initiatives like [GBIF](https://www.gbif.org/), a lot of these data is also openly available. \n",
    "\n",
    "In this example, data originates from a [study](http://esapubs.org/archive/ecol/E090/118/metadata.htm) of a Chihuahuan desert ecosystem near Portal, Arizona. It is a long-term observation study in 24 different plots (each plot identified with a `verbatimLocality` identifier) and defines, apart from the species, location and date of the observations, also the sex and the weight (if available).\n",
    "\n",
    "The data consists of two data sets:\n",
    "\n",
    "1. `observations.csv` the individual observations.\n",
    "2. `species_names.csv` the overview list of the species names.\n",
    "\n",
    "Let's start with the observations data!"
   ]
  },
  {
   "cell_type": "markdown",
   "metadata": {},
   "source": [
    "## Reading in the observations data"
   ]
  },
  {
   "cell_type": "markdown",
   "metadata": {},
   "source": [
    "<div class=\"alert alert-success\">\n",
    "\n",
    "**EXERCISE**\n",
    "\n",
    "- Read in the `../data/observations.csv` file with Pandas and assign the resulting DataFrame to a variable with the name `survey_data_processed`.\n",
    "- Make sure the 'occurrenceID' column is used as the index of the resulting DataFrame while reading in the data set.\n",
    "- Inspect the first five rows of the DataFrame and the data types of each of the data columns.\n",
    "\n",
    "<details><summary>Hints</summary>\n",
    "    \n",
    "- All read functions in Pandas start with `pd.read_...`.\n",
    "- Setting a column as index can be done with an argument of the `read_csv` function To check the documentation of a function, use the keystroke combination of SHIFT + TAB when the cursor is on the function.\n",
    "- Remember `.head()` and `.info()`?\n",
    "    \n",
    "</details>"
   ]
  },
  {
   "cell_type": "code",
   "execution_count": 205,
   "metadata": {
    "clear_cell": true,
    "run_control": {
     "frozen": false,
     "read_only": false
    }
   },
   "outputs": [],
   "source": [
    "observations = pd.read_csv(\"../data/observations.csv\", index_col=\"occurrenceID\")"
   ]
  },
  {
   "cell_type": "code",
   "execution_count": 372,
   "metadata": {
    "clear_cell": true,
    "run_control": {
     "frozen": false,
     "read_only": false
    }
   },
   "outputs": [
    {
     "data": {
      "text/html": [
       "<div>\n",
       "<style scoped>\n",
       "    .dataframe tbody tr th:only-of-type {\n",
       "        vertical-align: middle;\n",
       "    }\n",
       "\n",
       "    .dataframe tbody tr th {\n",
       "        vertical-align: top;\n",
       "    }\n",
       "\n",
       "    .dataframe thead th {\n",
       "        text-align: right;\n",
       "    }\n",
       "</style>\n",
       "<table border=\"1\" class=\"dataframe\">\n",
       "  <thead>\n",
       "    <tr style=\"text-align: right;\">\n",
       "      <th></th>\n",
       "      <th>verbatimLocality</th>\n",
       "      <th>verbatimSex</th>\n",
       "      <th>weight</th>\n",
       "      <th>decimalLongitude</th>\n",
       "      <th>decimalLatitude</th>\n",
       "      <th>species_ID</th>\n",
       "      <th>day</th>\n",
       "      <th>month</th>\n",
       "      <th>year</th>\n",
       "      <th>eventDate</th>\n",
       "      <th>datasetName</th>\n",
       "      <th>sex</th>\n",
       "    </tr>\n",
       "    <tr>\n",
       "      <th>occurrenceID</th>\n",
       "      <th></th>\n",
       "      <th></th>\n",
       "      <th></th>\n",
       "      <th></th>\n",
       "      <th></th>\n",
       "      <th></th>\n",
       "      <th></th>\n",
       "      <th></th>\n",
       "      <th></th>\n",
       "      <th></th>\n",
       "      <th></th>\n",
       "      <th></th>\n",
       "    </tr>\n",
       "  </thead>\n",
       "  <tbody>\n",
       "    <tr>\n",
       "      <th>1</th>\n",
       "      <td>2</td>\n",
       "      <td>M</td>\n",
       "      <td>NaN</td>\n",
       "      <td>-109.081975</td>\n",
       "      <td>31.938887</td>\n",
       "      <td>NaN</td>\n",
       "      <td>16</td>\n",
       "      <td>7</td>\n",
       "      <td>1977</td>\n",
       "      <td>1977-07-16</td>\n",
       "      <td>Ecological Archives E090-118-D1.</td>\n",
       "      <td>male</td>\n",
       "    </tr>\n",
       "    <tr>\n",
       "      <th>2</th>\n",
       "      <td>3</td>\n",
       "      <td>M</td>\n",
       "      <td>NaN</td>\n",
       "      <td>-109.081208</td>\n",
       "      <td>31.938896</td>\n",
       "      <td>NaN</td>\n",
       "      <td>16</td>\n",
       "      <td>7</td>\n",
       "      <td>1977</td>\n",
       "      <td>1977-07-16</td>\n",
       "      <td>Ecological Archives E090-118-D1.</td>\n",
       "      <td>male</td>\n",
       "    </tr>\n",
       "    <tr>\n",
       "      <th>3</th>\n",
       "      <td>2</td>\n",
       "      <td>F</td>\n",
       "      <td>NaN</td>\n",
       "      <td>-109.081975</td>\n",
       "      <td>31.938887</td>\n",
       "      <td>2439521.0</td>\n",
       "      <td>16</td>\n",
       "      <td>7</td>\n",
       "      <td>1977</td>\n",
       "      <td>1977-07-16</td>\n",
       "      <td>Ecological Archives E090-118-D1.</td>\n",
       "      <td>female</td>\n",
       "    </tr>\n",
       "    <tr>\n",
       "      <th>4</th>\n",
       "      <td>7</td>\n",
       "      <td>M</td>\n",
       "      <td>NaN</td>\n",
       "      <td>-109.082816</td>\n",
       "      <td>31.938113</td>\n",
       "      <td>2439521.0</td>\n",
       "      <td>16</td>\n",
       "      <td>7</td>\n",
       "      <td>1977</td>\n",
       "      <td>1977-07-16</td>\n",
       "      <td>Ecological Archives E090-118-D1.</td>\n",
       "      <td>male</td>\n",
       "    </tr>\n",
       "    <tr>\n",
       "      <th>5</th>\n",
       "      <td>3</td>\n",
       "      <td>M</td>\n",
       "      <td>NaN</td>\n",
       "      <td>-109.081208</td>\n",
       "      <td>31.938896</td>\n",
       "      <td>2439521.0</td>\n",
       "      <td>16</td>\n",
       "      <td>7</td>\n",
       "      <td>1977</td>\n",
       "      <td>1977-07-16</td>\n",
       "      <td>Ecological Archives E090-118-D1.</td>\n",
       "      <td>male</td>\n",
       "    </tr>\n",
       "  </tbody>\n",
       "</table>\n",
       "</div>"
      ],
      "text/plain": [
       "              verbatimLocality verbatimSex  weight  decimalLongitude  \\\n",
       "occurrenceID                                                           \n",
       "1                            2           M     NaN       -109.081975   \n",
       "2                            3           M     NaN       -109.081208   \n",
       "3                            2           F     NaN       -109.081975   \n",
       "4                            7           M     NaN       -109.082816   \n",
       "5                            3           M     NaN       -109.081208   \n",
       "\n",
       "              decimalLatitude  species_ID  day  month  year  eventDate  \\\n",
       "occurrenceID                                                             \n",
       "1                   31.938887         NaN   16      7  1977 1977-07-16   \n",
       "2                   31.938896         NaN   16      7  1977 1977-07-16   \n",
       "3                   31.938887   2439521.0   16      7  1977 1977-07-16   \n",
       "4                   31.938113   2439521.0   16      7  1977 1977-07-16   \n",
       "5                   31.938896   2439521.0   16      7  1977 1977-07-16   \n",
       "\n",
       "                                   datasetName     sex  \n",
       "occurrenceID                                            \n",
       "1             Ecological Archives E090-118-D1.    male  \n",
       "2             Ecological Archives E090-118-D1.    male  \n",
       "3             Ecological Archives E090-118-D1.  female  \n",
       "4             Ecological Archives E090-118-D1.    male  \n",
       "5             Ecological Archives E090-118-D1.    male  "
      ]
     },
     "execution_count": 372,
     "metadata": {},
     "output_type": "execute_result"
    }
   ],
   "source": [
    "observations.head()"
   ]
  },
  {
   "cell_type": "code",
   "execution_count": 207,
   "metadata": {
    "clear_cell": true,
    "run_control": {
     "frozen": false,
     "read_only": false
    }
   },
   "outputs": [
    {
     "name": "stdout",
     "output_type": "stream",
     "text": [
      "<class 'pandas.core.frame.DataFrame'>\n",
      "Int64Index: 35550 entries, 1 to 35550\n",
      "Data columns (total 9 columns):\n",
      " #   Column            Non-Null Count  Dtype  \n",
      "---  ------            --------------  -----  \n",
      " 0   verbatimLocality  35550 non-null  int64  \n",
      " 1   verbatimSex       33042 non-null  object \n",
      " 2   weight            32283 non-null  float64\n",
      " 3   decimalLongitude  35550 non-null  float64\n",
      " 4   decimalLatitude   35550 non-null  float64\n",
      " 5   species_ID        33448 non-null  float64\n",
      " 6   day               35550 non-null  int64  \n",
      " 7   month             35550 non-null  int64  \n",
      " 8   year              35550 non-null  int64  \n",
      "dtypes: float64(4), int64(4), object(1)\n",
      "memory usage: 2.7+ MB\n"
     ]
    }
   ],
   "source": [
    "observations.info()"
   ]
  },
  {
   "cell_type": "markdown",
   "metadata": {},
   "source": [
    "<div class=\"alert alert-success\">\n",
    "\n",
    "**EXERCISE**\n",
    "\n",
    "Create a new columns with the name `eventDate` which contains datetime-aware information of each observation. To do so, combine the columns `day`, `month` and `year` into a datetime-aware data type by using the `pd.to_datetime` function from Pandas.\n",
    "\n",
    "<details><summary>Hints</summary>\n",
    "\n",
    "- `pd.to_datetime` can automatically combine the information from multiple columns. To select multiple columns, use a list of column names, e.g. `df[[\"my_col1\", \"my_col2\"]]`\n",
    "- To create a new column, assign the result to new name, e.g. `df[\"my_new_col\"] = df[\"my_col\"] + 1`\n",
    "    \n",
    "</details>"
   ]
  },
  {
   "cell_type": "code",
   "execution_count": 208,
   "metadata": {},
   "outputs": [
    {
     "data": {
      "text/html": [
       "<div>\n",
       "<style scoped>\n",
       "    .dataframe tbody tr th:only-of-type {\n",
       "        vertical-align: middle;\n",
       "    }\n",
       "\n",
       "    .dataframe tbody tr th {\n",
       "        vertical-align: top;\n",
       "    }\n",
       "\n",
       "    .dataframe thead th {\n",
       "        text-align: right;\n",
       "    }\n",
       "</style>\n",
       "<table border=\"1\" class=\"dataframe\">\n",
       "  <thead>\n",
       "    <tr style=\"text-align: right;\">\n",
       "      <th></th>\n",
       "      <th>verbatimLocality</th>\n",
       "      <th>verbatimSex</th>\n",
       "      <th>weight</th>\n",
       "      <th>decimalLongitude</th>\n",
       "      <th>decimalLatitude</th>\n",
       "      <th>species_ID</th>\n",
       "      <th>day</th>\n",
       "      <th>month</th>\n",
       "      <th>year</th>\n",
       "      <th>eventDate</th>\n",
       "    </tr>\n",
       "    <tr>\n",
       "      <th>occurrenceID</th>\n",
       "      <th></th>\n",
       "      <th></th>\n",
       "      <th></th>\n",
       "      <th></th>\n",
       "      <th></th>\n",
       "      <th></th>\n",
       "      <th></th>\n",
       "      <th></th>\n",
       "      <th></th>\n",
       "      <th></th>\n",
       "    </tr>\n",
       "  </thead>\n",
       "  <tbody>\n",
       "    <tr>\n",
       "      <th>1</th>\n",
       "      <td>2</td>\n",
       "      <td>M</td>\n",
       "      <td>NaN</td>\n",
       "      <td>-109.081975</td>\n",
       "      <td>31.938887</td>\n",
       "      <td>NaN</td>\n",
       "      <td>16</td>\n",
       "      <td>7</td>\n",
       "      <td>1977</td>\n",
       "      <td>1977-07-16</td>\n",
       "    </tr>\n",
       "    <tr>\n",
       "      <th>2</th>\n",
       "      <td>3</td>\n",
       "      <td>M</td>\n",
       "      <td>NaN</td>\n",
       "      <td>-109.081208</td>\n",
       "      <td>31.938896</td>\n",
       "      <td>NaN</td>\n",
       "      <td>16</td>\n",
       "      <td>7</td>\n",
       "      <td>1977</td>\n",
       "      <td>1977-07-16</td>\n",
       "    </tr>\n",
       "    <tr>\n",
       "      <th>3</th>\n",
       "      <td>2</td>\n",
       "      <td>F</td>\n",
       "      <td>NaN</td>\n",
       "      <td>-109.081975</td>\n",
       "      <td>31.938887</td>\n",
       "      <td>2439521.0</td>\n",
       "      <td>16</td>\n",
       "      <td>7</td>\n",
       "      <td>1977</td>\n",
       "      <td>1977-07-16</td>\n",
       "    </tr>\n",
       "    <tr>\n",
       "      <th>4</th>\n",
       "      <td>7</td>\n",
       "      <td>M</td>\n",
       "      <td>NaN</td>\n",
       "      <td>-109.082816</td>\n",
       "      <td>31.938113</td>\n",
       "      <td>2439521.0</td>\n",
       "      <td>16</td>\n",
       "      <td>7</td>\n",
       "      <td>1977</td>\n",
       "      <td>1977-07-16</td>\n",
       "    </tr>\n",
       "    <tr>\n",
       "      <th>5</th>\n",
       "      <td>3</td>\n",
       "      <td>M</td>\n",
       "      <td>NaN</td>\n",
       "      <td>-109.081208</td>\n",
       "      <td>31.938896</td>\n",
       "      <td>2439521.0</td>\n",
       "      <td>16</td>\n",
       "      <td>7</td>\n",
       "      <td>1977</td>\n",
       "      <td>1977-07-16</td>\n",
       "    </tr>\n",
       "    <tr>\n",
       "      <th>...</th>\n",
       "      <td>...</td>\n",
       "      <td>...</td>\n",
       "      <td>...</td>\n",
       "      <td>...</td>\n",
       "      <td>...</td>\n",
       "      <td>...</td>\n",
       "      <td>...</td>\n",
       "      <td>...</td>\n",
       "      <td>...</td>\n",
       "      <td>...</td>\n",
       "    </tr>\n",
       "    <tr>\n",
       "      <th>35546</th>\n",
       "      <td>15</td>\n",
       "      <td>NaN</td>\n",
       "      <td>NaN</td>\n",
       "      <td>-109.081036</td>\n",
       "      <td>31.937059</td>\n",
       "      <td>2437568.0</td>\n",
       "      <td>31</td>\n",
       "      <td>12</td>\n",
       "      <td>2002</td>\n",
       "      <td>2002-12-31</td>\n",
       "    </tr>\n",
       "    <tr>\n",
       "      <th>35547</th>\n",
       "      <td>15</td>\n",
       "      <td>NaN</td>\n",
       "      <td>NaN</td>\n",
       "      <td>-109.081036</td>\n",
       "      <td>31.937059</td>\n",
       "      <td>2437568.0</td>\n",
       "      <td>31</td>\n",
       "      <td>12</td>\n",
       "      <td>2002</td>\n",
       "      <td>2002-12-31</td>\n",
       "    </tr>\n",
       "    <tr>\n",
       "      <th>35548</th>\n",
       "      <td>10</td>\n",
       "      <td>F</td>\n",
       "      <td>14.0</td>\n",
       "      <td>-109.080091</td>\n",
       "      <td>31.938017</td>\n",
       "      <td>2437874.0</td>\n",
       "      <td>31</td>\n",
       "      <td>12</td>\n",
       "      <td>2002</td>\n",
       "      <td>2002-12-31</td>\n",
       "    </tr>\n",
       "    <tr>\n",
       "      <th>35549</th>\n",
       "      <td>7</td>\n",
       "      <td>M</td>\n",
       "      <td>51.0</td>\n",
       "      <td>-109.082816</td>\n",
       "      <td>31.938113</td>\n",
       "      <td>2439541.0</td>\n",
       "      <td>31</td>\n",
       "      <td>12</td>\n",
       "      <td>2002</td>\n",
       "      <td>2002-12-31</td>\n",
       "    </tr>\n",
       "    <tr>\n",
       "      <th>35550</th>\n",
       "      <td>5</td>\n",
       "      <td>NaN</td>\n",
       "      <td>NaN</td>\n",
       "      <td>-109.079602</td>\n",
       "      <td>31.938970</td>\n",
       "      <td>NaN</td>\n",
       "      <td>31</td>\n",
       "      <td>12</td>\n",
       "      <td>2002</td>\n",
       "      <td>2002-12-31</td>\n",
       "    </tr>\n",
       "  </tbody>\n",
       "</table>\n",
       "<p>35550 rows × 10 columns</p>\n",
       "</div>"
      ],
      "text/plain": [
       "              verbatimLocality verbatimSex  weight  decimalLongitude  \\\n",
       "occurrenceID                                                           \n",
       "1                            2           M     NaN       -109.081975   \n",
       "2                            3           M     NaN       -109.081208   \n",
       "3                            2           F     NaN       -109.081975   \n",
       "4                            7           M     NaN       -109.082816   \n",
       "5                            3           M     NaN       -109.081208   \n",
       "...                        ...         ...     ...               ...   \n",
       "35546                       15         NaN     NaN       -109.081036   \n",
       "35547                       15         NaN     NaN       -109.081036   \n",
       "35548                       10           F    14.0       -109.080091   \n",
       "35549                        7           M    51.0       -109.082816   \n",
       "35550                        5         NaN     NaN       -109.079602   \n",
       "\n",
       "              decimalLatitude  species_ID  day  month  year  eventDate  \n",
       "occurrenceID                                                            \n",
       "1                   31.938887         NaN   16      7  1977 1977-07-16  \n",
       "2                   31.938896         NaN   16      7  1977 1977-07-16  \n",
       "3                   31.938887   2439521.0   16      7  1977 1977-07-16  \n",
       "4                   31.938113   2439521.0   16      7  1977 1977-07-16  \n",
       "5                   31.938896   2439521.0   16      7  1977 1977-07-16  \n",
       "...                       ...         ...  ...    ...   ...        ...  \n",
       "35546               31.937059   2437568.0   31     12  2002 2002-12-31  \n",
       "35547               31.937059   2437568.0   31     12  2002 2002-12-31  \n",
       "35548               31.938017   2437874.0   31     12  2002 2002-12-31  \n",
       "35549               31.938113   2439541.0   31     12  2002 2002-12-31  \n",
       "35550               31.938970         NaN   31     12  2002 2002-12-31  \n",
       "\n",
       "[35550 rows x 10 columns]"
      ]
     },
     "execution_count": 208,
     "metadata": {},
     "output_type": "execute_result"
    }
   ],
   "source": [
    "observations[\"eventDate\"] =  pd.to_datetime(observations[[\"year\", \"month\", \"day\"]])\n",
    "observations"
   ]
  },
  {
   "cell_type": "markdown",
   "metadata": {},
   "source": [
    "<div class=\"alert alert-success\">\n",
    "\n",
    "**EXERCISE**\n",
    "\n",
    "For convenience when this dataset will be combined with other datasets, add a new column, `datasetName`, to the survey data set with `\"Ecological Archives E090-118-D1.\"` as value for each of the individual records (static value for the entire data set)\n",
    "\n",
    "<details><summary>Hints</summary>\n",
    "\n",
    "- Pandas will automatically broadcast a single string value to each of the rows in the DataFrame.\n",
    "    \n",
    "</details>"
   ]
  },
  {
   "cell_type": "code",
   "execution_count": 209,
   "metadata": {},
   "outputs": [],
   "source": [
    "observations[\"datasetName\"] = \"Ecological Archives E090-118-D1.\""
   ]
  },
  {
   "cell_type": "markdown",
   "metadata": {},
   "source": [
    "## Cleaning the `verbatimSex` column"
   ]
  },
  {
   "cell_type": "code",
   "execution_count": 210,
   "metadata": {},
   "outputs": [
    {
     "data": {
      "text/plain": [
       "array(['M', 'F', nan, 'R', 'P', 'Z'], dtype=object)"
      ]
     },
     "execution_count": 210,
     "metadata": {},
     "output_type": "execute_result"
    }
   ],
   "source": [
    "observations[\"verbatimSex\"].unique()"
   ]
  },
  {
   "cell_type": "markdown",
   "metadata": {},
   "source": [
    "For the further analysis (and the species concerned in this specific data set), the `sex` information should be either `male` or `female`. We want to create a new column, named `sex` and convert the current values to the corresponding sex, taking into account the following mapping:\n",
    "* `M` -> `male`\n",
    "* `F` -> `female`\n",
    "* `R` -> `male`\n",
    "* `P` -> `female`\n",
    "* `Z` -> nan"
   ]
  },
  {
   "cell_type": "markdown",
   "metadata": {},
   "source": [
    "<div class=\"alert alert-success\">\n",
    "\n",
    "**EXERCISE**\n",
    "\n",
    "- Express the mapping of the values (e.g. `M` -> `male`) into a Python dictionary object with the variable name `sex_dict`. `Z` values correspond to _Not a Number_, which can be defined as `np.nan`. \n",
    "- Use the `sex_dict` dictionary to replace the values in the `verbatimSex` column to the new values and save the mapped values in a new column 'sex' of the DataFrame.\n",
    "- Check the conversion by printing the unique values within the new column `sex`.\n",
    "\n",
    "<details><summary>Hints</summary>\n",
    "    \n",
    "- A dictionary is a Python data structure, https://docs.python.org/3/tutorial/datastructures.html#dictionaries\n",
    "    \n",
    "</details>"
   ]
  },
  {
   "cell_type": "code",
   "execution_count": 211,
   "metadata": {},
   "outputs": [],
   "source": [
    "sex_dict = {\"M\": \"male\",\n",
    "            \"F\": \"female\",\n",
    "            \"R\": \"male\",\n",
    "            \"P\": \"female\",\n",
    "            \"Z\": np.nan}"
   ]
  },
  {
   "cell_type": "code",
   "execution_count": 212,
   "metadata": {},
   "outputs": [],
   "source": [
    "observations['sex'] = observations['verbatimSex'].replace(sex_dict)"
   ]
  },
  {
   "cell_type": "code",
   "execution_count": 213,
   "metadata": {},
   "outputs": [
    {
     "data": {
      "text/plain": [
       "array(['male', 'female', nan], dtype=object)"
      ]
     },
     "execution_count": 213,
     "metadata": {},
     "output_type": "execute_result"
    }
   ],
   "source": [
    "observations[\"sex\"].unique()"
   ]
  },
  {
   "cell_type": "markdown",
   "metadata": {},
   "source": [
    "## Tackle missing values (NaN) and duplicate values"
   ]
  },
  {
   "cell_type": "markdown",
   "metadata": {},
   "source": [
    "<div class=\"alert alert-success\">\n",
    "\n",
    "**EXERCISE**\n",
    "\n",
    "How many records are in the data set without information on the `species_ID`? Use the `isna()` method to find out.\n",
    "\n",
    "<details><summary>Hints</summary>\n",
    "    \n",
    "- Do NOT use `observations['species_ID'] == Null`, but use the available method `isna()` to check if a value is NaN\n",
    "- The result of an (element-wise) condition returns a set of True/False values, corresponding to 1/0 values. The amount of True values is equal to the sum.\n",
    "    \n",
    "</details>"
   ]
  },
  {
   "cell_type": "code",
   "execution_count": 214,
   "metadata": {
    "clear_cell": true,
    "run_control": {
     "frozen": false,
     "read_only": false
    }
   },
   "outputs": [
    {
     "data": {
      "text/plain": [
       "2102"
      ]
     },
     "execution_count": 214,
     "metadata": {},
     "output_type": "execute_result"
    }
   ],
   "source": [
    "observations['species_ID'].isna().sum()"
   ]
  },
  {
   "cell_type": "markdown",
   "metadata": {},
   "source": [
    "<div class=\"alert alert-success\">\n",
    "\n",
    "**EXERCISE**\n",
    "\n",
    "How many duplicate records are present in the dataset? Use the method `duplicated()` to check if a row is a duplicate.\n",
    "\n",
    "<details><summary>Hints</summary>\n",
    "    \n",
    "- The result of an (element-wise) condition returns a set of True/False values, corresponding to 1/0 values. The amount of True values is equal to the sum.\n",
    "    \n",
    "</details>"
   ]
  },
  {
   "cell_type": "code",
   "execution_count": 215,
   "metadata": {
    "clear_cell": true,
    "run_control": {
     "frozen": false,
     "read_only": false
    }
   },
   "outputs": [
    {
     "data": {
      "text/plain": [
       "1579"
      ]
     },
     "execution_count": 215,
     "metadata": {},
     "output_type": "execute_result"
    }
   ],
   "source": [
    "observations.duplicated().sum()"
   ]
  },
  {
   "cell_type": "markdown",
   "metadata": {},
   "source": [
    "<div class=\"alert alert-success\">\n",
    "\n",
    "**EXERCISE**\n",
    "\n",
    "- Select all duplicate data by filtering the `observations` data and assign the result to a new variable `duplicate_observations`. The `duplicated()` method provides an `keep` argument define which duplicates (if any) to mark.\n",
    "- Sort the `duplicate_observations` data on both the columns `eventDate` and `verbatimLocality` and show the first 9 records.\n",
    "\n",
    "<details><summary>Hints</summary>\n",
    "    \n",
    "- Check the documentation of the `duplicated` method to find out which value the argument `keep` requires to select all duplicate data.\n",
    "- `sort_values()` can work with a single columns name as well as a list of names.\n",
    "    \n",
    "</details>"
   ]
  },
  {
   "cell_type": "code",
   "execution_count": 216,
   "metadata": {
    "clear_cell": true,
    "run_control": {
     "frozen": false,
     "read_only": false
    }
   },
   "outputs": [
    {
     "data": {
      "text/html": [
       "<div>\n",
       "<style scoped>\n",
       "    .dataframe tbody tr th:only-of-type {\n",
       "        vertical-align: middle;\n",
       "    }\n",
       "\n",
       "    .dataframe tbody tr th {\n",
       "        vertical-align: top;\n",
       "    }\n",
       "\n",
       "    .dataframe thead th {\n",
       "        text-align: right;\n",
       "    }\n",
       "</style>\n",
       "<table border=\"1\" class=\"dataframe\">\n",
       "  <thead>\n",
       "    <tr style=\"text-align: right;\">\n",
       "      <th></th>\n",
       "      <th>verbatimLocality</th>\n",
       "      <th>verbatimSex</th>\n",
       "      <th>weight</th>\n",
       "      <th>decimalLongitude</th>\n",
       "      <th>decimalLatitude</th>\n",
       "      <th>species_ID</th>\n",
       "      <th>day</th>\n",
       "      <th>month</th>\n",
       "      <th>year</th>\n",
       "      <th>eventDate</th>\n",
       "      <th>datasetName</th>\n",
       "      <th>sex</th>\n",
       "    </tr>\n",
       "    <tr>\n",
       "      <th>occurrenceID</th>\n",
       "      <th></th>\n",
       "      <th></th>\n",
       "      <th></th>\n",
       "      <th></th>\n",
       "      <th></th>\n",
       "      <th></th>\n",
       "      <th></th>\n",
       "      <th></th>\n",
       "      <th></th>\n",
       "      <th></th>\n",
       "      <th></th>\n",
       "      <th></th>\n",
       "    </tr>\n",
       "  </thead>\n",
       "  <tbody>\n",
       "    <tr>\n",
       "      <th>5</th>\n",
       "      <td>3</td>\n",
       "      <td>M</td>\n",
       "      <td>NaN</td>\n",
       "      <td>-109.081208</td>\n",
       "      <td>31.938896</td>\n",
       "      <td>2439521.0</td>\n",
       "      <td>16</td>\n",
       "      <td>7</td>\n",
       "      <td>1977</td>\n",
       "      <td>1977-07-16</td>\n",
       "      <td>Ecological Archives E090-118-D1.</td>\n",
       "      <td>male</td>\n",
       "    </tr>\n",
       "    <tr>\n",
       "      <th>14</th>\n",
       "      <td>3</td>\n",
       "      <td>M</td>\n",
       "      <td>NaN</td>\n",
       "      <td>-109.081208</td>\n",
       "      <td>31.938896</td>\n",
       "      <td>2439521.0</td>\n",
       "      <td>16</td>\n",
       "      <td>7</td>\n",
       "      <td>1977</td>\n",
       "      <td>1977-07-16</td>\n",
       "      <td>Ecological Archives E090-118-D1.</td>\n",
       "      <td>male</td>\n",
       "    </tr>\n",
       "    <tr>\n",
       "      <th>4</th>\n",
       "      <td>7</td>\n",
       "      <td>M</td>\n",
       "      <td>NaN</td>\n",
       "      <td>-109.082816</td>\n",
       "      <td>31.938113</td>\n",
       "      <td>2439521.0</td>\n",
       "      <td>16</td>\n",
       "      <td>7</td>\n",
       "      <td>1977</td>\n",
       "      <td>1977-07-16</td>\n",
       "      <td>Ecological Archives E090-118-D1.</td>\n",
       "      <td>male</td>\n",
       "    </tr>\n",
       "    <tr>\n",
       "      <th>13</th>\n",
       "      <td>7</td>\n",
       "      <td>M</td>\n",
       "      <td>NaN</td>\n",
       "      <td>-109.082816</td>\n",
       "      <td>31.938113</td>\n",
       "      <td>2439521.0</td>\n",
       "      <td>16</td>\n",
       "      <td>7</td>\n",
       "      <td>1977</td>\n",
       "      <td>1977-07-16</td>\n",
       "      <td>Ecological Archives E090-118-D1.</td>\n",
       "      <td>male</td>\n",
       "    </tr>\n",
       "    <tr>\n",
       "      <th>34</th>\n",
       "      <td>11</td>\n",
       "      <td>F</td>\n",
       "      <td>NaN</td>\n",
       "      <td>-109.079307</td>\n",
       "      <td>31.938056</td>\n",
       "      <td>2439521.0</td>\n",
       "      <td>17</td>\n",
       "      <td>7</td>\n",
       "      <td>1977</td>\n",
       "      <td>1977-07-17</td>\n",
       "      <td>Ecological Archives E090-118-D1.</td>\n",
       "      <td>female</td>\n",
       "    </tr>\n",
       "    <tr>\n",
       "      <th>38</th>\n",
       "      <td>11</td>\n",
       "      <td>F</td>\n",
       "      <td>NaN</td>\n",
       "      <td>-109.079307</td>\n",
       "      <td>31.938056</td>\n",
       "      <td>2439521.0</td>\n",
       "      <td>17</td>\n",
       "      <td>7</td>\n",
       "      <td>1977</td>\n",
       "      <td>1977-07-17</td>\n",
       "      <td>Ecological Archives E090-118-D1.</td>\n",
       "      <td>female</td>\n",
       "    </tr>\n",
       "    <tr>\n",
       "      <th>40</th>\n",
       "      <td>11</td>\n",
       "      <td>F</td>\n",
       "      <td>NaN</td>\n",
       "      <td>-109.079307</td>\n",
       "      <td>31.938056</td>\n",
       "      <td>2439521.0</td>\n",
       "      <td>17</td>\n",
       "      <td>7</td>\n",
       "      <td>1977</td>\n",
       "      <td>1977-07-17</td>\n",
       "      <td>Ecological Archives E090-118-D1.</td>\n",
       "      <td>female</td>\n",
       "    </tr>\n",
       "    <tr>\n",
       "      <th>27</th>\n",
       "      <td>15</td>\n",
       "      <td>M</td>\n",
       "      <td>NaN</td>\n",
       "      <td>-109.081036</td>\n",
       "      <td>31.937059</td>\n",
       "      <td>2439521.0</td>\n",
       "      <td>17</td>\n",
       "      <td>7</td>\n",
       "      <td>1977</td>\n",
       "      <td>1977-07-17</td>\n",
       "      <td>Ecological Archives E090-118-D1.</td>\n",
       "      <td>male</td>\n",
       "    </tr>\n",
       "    <tr>\n",
       "      <th>28</th>\n",
       "      <td>15</td>\n",
       "      <td>M</td>\n",
       "      <td>NaN</td>\n",
       "      <td>-109.081036</td>\n",
       "      <td>31.937059</td>\n",
       "      <td>2439521.0</td>\n",
       "      <td>17</td>\n",
       "      <td>7</td>\n",
       "      <td>1977</td>\n",
       "      <td>1977-07-17</td>\n",
       "      <td>Ecological Archives E090-118-D1.</td>\n",
       "      <td>male</td>\n",
       "    </tr>\n",
       "  </tbody>\n",
       "</table>\n",
       "</div>"
      ],
      "text/plain": [
       "              verbatimLocality verbatimSex  weight  decimalLongitude  \\\n",
       "occurrenceID                                                           \n",
       "5                            3           M     NaN       -109.081208   \n",
       "14                           3           M     NaN       -109.081208   \n",
       "4                            7           M     NaN       -109.082816   \n",
       "13                           7           M     NaN       -109.082816   \n",
       "34                          11           F     NaN       -109.079307   \n",
       "38                          11           F     NaN       -109.079307   \n",
       "40                          11           F     NaN       -109.079307   \n",
       "27                          15           M     NaN       -109.081036   \n",
       "28                          15           M     NaN       -109.081036   \n",
       "\n",
       "              decimalLatitude  species_ID  day  month  year  eventDate  \\\n",
       "occurrenceID                                                             \n",
       "5                   31.938896   2439521.0   16      7  1977 1977-07-16   \n",
       "14                  31.938896   2439521.0   16      7  1977 1977-07-16   \n",
       "4                   31.938113   2439521.0   16      7  1977 1977-07-16   \n",
       "13                  31.938113   2439521.0   16      7  1977 1977-07-16   \n",
       "34                  31.938056   2439521.0   17      7  1977 1977-07-17   \n",
       "38                  31.938056   2439521.0   17      7  1977 1977-07-17   \n",
       "40                  31.938056   2439521.0   17      7  1977 1977-07-17   \n",
       "27                  31.937059   2439521.0   17      7  1977 1977-07-17   \n",
       "28                  31.937059   2439521.0   17      7  1977 1977-07-17   \n",
       "\n",
       "                                   datasetName     sex  \n",
       "occurrenceID                                            \n",
       "5             Ecological Archives E090-118-D1.    male  \n",
       "14            Ecological Archives E090-118-D1.    male  \n",
       "4             Ecological Archives E090-118-D1.    male  \n",
       "13            Ecological Archives E090-118-D1.    male  \n",
       "34            Ecological Archives E090-118-D1.  female  \n",
       "38            Ecological Archives E090-118-D1.  female  \n",
       "40            Ecological Archives E090-118-D1.  female  \n",
       "27            Ecological Archives E090-118-D1.    male  \n",
       "28            Ecological Archives E090-118-D1.    male  "
      ]
     },
     "execution_count": 216,
     "metadata": {},
     "output_type": "execute_result"
    }
   ],
   "source": [
    "duplicate_observations = observations[observations.duplicated(keep=False)]\n",
    "duplicate_observations.sort_values([\"eventDate\", \"verbatimLocality\"]).head(9)"
   ]
  },
  {
   "cell_type": "markdown",
   "metadata": {},
   "source": [
    "<div class=\"alert alert-success\">\n",
    "\n",
    "**EXERCISE**\n",
    "\n",
    "- Exclude the duplicate values (i.e. keep the first occurrence while removing the other ones) from the `observations` data set and save the result as `observations_unique`. Use the `drop duplicates()` method from Pandas.\n",
    "- How many observations are still left in the data set?    \n",
    "\n",
    "<details><summary>Hints</summary>\n",
    "    \n",
    "- `keep=First` is the default option for `drop_duplicates`\n",
    "- The number of rows in a DataFrame is equel to the `len`gth    \n",
    "    \n",
    "</details>"
   ]
  },
  {
   "cell_type": "code",
   "execution_count": 217,
   "metadata": {
    "clear_cell": true,
    "run_control": {
     "frozen": false,
     "read_only": false
    }
   },
   "outputs": [],
   "source": [
    "observations_unique = observations.drop_duplicates()"
   ]
  },
  {
   "cell_type": "code",
   "execution_count": 218,
   "metadata": {
    "run_control": {
     "frozen": false,
     "read_only": false
    }
   },
   "outputs": [
    {
     "data": {
      "text/plain": [
       "33971"
      ]
     },
     "execution_count": 218,
     "metadata": {},
     "output_type": "execute_result"
    }
   ],
   "source": [
    "len(observations_unique)"
   ]
  },
  {
   "cell_type": "markdown",
   "metadata": {},
   "source": [
    "<div class=\"alert alert-success\">\n",
    "\n",
    "**EXERCISE**\n",
    "\n",
    "Use the `dropna()` method to find out:    \n",
    "\n",
    "- For how many observations (rows) we have all the information available (i.e. no NaN values in any of the columns)? \n",
    "- For how many observations (rows) we do have the `species_ID` data available ? \n",
    "- Remove the data without `species_ID` data from the observations and assign the result to a new variable `observations_with_ID`\n",
    "\n",
    "<details><summary>Hints</summary>\n",
    "    \n",
    "- `dropna` by default removes by default all rows for which _any_ of the columns contains a `NaN` value. \n",
    "- To specify which specific columns to check, use the `subset` argument\n",
    "    \n",
    "</details>"
   ]
  },
  {
   "cell_type": "code",
   "execution_count": 219,
   "metadata": {
    "clear_cell": true,
    "run_control": {
     "frozen": false,
     "read_only": false
    }
   },
   "outputs": [
    {
     "data": {
      "text/plain": [
       "29777"
      ]
     },
     "execution_count": 219,
     "metadata": {},
     "output_type": "execute_result"
    }
   ],
   "source": [
    "len(observations_unique.dropna())"
   ]
  },
  {
   "cell_type": "code",
   "execution_count": 220,
   "metadata": {},
   "outputs": [
    {
     "data": {
      "text/plain": [
       "31876"
      ]
     },
     "execution_count": 220,
     "metadata": {},
     "output_type": "execute_result"
    }
   ],
   "source": [
    "len(observations_unique.dropna(subset=['species_ID']))"
   ]
  },
  {
   "cell_type": "code",
   "execution_count": 221,
   "metadata": {},
   "outputs": [
    {
     "data": {
      "text/html": [
       "<div>\n",
       "<style scoped>\n",
       "    .dataframe tbody tr th:only-of-type {\n",
       "        vertical-align: middle;\n",
       "    }\n",
       "\n",
       "    .dataframe tbody tr th {\n",
       "        vertical-align: top;\n",
       "    }\n",
       "\n",
       "    .dataframe thead th {\n",
       "        text-align: right;\n",
       "    }\n",
       "</style>\n",
       "<table border=\"1\" class=\"dataframe\">\n",
       "  <thead>\n",
       "    <tr style=\"text-align: right;\">\n",
       "      <th></th>\n",
       "      <th>verbatimLocality</th>\n",
       "      <th>verbatimSex</th>\n",
       "      <th>weight</th>\n",
       "      <th>decimalLongitude</th>\n",
       "      <th>decimalLatitude</th>\n",
       "      <th>species_ID</th>\n",
       "      <th>day</th>\n",
       "      <th>month</th>\n",
       "      <th>year</th>\n",
       "      <th>eventDate</th>\n",
       "      <th>datasetName</th>\n",
       "      <th>sex</th>\n",
       "    </tr>\n",
       "    <tr>\n",
       "      <th>occurrenceID</th>\n",
       "      <th></th>\n",
       "      <th></th>\n",
       "      <th></th>\n",
       "      <th></th>\n",
       "      <th></th>\n",
       "      <th></th>\n",
       "      <th></th>\n",
       "      <th></th>\n",
       "      <th></th>\n",
       "      <th></th>\n",
       "      <th></th>\n",
       "      <th></th>\n",
       "    </tr>\n",
       "  </thead>\n",
       "  <tbody>\n",
       "    <tr>\n",
       "      <th>3</th>\n",
       "      <td>2</td>\n",
       "      <td>F</td>\n",
       "      <td>NaN</td>\n",
       "      <td>-109.081975</td>\n",
       "      <td>31.938887</td>\n",
       "      <td>2439521.0</td>\n",
       "      <td>16</td>\n",
       "      <td>7</td>\n",
       "      <td>1977</td>\n",
       "      <td>1977-07-16</td>\n",
       "      <td>Ecological Archives E090-118-D1.</td>\n",
       "      <td>female</td>\n",
       "    </tr>\n",
       "    <tr>\n",
       "      <th>4</th>\n",
       "      <td>7</td>\n",
       "      <td>M</td>\n",
       "      <td>NaN</td>\n",
       "      <td>-109.082816</td>\n",
       "      <td>31.938113</td>\n",
       "      <td>2439521.0</td>\n",
       "      <td>16</td>\n",
       "      <td>7</td>\n",
       "      <td>1977</td>\n",
       "      <td>1977-07-16</td>\n",
       "      <td>Ecological Archives E090-118-D1.</td>\n",
       "      <td>male</td>\n",
       "    </tr>\n",
       "    <tr>\n",
       "      <th>5</th>\n",
       "      <td>3</td>\n",
       "      <td>M</td>\n",
       "      <td>NaN</td>\n",
       "      <td>-109.081208</td>\n",
       "      <td>31.938896</td>\n",
       "      <td>2439521.0</td>\n",
       "      <td>16</td>\n",
       "      <td>7</td>\n",
       "      <td>1977</td>\n",
       "      <td>1977-07-16</td>\n",
       "      <td>Ecological Archives E090-118-D1.</td>\n",
       "      <td>male</td>\n",
       "    </tr>\n",
       "    <tr>\n",
       "      <th>6</th>\n",
       "      <td>1</td>\n",
       "      <td>M</td>\n",
       "      <td>NaN</td>\n",
       "      <td>-109.082829</td>\n",
       "      <td>31.938851</td>\n",
       "      <td>2439566.0</td>\n",
       "      <td>16</td>\n",
       "      <td>7</td>\n",
       "      <td>1977</td>\n",
       "      <td>1977-07-16</td>\n",
       "      <td>Ecological Archives E090-118-D1.</td>\n",
       "      <td>male</td>\n",
       "    </tr>\n",
       "    <tr>\n",
       "      <th>7</th>\n",
       "      <td>2</td>\n",
       "      <td>F</td>\n",
       "      <td>NaN</td>\n",
       "      <td>-109.081975</td>\n",
       "      <td>31.938887</td>\n",
       "      <td>2437981.0</td>\n",
       "      <td>16</td>\n",
       "      <td>7</td>\n",
       "      <td>1977</td>\n",
       "      <td>1977-07-16</td>\n",
       "      <td>Ecological Archives E090-118-D1.</td>\n",
       "      <td>female</td>\n",
       "    </tr>\n",
       "  </tbody>\n",
       "</table>\n",
       "</div>"
      ],
      "text/plain": [
       "              verbatimLocality verbatimSex  weight  decimalLongitude  \\\n",
       "occurrenceID                                                           \n",
       "3                            2           F     NaN       -109.081975   \n",
       "4                            7           M     NaN       -109.082816   \n",
       "5                            3           M     NaN       -109.081208   \n",
       "6                            1           M     NaN       -109.082829   \n",
       "7                            2           F     NaN       -109.081975   \n",
       "\n",
       "              decimalLatitude  species_ID  day  month  year  eventDate  \\\n",
       "occurrenceID                                                             \n",
       "3                   31.938887   2439521.0   16      7  1977 1977-07-16   \n",
       "4                   31.938113   2439521.0   16      7  1977 1977-07-16   \n",
       "5                   31.938896   2439521.0   16      7  1977 1977-07-16   \n",
       "6                   31.938851   2439566.0   16      7  1977 1977-07-16   \n",
       "7                   31.938887   2437981.0   16      7  1977 1977-07-16   \n",
       "\n",
       "                                   datasetName     sex  \n",
       "occurrenceID                                            \n",
       "3             Ecological Archives E090-118-D1.  female  \n",
       "4             Ecological Archives E090-118-D1.    male  \n",
       "5             Ecological Archives E090-118-D1.    male  \n",
       "6             Ecological Archives E090-118-D1.    male  \n",
       "7             Ecological Archives E090-118-D1.  female  "
      ]
     },
     "execution_count": 221,
     "metadata": {},
     "output_type": "execute_result"
    }
   ],
   "source": [
    "observations_with_ID = observations_unique.dropna(subset=['species_ID'])\n",
    "observations_with_ID.head()"
   ]
  },
  {
   "cell_type": "markdown",
   "metadata": {},
   "source": [
    "<div class=\"alert alert-success\">\n",
    "\n",
    "**EXERCISE**\n",
    "\n",
    "Filter the  `observations` data and select only those records that do not have a `species_ID` while having information on the `sex`. Store the result as variable `not_identified`.\n",
    "\n",
    "<details><summary>Hints</summary>\n",
    "    \n",
    "- To combine logical operators element-wise in Pandas, use the `&` operator.\n",
    "- Pandas provides both a `isna()` and a `notna()` method to check the existence of `Nan` values.\n",
    "    \n",
    "</details>"
   ]
  },
  {
   "cell_type": "code",
   "execution_count": 222,
   "metadata": {
    "clear_cell": true,
    "run_control": {
     "frozen": false,
     "read_only": false
    }
   },
   "outputs": [],
   "source": [
    "mask = observations['species_ID'].isna() & observations['sex'].notna()\n",
    "not_identified = observations[mask]"
   ]
  },
  {
   "cell_type": "code",
   "execution_count": 223,
   "metadata": {
    "run_control": {
     "frozen": false,
     "read_only": false
    }
   },
   "outputs": [
    {
     "data": {
      "text/html": [
       "<div>\n",
       "<style scoped>\n",
       "    .dataframe tbody tr th:only-of-type {\n",
       "        vertical-align: middle;\n",
       "    }\n",
       "\n",
       "    .dataframe tbody tr th {\n",
       "        vertical-align: top;\n",
       "    }\n",
       "\n",
       "    .dataframe thead th {\n",
       "        text-align: right;\n",
       "    }\n",
       "</style>\n",
       "<table border=\"1\" class=\"dataframe\">\n",
       "  <thead>\n",
       "    <tr style=\"text-align: right;\">\n",
       "      <th></th>\n",
       "      <th>verbatimLocality</th>\n",
       "      <th>verbatimSex</th>\n",
       "      <th>weight</th>\n",
       "      <th>decimalLongitude</th>\n",
       "      <th>decimalLatitude</th>\n",
       "      <th>species_ID</th>\n",
       "      <th>day</th>\n",
       "      <th>month</th>\n",
       "      <th>year</th>\n",
       "      <th>eventDate</th>\n",
       "      <th>datasetName</th>\n",
       "      <th>sex</th>\n",
       "    </tr>\n",
       "    <tr>\n",
       "      <th>occurrenceID</th>\n",
       "      <th></th>\n",
       "      <th></th>\n",
       "      <th></th>\n",
       "      <th></th>\n",
       "      <th></th>\n",
       "      <th></th>\n",
       "      <th></th>\n",
       "      <th></th>\n",
       "      <th></th>\n",
       "      <th></th>\n",
       "      <th></th>\n",
       "      <th></th>\n",
       "    </tr>\n",
       "  </thead>\n",
       "  <tbody>\n",
       "    <tr>\n",
       "      <th>1</th>\n",
       "      <td>2</td>\n",
       "      <td>M</td>\n",
       "      <td>NaN</td>\n",
       "      <td>-109.081975</td>\n",
       "      <td>31.938887</td>\n",
       "      <td>NaN</td>\n",
       "      <td>16</td>\n",
       "      <td>7</td>\n",
       "      <td>1977</td>\n",
       "      <td>1977-07-16</td>\n",
       "      <td>Ecological Archives E090-118-D1.</td>\n",
       "      <td>male</td>\n",
       "    </tr>\n",
       "    <tr>\n",
       "      <th>2</th>\n",
       "      <td>3</td>\n",
       "      <td>M</td>\n",
       "      <td>NaN</td>\n",
       "      <td>-109.081208</td>\n",
       "      <td>31.938896</td>\n",
       "      <td>NaN</td>\n",
       "      <td>16</td>\n",
       "      <td>7</td>\n",
       "      <td>1977</td>\n",
       "      <td>1977-07-16</td>\n",
       "      <td>Ecological Archives E090-118-D1.</td>\n",
       "      <td>male</td>\n",
       "    </tr>\n",
       "    <tr>\n",
       "      <th>23</th>\n",
       "      <td>15</td>\n",
       "      <td>F</td>\n",
       "      <td>NaN</td>\n",
       "      <td>-109.081036</td>\n",
       "      <td>31.937059</td>\n",
       "      <td>NaN</td>\n",
       "      <td>17</td>\n",
       "      <td>7</td>\n",
       "      <td>1977</td>\n",
       "      <td>1977-07-17</td>\n",
       "      <td>Ecological Archives E090-118-D1.</td>\n",
       "      <td>female</td>\n",
       "    </tr>\n",
       "    <tr>\n",
       "      <th>39</th>\n",
       "      <td>17</td>\n",
       "      <td>M</td>\n",
       "      <td>NaN</td>\n",
       "      <td>-109.079415</td>\n",
       "      <td>31.937117</td>\n",
       "      <td>NaN</td>\n",
       "      <td>17</td>\n",
       "      <td>7</td>\n",
       "      <td>1977</td>\n",
       "      <td>1977-07-17</td>\n",
       "      <td>Ecological Archives E090-118-D1.</td>\n",
       "      <td>male</td>\n",
       "    </tr>\n",
       "    <tr>\n",
       "      <th>71</th>\n",
       "      <td>3</td>\n",
       "      <td>F</td>\n",
       "      <td>22.0</td>\n",
       "      <td>-109.081208</td>\n",
       "      <td>31.938896</td>\n",
       "      <td>NaN</td>\n",
       "      <td>19</td>\n",
       "      <td>8</td>\n",
       "      <td>1977</td>\n",
       "      <td>1977-08-19</td>\n",
       "      <td>Ecological Archives E090-118-D1.</td>\n",
       "      <td>female</td>\n",
       "    </tr>\n",
       "  </tbody>\n",
       "</table>\n",
       "</div>"
      ],
      "text/plain": [
       "              verbatimLocality verbatimSex  weight  decimalLongitude  \\\n",
       "occurrenceID                                                           \n",
       "1                            2           M     NaN       -109.081975   \n",
       "2                            3           M     NaN       -109.081208   \n",
       "23                          15           F     NaN       -109.081036   \n",
       "39                          17           M     NaN       -109.079415   \n",
       "71                           3           F    22.0       -109.081208   \n",
       "\n",
       "              decimalLatitude  species_ID  day  month  year  eventDate  \\\n",
       "occurrenceID                                                             \n",
       "1                   31.938887         NaN   16      7  1977 1977-07-16   \n",
       "2                   31.938896         NaN   16      7  1977 1977-07-16   \n",
       "23                  31.937059         NaN   17      7  1977 1977-07-17   \n",
       "39                  31.937117         NaN   17      7  1977 1977-07-17   \n",
       "71                  31.938896         NaN   19      8  1977 1977-08-19   \n",
       "\n",
       "                                   datasetName     sex  \n",
       "occurrenceID                                            \n",
       "1             Ecological Archives E090-118-D1.    male  \n",
       "2             Ecological Archives E090-118-D1.    male  \n",
       "23            Ecological Archives E090-118-D1.  female  \n",
       "39            Ecological Archives E090-118-D1.    male  \n",
       "71            Ecological Archives E090-118-D1.  female  "
      ]
     },
     "execution_count": 223,
     "metadata": {},
     "output_type": "execute_result"
    }
   ],
   "source": [
    "not_identified.head()"
   ]
  },
  {
   "cell_type": "markdown",
   "metadata": {},
   "source": [
    "## Adding the names of the observed species"
   ]
  },
  {
   "cell_type": "code",
   "execution_count": 224,
   "metadata": {},
   "outputs": [],
   "source": [
    "# Recap from previous exercises - remove duplicates and observations without species information\n",
    "observations_unique_ = observations.drop_duplicates()\n",
    "observations_data = observations_unique_.dropna(subset=['species_ID'])"
   ]
  },
  {
   "cell_type": "markdown",
   "metadata": {},
   "source": [
    "In the data set `observations`, the column `specied_ID` provides only an identifier instead of the full name. The name information is provided in a separate file `species_names.csv`:"
   ]
  },
  {
   "cell_type": "code",
   "execution_count": 225,
   "metadata": {},
   "outputs": [
    {
     "data": {
      "text/html": [
       "<div>\n",
       "<style scoped>\n",
       "    .dataframe tbody tr th:only-of-type {\n",
       "        vertical-align: middle;\n",
       "    }\n",
       "\n",
       "    .dataframe tbody tr th {\n",
       "        vertical-align: top;\n",
       "    }\n",
       "\n",
       "    .dataframe thead th {\n",
       "        text-align: right;\n",
       "    }\n",
       "</style>\n",
       "<table border=\"1\" class=\"dataframe\">\n",
       "  <thead>\n",
       "    <tr style=\"text-align: right;\">\n",
       "      <th></th>\n",
       "      <th>name</th>\n",
       "      <th>class</th>\n",
       "      <th>kingdom</th>\n",
       "      <th>order</th>\n",
       "      <th>phylum</th>\n",
       "      <th>scientificName</th>\n",
       "      <th>ID</th>\n",
       "      <th>taxa</th>\n",
       "    </tr>\n",
       "  </thead>\n",
       "  <tbody>\n",
       "    <tr>\n",
       "      <th>0</th>\n",
       "      <td>Dipodomys merriami</td>\n",
       "      <td>Mammalia</td>\n",
       "      <td>Animalia</td>\n",
       "      <td>Rodentia</td>\n",
       "      <td>Chordata</td>\n",
       "      <td>Dipodomys merriami Mearns, 1890</td>\n",
       "      <td>2439521</td>\n",
       "      <td>Rodent</td>\n",
       "    </tr>\n",
       "    <tr>\n",
       "      <th>1</th>\n",
       "      <td>Perognathus flavus</td>\n",
       "      <td>Mammalia</td>\n",
       "      <td>Animalia</td>\n",
       "      <td>Rodentia</td>\n",
       "      <td>Chordata</td>\n",
       "      <td>Perognathus flavus Baird, 1855</td>\n",
       "      <td>2439566</td>\n",
       "      <td>Rodent</td>\n",
       "    </tr>\n",
       "    <tr>\n",
       "      <th>2</th>\n",
       "      <td>Peromyscus eremicus</td>\n",
       "      <td>Mammalia</td>\n",
       "      <td>Animalia</td>\n",
       "      <td>Rodentia</td>\n",
       "      <td>Chordata</td>\n",
       "      <td>Peromyscus eremicus (Baird, 1857)</td>\n",
       "      <td>2437981</td>\n",
       "      <td>Rodent</td>\n",
       "    </tr>\n",
       "    <tr>\n",
       "      <th>3</th>\n",
       "      <td>Sigmodon hispidus</td>\n",
       "      <td>Mammalia</td>\n",
       "      <td>Animalia</td>\n",
       "      <td>Rodentia</td>\n",
       "      <td>Chordata</td>\n",
       "      <td>Sigmodon hispidus Say &amp; Ord, 1825</td>\n",
       "      <td>2438147</td>\n",
       "      <td>Rodent</td>\n",
       "    </tr>\n",
       "    <tr>\n",
       "      <th>4</th>\n",
       "      <td>Dipodomys spectabilis</td>\n",
       "      <td>Mammalia</td>\n",
       "      <td>Animalia</td>\n",
       "      <td>Rodentia</td>\n",
       "      <td>Chordata</td>\n",
       "      <td>Dipodomys spectabilis Merriam, 1890</td>\n",
       "      <td>2439531</td>\n",
       "      <td>Rodent</td>\n",
       "    </tr>\n",
       "  </tbody>\n",
       "</table>\n",
       "</div>"
      ],
      "text/plain": [
       "                    name     class   kingdom     order    phylum  \\\n",
       "0     Dipodomys merriami  Mammalia  Animalia  Rodentia  Chordata   \n",
       "1     Perognathus flavus  Mammalia  Animalia  Rodentia  Chordata   \n",
       "2    Peromyscus eremicus  Mammalia  Animalia  Rodentia  Chordata   \n",
       "3      Sigmodon hispidus  Mammalia  Animalia  Rodentia  Chordata   \n",
       "4  Dipodomys spectabilis  Mammalia  Animalia  Rodentia  Chordata   \n",
       "\n",
       "                        scientificName       ID    taxa  \n",
       "0      Dipodomys merriami Mearns, 1890  2439521  Rodent  \n",
       "1       Perognathus flavus Baird, 1855  2439566  Rodent  \n",
       "2    Peromyscus eremicus (Baird, 1857)  2437981  Rodent  \n",
       "3    Sigmodon hispidus Say & Ord, 1825  2438147  Rodent  \n",
       "4  Dipodomys spectabilis Merriam, 1890  2439531  Rodent  "
      ]
     },
     "execution_count": 225,
     "metadata": {},
     "output_type": "execute_result"
    }
   ],
   "source": [
    "species_names = pd.read_csv(\"../data/species_names.csv\")\n",
    "species_names.head()"
   ]
  },
  {
   "cell_type": "markdown",
   "metadata": {},
   "source": [
    "The species names contains for each identifier in the `ID` column the scientific name of a species. The `species_names` data set contains in total 38 different scientific names:"
   ]
  },
  {
   "cell_type": "code",
   "execution_count": 226,
   "metadata": {},
   "outputs": [
    {
     "data": {
      "text/plain": [
       "(38, 8)"
      ]
     },
     "execution_count": 226,
     "metadata": {},
     "output_type": "execute_result"
    }
   ],
   "source": [
    "species_names.shape"
   ]
  },
  {
   "cell_type": "markdown",
   "metadata": {},
   "source": [
    "For further analysis, let's combine both in a single DataFrame in the following exercise."
   ]
  },
  {
   "cell_type": "markdown",
   "metadata": {},
   "source": [
    "<div class=\"alert alert-success\">\n",
    "\n",
    "**EXERCISE**\n",
    "\n",
    "Combine the DataFrames `observations` and `species_names` by adding the corresponding species name information (name, class, kingdom,..) to the individual observations. Assign the output to a new variable `survey_data`.\n",
    "\n",
    "<details><summary>Hints</summary>\n",
    "\n",
    "- This is an example of a database JOIN operation. Pandas provides the `pd.merge` function to join two data sets using a common identifier.\n",
    "- Take into account that our key-column is different for `observations` and `species_names`, respectively `specied_ID` and `ID`:\n",
    "    \n",
    "</details>"
   ]
  },
  {
   "cell_type": "code",
   "execution_count": 227,
   "metadata": {},
   "outputs": [
    {
     "data": {
      "text/html": [
       "<div>\n",
       "<style scoped>\n",
       "    .dataframe tbody tr th:only-of-type {\n",
       "        vertical-align: middle;\n",
       "    }\n",
       "\n",
       "    .dataframe tbody tr th {\n",
       "        vertical-align: top;\n",
       "    }\n",
       "\n",
       "    .dataframe thead th {\n",
       "        text-align: right;\n",
       "    }\n",
       "</style>\n",
       "<table border=\"1\" class=\"dataframe\">\n",
       "  <thead>\n",
       "    <tr style=\"text-align: right;\">\n",
       "      <th></th>\n",
       "      <th>verbatimLocality</th>\n",
       "      <th>verbatimSex</th>\n",
       "      <th>weight</th>\n",
       "      <th>decimalLongitude</th>\n",
       "      <th>decimalLatitude</th>\n",
       "      <th>species_ID</th>\n",
       "      <th>day</th>\n",
       "      <th>month</th>\n",
       "      <th>year</th>\n",
       "      <th>eventDate</th>\n",
       "      <th>datasetName</th>\n",
       "      <th>sex</th>\n",
       "      <th>name</th>\n",
       "      <th>class</th>\n",
       "      <th>kingdom</th>\n",
       "      <th>order</th>\n",
       "      <th>phylum</th>\n",
       "      <th>scientificName</th>\n",
       "      <th>ID</th>\n",
       "      <th>taxa</th>\n",
       "    </tr>\n",
       "  </thead>\n",
       "  <tbody>\n",
       "    <tr>\n",
       "      <th>0</th>\n",
       "      <td>2</td>\n",
       "      <td>F</td>\n",
       "      <td>NaN</td>\n",
       "      <td>-109.081975</td>\n",
       "      <td>31.938887</td>\n",
       "      <td>2439521.0</td>\n",
       "      <td>16</td>\n",
       "      <td>7</td>\n",
       "      <td>1977</td>\n",
       "      <td>1977-07-16</td>\n",
       "      <td>Ecological Archives E090-118-D1.</td>\n",
       "      <td>female</td>\n",
       "      <td>Dipodomys merriami</td>\n",
       "      <td>Mammalia</td>\n",
       "      <td>Animalia</td>\n",
       "      <td>Rodentia</td>\n",
       "      <td>Chordata</td>\n",
       "      <td>Dipodomys merriami Mearns, 1890</td>\n",
       "      <td>2439521</td>\n",
       "      <td>Rodent</td>\n",
       "    </tr>\n",
       "    <tr>\n",
       "      <th>1</th>\n",
       "      <td>7</td>\n",
       "      <td>M</td>\n",
       "      <td>NaN</td>\n",
       "      <td>-109.082816</td>\n",
       "      <td>31.938113</td>\n",
       "      <td>2439521.0</td>\n",
       "      <td>16</td>\n",
       "      <td>7</td>\n",
       "      <td>1977</td>\n",
       "      <td>1977-07-16</td>\n",
       "      <td>Ecological Archives E090-118-D1.</td>\n",
       "      <td>male</td>\n",
       "      <td>Dipodomys merriami</td>\n",
       "      <td>Mammalia</td>\n",
       "      <td>Animalia</td>\n",
       "      <td>Rodentia</td>\n",
       "      <td>Chordata</td>\n",
       "      <td>Dipodomys merriami Mearns, 1890</td>\n",
       "      <td>2439521</td>\n",
       "      <td>Rodent</td>\n",
       "    </tr>\n",
       "    <tr>\n",
       "      <th>2</th>\n",
       "      <td>3</td>\n",
       "      <td>M</td>\n",
       "      <td>NaN</td>\n",
       "      <td>-109.081208</td>\n",
       "      <td>31.938896</td>\n",
       "      <td>2439521.0</td>\n",
       "      <td>16</td>\n",
       "      <td>7</td>\n",
       "      <td>1977</td>\n",
       "      <td>1977-07-16</td>\n",
       "      <td>Ecological Archives E090-118-D1.</td>\n",
       "      <td>male</td>\n",
       "      <td>Dipodomys merriami</td>\n",
       "      <td>Mammalia</td>\n",
       "      <td>Animalia</td>\n",
       "      <td>Rodentia</td>\n",
       "      <td>Chordata</td>\n",
       "      <td>Dipodomys merriami Mearns, 1890</td>\n",
       "      <td>2439521</td>\n",
       "      <td>Rodent</td>\n",
       "    </tr>\n",
       "    <tr>\n",
       "      <th>3</th>\n",
       "      <td>1</td>\n",
       "      <td>M</td>\n",
       "      <td>NaN</td>\n",
       "      <td>-109.082829</td>\n",
       "      <td>31.938851</td>\n",
       "      <td>2439566.0</td>\n",
       "      <td>16</td>\n",
       "      <td>7</td>\n",
       "      <td>1977</td>\n",
       "      <td>1977-07-16</td>\n",
       "      <td>Ecological Archives E090-118-D1.</td>\n",
       "      <td>male</td>\n",
       "      <td>Perognathus flavus</td>\n",
       "      <td>Mammalia</td>\n",
       "      <td>Animalia</td>\n",
       "      <td>Rodentia</td>\n",
       "      <td>Chordata</td>\n",
       "      <td>Perognathus flavus Baird, 1855</td>\n",
       "      <td>2439566</td>\n",
       "      <td>Rodent</td>\n",
       "    </tr>\n",
       "    <tr>\n",
       "      <th>4</th>\n",
       "      <td>2</td>\n",
       "      <td>F</td>\n",
       "      <td>NaN</td>\n",
       "      <td>-109.081975</td>\n",
       "      <td>31.938887</td>\n",
       "      <td>2437981.0</td>\n",
       "      <td>16</td>\n",
       "      <td>7</td>\n",
       "      <td>1977</td>\n",
       "      <td>1977-07-16</td>\n",
       "      <td>Ecological Archives E090-118-D1.</td>\n",
       "      <td>female</td>\n",
       "      <td>Peromyscus eremicus</td>\n",
       "      <td>Mammalia</td>\n",
       "      <td>Animalia</td>\n",
       "      <td>Rodentia</td>\n",
       "      <td>Chordata</td>\n",
       "      <td>Peromyscus eremicus (Baird, 1857)</td>\n",
       "      <td>2437981</td>\n",
       "      <td>Rodent</td>\n",
       "    </tr>\n",
       "    <tr>\n",
       "      <th>...</th>\n",
       "      <td>...</td>\n",
       "      <td>...</td>\n",
       "      <td>...</td>\n",
       "      <td>...</td>\n",
       "      <td>...</td>\n",
       "      <td>...</td>\n",
       "      <td>...</td>\n",
       "      <td>...</td>\n",
       "      <td>...</td>\n",
       "      <td>...</td>\n",
       "      <td>...</td>\n",
       "      <td>...</td>\n",
       "      <td>...</td>\n",
       "      <td>...</td>\n",
       "      <td>...</td>\n",
       "      <td>...</td>\n",
       "      <td>...</td>\n",
       "      <td>...</td>\n",
       "      <td>...</td>\n",
       "      <td>...</td>\n",
       "    </tr>\n",
       "    <tr>\n",
       "      <th>31871</th>\n",
       "      <td>15</td>\n",
       "      <td>F</td>\n",
       "      <td>29.0</td>\n",
       "      <td>-109.081036</td>\n",
       "      <td>31.937059</td>\n",
       "      <td>2439581.0</td>\n",
       "      <td>31</td>\n",
       "      <td>12</td>\n",
       "      <td>2002</td>\n",
       "      <td>2002-12-31</td>\n",
       "      <td>Ecological Archives E090-118-D1.</td>\n",
       "      <td>female</td>\n",
       "      <td>Chaetodipus baileyi</td>\n",
       "      <td>Mammalia</td>\n",
       "      <td>Animalia</td>\n",
       "      <td>Rodentia</td>\n",
       "      <td>Chordata</td>\n",
       "      <td>Chaetodipus baileyi (Merriam, 1894)</td>\n",
       "      <td>2439581</td>\n",
       "      <td>Rodent</td>\n",
       "    </tr>\n",
       "    <tr>\n",
       "      <th>31872</th>\n",
       "      <td>15</td>\n",
       "      <td>F</td>\n",
       "      <td>34.0</td>\n",
       "      <td>-109.081036</td>\n",
       "      <td>31.937059</td>\n",
       "      <td>2439581.0</td>\n",
       "      <td>31</td>\n",
       "      <td>12</td>\n",
       "      <td>2002</td>\n",
       "      <td>2002-12-31</td>\n",
       "      <td>Ecological Archives E090-118-D1.</td>\n",
       "      <td>female</td>\n",
       "      <td>Chaetodipus baileyi</td>\n",
       "      <td>Mammalia</td>\n",
       "      <td>Animalia</td>\n",
       "      <td>Rodentia</td>\n",
       "      <td>Chordata</td>\n",
       "      <td>Chaetodipus baileyi (Merriam, 1894)</td>\n",
       "      <td>2439581</td>\n",
       "      <td>Rodent</td>\n",
       "    </tr>\n",
       "    <tr>\n",
       "      <th>31873</th>\n",
       "      <td>15</td>\n",
       "      <td>NaN</td>\n",
       "      <td>NaN</td>\n",
       "      <td>-109.081036</td>\n",
       "      <td>31.937059</td>\n",
       "      <td>2437568.0</td>\n",
       "      <td>31</td>\n",
       "      <td>12</td>\n",
       "      <td>2002</td>\n",
       "      <td>2002-12-31</td>\n",
       "      <td>Ecological Archives E090-118-D1.</td>\n",
       "      <td>NaN</td>\n",
       "      <td>Ammospermophilus harrisi</td>\n",
       "      <td>Mammalia</td>\n",
       "      <td>Animalia</td>\n",
       "      <td>Rodentia</td>\n",
       "      <td>Chordata</td>\n",
       "      <td>Ammospermophilus harrisii (Audubon &amp; Bachman, ...</td>\n",
       "      <td>2437568</td>\n",
       "      <td>Rodent-not censused</td>\n",
       "    </tr>\n",
       "    <tr>\n",
       "      <th>31874</th>\n",
       "      <td>10</td>\n",
       "      <td>F</td>\n",
       "      <td>14.0</td>\n",
       "      <td>-109.080091</td>\n",
       "      <td>31.938017</td>\n",
       "      <td>2437874.0</td>\n",
       "      <td>31</td>\n",
       "      <td>12</td>\n",
       "      <td>2002</td>\n",
       "      <td>2002-12-31</td>\n",
       "      <td>Ecological Archives E090-118-D1.</td>\n",
       "      <td>female</td>\n",
       "      <td>Reithrodontomys megalotis</td>\n",
       "      <td>Mammalia</td>\n",
       "      <td>Animalia</td>\n",
       "      <td>Rodentia</td>\n",
       "      <td>Chordata</td>\n",
       "      <td>Reithrodontomys megalotis (Baird, 1857)</td>\n",
       "      <td>2437874</td>\n",
       "      <td>Rodent</td>\n",
       "    </tr>\n",
       "    <tr>\n",
       "      <th>31875</th>\n",
       "      <td>7</td>\n",
       "      <td>M</td>\n",
       "      <td>51.0</td>\n",
       "      <td>-109.082816</td>\n",
       "      <td>31.938113</td>\n",
       "      <td>2439541.0</td>\n",
       "      <td>31</td>\n",
       "      <td>12</td>\n",
       "      <td>2002</td>\n",
       "      <td>2002-12-31</td>\n",
       "      <td>Ecological Archives E090-118-D1.</td>\n",
       "      <td>male</td>\n",
       "      <td>Dipodomys ordii</td>\n",
       "      <td>Mammalia</td>\n",
       "      <td>Animalia</td>\n",
       "      <td>Rodentia</td>\n",
       "      <td>Chordata</td>\n",
       "      <td>Dipodomys ordii Woodhouse, 1853</td>\n",
       "      <td>2439541</td>\n",
       "      <td>Rodent</td>\n",
       "    </tr>\n",
       "  </tbody>\n",
       "</table>\n",
       "<p>31876 rows × 20 columns</p>\n",
       "</div>"
      ],
      "text/plain": [
       "       verbatimLocality verbatimSex  weight  decimalLongitude  \\\n",
       "0                     2           F     NaN       -109.081975   \n",
       "1                     7           M     NaN       -109.082816   \n",
       "2                     3           M     NaN       -109.081208   \n",
       "3                     1           M     NaN       -109.082829   \n",
       "4                     2           F     NaN       -109.081975   \n",
       "...                 ...         ...     ...               ...   \n",
       "31871                15           F    29.0       -109.081036   \n",
       "31872                15           F    34.0       -109.081036   \n",
       "31873                15         NaN     NaN       -109.081036   \n",
       "31874                10           F    14.0       -109.080091   \n",
       "31875                 7           M    51.0       -109.082816   \n",
       "\n",
       "       decimalLatitude  species_ID  day  month  year  eventDate  \\\n",
       "0            31.938887   2439521.0   16      7  1977 1977-07-16   \n",
       "1            31.938113   2439521.0   16      7  1977 1977-07-16   \n",
       "2            31.938896   2439521.0   16      7  1977 1977-07-16   \n",
       "3            31.938851   2439566.0   16      7  1977 1977-07-16   \n",
       "4            31.938887   2437981.0   16      7  1977 1977-07-16   \n",
       "...                ...         ...  ...    ...   ...        ...   \n",
       "31871        31.937059   2439581.0   31     12  2002 2002-12-31   \n",
       "31872        31.937059   2439581.0   31     12  2002 2002-12-31   \n",
       "31873        31.937059   2437568.0   31     12  2002 2002-12-31   \n",
       "31874        31.938017   2437874.0   31     12  2002 2002-12-31   \n",
       "31875        31.938113   2439541.0   31     12  2002 2002-12-31   \n",
       "\n",
       "                            datasetName     sex                       name  \\\n",
       "0      Ecological Archives E090-118-D1.  female         Dipodomys merriami   \n",
       "1      Ecological Archives E090-118-D1.    male         Dipodomys merriami   \n",
       "2      Ecological Archives E090-118-D1.    male         Dipodomys merriami   \n",
       "3      Ecological Archives E090-118-D1.    male         Perognathus flavus   \n",
       "4      Ecological Archives E090-118-D1.  female        Peromyscus eremicus   \n",
       "...                                 ...     ...                        ...   \n",
       "31871  Ecological Archives E090-118-D1.  female        Chaetodipus baileyi   \n",
       "31872  Ecological Archives E090-118-D1.  female        Chaetodipus baileyi   \n",
       "31873  Ecological Archives E090-118-D1.     NaN   Ammospermophilus harrisi   \n",
       "31874  Ecological Archives E090-118-D1.  female  Reithrodontomys megalotis   \n",
       "31875  Ecological Archives E090-118-D1.    male            Dipodomys ordii   \n",
       "\n",
       "          class   kingdom     order    phylum  \\\n",
       "0      Mammalia  Animalia  Rodentia  Chordata   \n",
       "1      Mammalia  Animalia  Rodentia  Chordata   \n",
       "2      Mammalia  Animalia  Rodentia  Chordata   \n",
       "3      Mammalia  Animalia  Rodentia  Chordata   \n",
       "4      Mammalia  Animalia  Rodentia  Chordata   \n",
       "...         ...       ...       ...       ...   \n",
       "31871  Mammalia  Animalia  Rodentia  Chordata   \n",
       "31872  Mammalia  Animalia  Rodentia  Chordata   \n",
       "31873  Mammalia  Animalia  Rodentia  Chordata   \n",
       "31874  Mammalia  Animalia  Rodentia  Chordata   \n",
       "31875  Mammalia  Animalia  Rodentia  Chordata   \n",
       "\n",
       "                                          scientificName       ID  \\\n",
       "0                        Dipodomys merriami Mearns, 1890  2439521   \n",
       "1                        Dipodomys merriami Mearns, 1890  2439521   \n",
       "2                        Dipodomys merriami Mearns, 1890  2439521   \n",
       "3                         Perognathus flavus Baird, 1855  2439566   \n",
       "4                      Peromyscus eremicus (Baird, 1857)  2437981   \n",
       "...                                                  ...      ...   \n",
       "31871                Chaetodipus baileyi (Merriam, 1894)  2439581   \n",
       "31872                Chaetodipus baileyi (Merriam, 1894)  2439581   \n",
       "31873  Ammospermophilus harrisii (Audubon & Bachman, ...  2437568   \n",
       "31874            Reithrodontomys megalotis (Baird, 1857)  2437874   \n",
       "31875                    Dipodomys ordii Woodhouse, 1853  2439541   \n",
       "\n",
       "                      taxa  \n",
       "0                   Rodent  \n",
       "1                   Rodent  \n",
       "2                   Rodent  \n",
       "3                   Rodent  \n",
       "4                   Rodent  \n",
       "...                    ...  \n",
       "31871               Rodent  \n",
       "31872               Rodent  \n",
       "31873  Rodent-not censused  \n",
       "31874               Rodent  \n",
       "31875               Rodent  \n",
       "\n",
       "[31876 rows x 20 columns]"
      ]
     },
     "execution_count": 227,
     "metadata": {},
     "output_type": "execute_result"
    }
   ],
   "source": [
    "survey_data = pd.merge(observations_data, species_names, how=\"left\",\n",
    "                       left_on=\"species_ID\", right_on=\"ID\")\n",
    "survey_data"
   ]
  },
  {
   "cell_type": "markdown",
   "metadata": {},
   "source": [
    "## Select subsets according to taxa of species"
   ]
  },
  {
   "cell_type": "code",
   "execution_count": 268,
   "metadata": {
    "run_control": {
     "frozen": false,
     "read_only": false
    }
   },
   "outputs": [
    {
     "data": {
      "text/plain": [
       "Rodent                 30869\n",
       "Rodent-not censused      595\n",
       "Bird                     344\n",
       "Rabbit                    59\n",
       "Reptile                    9\n",
       "Name: taxa, dtype: int64"
      ]
     },
     "execution_count": 268,
     "metadata": {},
     "output_type": "execute_result"
    }
   ],
   "source": [
    "survey_data['taxa'].value_counts()\n",
    "#survey_data.groupby('taxa').size()"
   ]
  },
  {
   "cell_type": "markdown",
   "metadata": {},
   "source": [
    "<div class=\"alert alert-success\">\n",
    "\n",
    "**EXERCISE**\n",
    "\n",
    "- Select the observations for which the `taxa` is equal to 'Rabbit', 'Bird' or 'Reptile'. Assign the result to a variable `non_rodent_species`. Use the `isin` method for the selection.\n",
    "\n",
    "<details><summary>Hints</summary>\n",
    "\n",
    "- You do not have to combine three different conditions, but use the `isin` operator with a list of names.\n",
    "    \n",
    "</details>  "
   ]
  },
  {
   "cell_type": "code",
   "execution_count": 269,
   "metadata": {
    "clear_cell": true,
    "run_control": {
     "frozen": false,
     "read_only": false
    }
   },
   "outputs": [],
   "source": [
    "non_rodent_species = survey_data[survey_data['taxa'].isin(['Rabbit', 'Bird', 'Reptile'])]"
   ]
  },
  {
   "cell_type": "code",
   "execution_count": 253,
   "metadata": {
    "run_control": {
     "frozen": false,
     "read_only": false
    }
   },
   "outputs": [
    {
     "data": {
      "text/plain": [
       "412"
      ]
     },
     "execution_count": 253,
     "metadata": {},
     "output_type": "execute_result"
    }
   ],
   "source": [
    "len(non_rodent_species)"
   ]
  },
  {
   "cell_type": "markdown",
   "metadata": {},
   "source": [
    "<div class=\"alert alert-success\">\n",
    "\n",
    "**EXERCISE**\n",
    "\n",
    "Select the observations for which the `taxa` starts with the characters 'ro' (make sure it does not matter if a capital character is used in the 'taxa' name). Call the resulting variable `r_species`.\n",
    "\n",
    "<details><summary>Hints</summary>\n",
    "\n",
    "- Remember the `.str.` construction to provide all kind of string functionalities? You can combine multiple of these after each other.\n",
    "- If the presence of capital lettes should not matter, make everything lwoercase first before comparing (`.lower()`)    \n",
    "    \n",
    "</details>  "
   ]
  },
  {
   "cell_type": "code",
   "execution_count": 259,
   "metadata": {
    "clear_cell": true,
    "run_control": {
     "frozen": false,
     "read_only": false
    }
   },
   "outputs": [],
   "source": [
    "r_species = survey_data[survey_data['taxa'].str.lower().str.startswith('ro')]"
   ]
  },
  {
   "cell_type": "code",
   "execution_count": 258,
   "metadata": {
    "run_control": {
     "frozen": false,
     "read_only": false
    }
   },
   "outputs": [
    {
     "data": {
      "text/plain": [
       "31464"
      ]
     },
     "execution_count": 258,
     "metadata": {},
     "output_type": "execute_result"
    }
   ],
   "source": [
    "len(r_species)"
   ]
  },
  {
   "cell_type": "markdown",
   "metadata": {},
   "source": [
    "<div class=\"alert alert-success\">\n",
    "\n",
    "**EXERCISE**\n",
    "\n",
    "Select the observations that are not Birds. Call the resulting variable <code>non_bird_species</code>.\n",
    "\n",
    "<details><summary>Hints</summary>\n",
    "\n",
    "- Logical operators like `==`, `!=`, `>`,... can still be used.\n",
    "    \n",
    "</details>  "
   ]
  },
  {
   "cell_type": "code",
   "execution_count": 260,
   "metadata": {
    "clear_cell": true,
    "run_control": {
     "frozen": false,
     "read_only": false
    }
   },
   "outputs": [],
   "source": [
    "non_bird_species = survey_data[survey_data['taxa'] != 'Bird']"
   ]
  },
  {
   "cell_type": "code",
   "execution_count": 261,
   "metadata": {
    "run_control": {
     "frozen": false,
     "read_only": false
    }
   },
   "outputs": [
    {
     "data": {
      "text/plain": [
       "31532"
      ]
     },
     "execution_count": 261,
     "metadata": {},
     "output_type": "execute_result"
    }
   ],
   "source": [
    "len(non_bird_species)"
   ]
  },
  {
   "cell_type": "markdown",
   "metadata": {},
   "source": [
    "<div class=\"alert alert-success\">\n",
    "\n",
    "**EXERCISE**\n",
    "\n",
    "Select the __Bird__ (taxa is Bird) observations from 1985-01 till 1989-12 usint the `eventDate` column. Call the resulting variable `birds_85_89`.\n",
    "\n",
    "<details><summary>Hints</summary>\n",
    "\n",
    "    \n",
    "</details>  "
   ]
  },
  {
   "cell_type": "code",
   "execution_count": 287,
   "metadata": {},
   "outputs": [
    {
     "data": {
      "text/html": [
       "<div>\n",
       "<style scoped>\n",
       "    .dataframe tbody tr th:only-of-type {\n",
       "        vertical-align: middle;\n",
       "    }\n",
       "\n",
       "    .dataframe tbody tr th {\n",
       "        vertical-align: top;\n",
       "    }\n",
       "\n",
       "    .dataframe thead th {\n",
       "        text-align: right;\n",
       "    }\n",
       "</style>\n",
       "<table border=\"1\" class=\"dataframe\">\n",
       "  <thead>\n",
       "    <tr style=\"text-align: right;\">\n",
       "      <th></th>\n",
       "      <th>verbatimLocality</th>\n",
       "      <th>verbatimSex</th>\n",
       "      <th>weight</th>\n",
       "      <th>decimalLongitude</th>\n",
       "      <th>decimalLatitude</th>\n",
       "      <th>species_ID</th>\n",
       "      <th>day</th>\n",
       "      <th>month</th>\n",
       "      <th>year</th>\n",
       "      <th>eventDate</th>\n",
       "      <th>datasetName</th>\n",
       "      <th>sex</th>\n",
       "      <th>name</th>\n",
       "      <th>class</th>\n",
       "      <th>kingdom</th>\n",
       "      <th>order</th>\n",
       "      <th>phylum</th>\n",
       "      <th>scientificName</th>\n",
       "      <th>ID</th>\n",
       "      <th>taxa</th>\n",
       "    </tr>\n",
       "  </thead>\n",
       "  <tbody>\n",
       "    <tr>\n",
       "      <th>8695</th>\n",
       "      <td>14</td>\n",
       "      <td>NaN</td>\n",
       "      <td>NaN</td>\n",
       "      <td>-109.081827</td>\n",
       "      <td>31.937054</td>\n",
       "      <td>2491757.0</td>\n",
       "      <td>19</td>\n",
       "      <td>1</td>\n",
       "      <td>1985</td>\n",
       "      <td>1985-01-19</td>\n",
       "      <td>Ecological Archives E090-118-D1.</td>\n",
       "      <td>NaN</td>\n",
       "      <td>Amphispiza bilineata</td>\n",
       "      <td>Aves</td>\n",
       "      <td>Animalia</td>\n",
       "      <td>Passeriformes</td>\n",
       "      <td>Chordata</td>\n",
       "      <td>Amphispiza bilineata (Cassin, 1850)</td>\n",
       "      <td>2491757</td>\n",
       "      <td>Bird</td>\n",
       "    </tr>\n",
       "    <tr>\n",
       "      <th>8724</th>\n",
       "      <td>10</td>\n",
       "      <td>NaN</td>\n",
       "      <td>NaN</td>\n",
       "      <td>-109.080091</td>\n",
       "      <td>31.938017</td>\n",
       "      <td>2491757.0</td>\n",
       "      <td>20</td>\n",
       "      <td>1</td>\n",
       "      <td>1985</td>\n",
       "      <td>1985-01-20</td>\n",
       "      <td>Ecological Archives E090-118-D1.</td>\n",
       "      <td>NaN</td>\n",
       "      <td>Amphispiza bilineata</td>\n",
       "      <td>Aves</td>\n",
       "      <td>Animalia</td>\n",
       "      <td>Passeriformes</td>\n",
       "      <td>Chordata</td>\n",
       "      <td>Amphispiza bilineata (Cassin, 1850)</td>\n",
       "      <td>2491757</td>\n",
       "      <td>Bird</td>\n",
       "    </tr>\n",
       "    <tr>\n",
       "      <th>8757</th>\n",
       "      <td>9</td>\n",
       "      <td>NaN</td>\n",
       "      <td>NaN</td>\n",
       "      <td>-109.080903</td>\n",
       "      <td>31.937859</td>\n",
       "      <td>2491757.0</td>\n",
       "      <td>20</td>\n",
       "      <td>1</td>\n",
       "      <td>1985</td>\n",
       "      <td>1985-01-20</td>\n",
       "      <td>Ecological Archives E090-118-D1.</td>\n",
       "      <td>NaN</td>\n",
       "      <td>Amphispiza bilineata</td>\n",
       "      <td>Aves</td>\n",
       "      <td>Animalia</td>\n",
       "      <td>Passeriformes</td>\n",
       "      <td>Chordata</td>\n",
       "      <td>Amphispiza bilineata (Cassin, 1850)</td>\n",
       "      <td>2491757</td>\n",
       "      <td>Bird</td>\n",
       "    </tr>\n",
       "    <tr>\n",
       "      <th>8799</th>\n",
       "      <td>12</td>\n",
       "      <td>NaN</td>\n",
       "      <td>NaN</td>\n",
       "      <td>-109.078519</td>\n",
       "      <td>31.938203</td>\n",
       "      <td>2491757.0</td>\n",
       "      <td>16</td>\n",
       "      <td>2</td>\n",
       "      <td>1985</td>\n",
       "      <td>1985-02-16</td>\n",
       "      <td>Ecological Archives E090-118-D1.</td>\n",
       "      <td>NaN</td>\n",
       "      <td>Amphispiza bilineata</td>\n",
       "      <td>Aves</td>\n",
       "      <td>Animalia</td>\n",
       "      <td>Passeriformes</td>\n",
       "      <td>Chordata</td>\n",
       "      <td>Amphispiza bilineata (Cassin, 1850)</td>\n",
       "      <td>2491757</td>\n",
       "      <td>Bird</td>\n",
       "    </tr>\n",
       "    <tr>\n",
       "      <th>9287</th>\n",
       "      <td>22</td>\n",
       "      <td>NaN</td>\n",
       "      <td>NaN</td>\n",
       "      <td>-109.078602</td>\n",
       "      <td>31.936441</td>\n",
       "      <td>5231474.0</td>\n",
       "      <td>15</td>\n",
       "      <td>6</td>\n",
       "      <td>1985</td>\n",
       "      <td>1985-06-15</td>\n",
       "      <td>Ecological Archives E090-118-D1.</td>\n",
       "      <td>NaN</td>\n",
       "      <td>Campylorhynchus brunneicapillus</td>\n",
       "      <td>Aves</td>\n",
       "      <td>Animalia</td>\n",
       "      <td>Passeriformes</td>\n",
       "      <td>Chordata</td>\n",
       "      <td>Campylorhynchus brunneicapillus (Lafresnaye, 1...</td>\n",
       "      <td>5231474</td>\n",
       "      <td>Bird</td>\n",
       "    </tr>\n",
       "  </tbody>\n",
       "</table>\n",
       "</div>"
      ],
      "text/plain": [
       "      verbatimLocality verbatimSex  weight  decimalLongitude  decimalLatitude  \\\n",
       "8695                14         NaN     NaN       -109.081827        31.937054   \n",
       "8724                10         NaN     NaN       -109.080091        31.938017   \n",
       "8757                 9         NaN     NaN       -109.080903        31.937859   \n",
       "8799                12         NaN     NaN       -109.078519        31.938203   \n",
       "9287                22         NaN     NaN       -109.078602        31.936441   \n",
       "\n",
       "      species_ID  day  month  year  eventDate  \\\n",
       "8695   2491757.0   19      1  1985 1985-01-19   \n",
       "8724   2491757.0   20      1  1985 1985-01-20   \n",
       "8757   2491757.0   20      1  1985 1985-01-20   \n",
       "8799   2491757.0   16      2  1985 1985-02-16   \n",
       "9287   5231474.0   15      6  1985 1985-06-15   \n",
       "\n",
       "                           datasetName  sex                             name  \\\n",
       "8695  Ecological Archives E090-118-D1.  NaN             Amphispiza bilineata   \n",
       "8724  Ecological Archives E090-118-D1.  NaN             Amphispiza bilineata   \n",
       "8757  Ecological Archives E090-118-D1.  NaN             Amphispiza bilineata   \n",
       "8799  Ecological Archives E090-118-D1.  NaN             Amphispiza bilineata   \n",
       "9287  Ecological Archives E090-118-D1.  NaN  Campylorhynchus brunneicapillus   \n",
       "\n",
       "     class   kingdom          order    phylum  \\\n",
       "8695  Aves  Animalia  Passeriformes  Chordata   \n",
       "8724  Aves  Animalia  Passeriformes  Chordata   \n",
       "8757  Aves  Animalia  Passeriformes  Chordata   \n",
       "8799  Aves  Animalia  Passeriformes  Chordata   \n",
       "9287  Aves  Animalia  Passeriformes  Chordata   \n",
       "\n",
       "                                         scientificName       ID  taxa  \n",
       "8695                Amphispiza bilineata (Cassin, 1850)  2491757  Bird  \n",
       "8724                Amphispiza bilineata (Cassin, 1850)  2491757  Bird  \n",
       "8757                Amphispiza bilineata (Cassin, 1850)  2491757  Bird  \n",
       "8799                Amphispiza bilineata (Cassin, 1850)  2491757  Bird  \n",
       "9287  Campylorhynchus brunneicapillus (Lafresnaye, 1...  5231474  Bird  "
      ]
     },
     "execution_count": 287,
     "metadata": {},
     "output_type": "execute_result"
    }
   ],
   "source": [
    "birds_85_89 = survey_data[(survey_data[\"eventDate\"] >= \"1985-01-01\") & \n",
    "                                 (survey_data[\"eventDate\"] <= \"1989-12-31\") & \n",
    "                                 (survey_data['taxa'] == 'Bird')\n",
    "                                ]\n",
    "birds_85_89.head()"
   ]
  },
  {
   "cell_type": "code",
   "execution_count": 288,
   "metadata": {},
   "outputs": [
    {
     "data": {
      "text/html": [
       "<div>\n",
       "<style scoped>\n",
       "    .dataframe tbody tr th:only-of-type {\n",
       "        vertical-align: middle;\n",
       "    }\n",
       "\n",
       "    .dataframe tbody tr th {\n",
       "        vertical-align: top;\n",
       "    }\n",
       "\n",
       "    .dataframe thead th {\n",
       "        text-align: right;\n",
       "    }\n",
       "</style>\n",
       "<table border=\"1\" class=\"dataframe\">\n",
       "  <thead>\n",
       "    <tr style=\"text-align: right;\">\n",
       "      <th></th>\n",
       "      <th>verbatimLocality</th>\n",
       "      <th>verbatimSex</th>\n",
       "      <th>weight</th>\n",
       "      <th>decimalLongitude</th>\n",
       "      <th>decimalLatitude</th>\n",
       "      <th>species_ID</th>\n",
       "      <th>day</th>\n",
       "      <th>month</th>\n",
       "      <th>year</th>\n",
       "      <th>eventDate</th>\n",
       "      <th>datasetName</th>\n",
       "      <th>sex</th>\n",
       "      <th>name</th>\n",
       "      <th>class</th>\n",
       "      <th>kingdom</th>\n",
       "      <th>order</th>\n",
       "      <th>phylum</th>\n",
       "      <th>scientificName</th>\n",
       "      <th>ID</th>\n",
       "      <th>taxa</th>\n",
       "    </tr>\n",
       "  </thead>\n",
       "  <tbody>\n",
       "    <tr>\n",
       "      <th>8695</th>\n",
       "      <td>14</td>\n",
       "      <td>NaN</td>\n",
       "      <td>NaN</td>\n",
       "      <td>-109.081827</td>\n",
       "      <td>31.937054</td>\n",
       "      <td>2491757.0</td>\n",
       "      <td>19</td>\n",
       "      <td>1</td>\n",
       "      <td>1985</td>\n",
       "      <td>1985-01-19</td>\n",
       "      <td>Ecological Archives E090-118-D1.</td>\n",
       "      <td>NaN</td>\n",
       "      <td>Amphispiza bilineata</td>\n",
       "      <td>Aves</td>\n",
       "      <td>Animalia</td>\n",
       "      <td>Passeriformes</td>\n",
       "      <td>Chordata</td>\n",
       "      <td>Amphispiza bilineata (Cassin, 1850)</td>\n",
       "      <td>2491757</td>\n",
       "      <td>Bird</td>\n",
       "    </tr>\n",
       "    <tr>\n",
       "      <th>8724</th>\n",
       "      <td>10</td>\n",
       "      <td>NaN</td>\n",
       "      <td>NaN</td>\n",
       "      <td>-109.080091</td>\n",
       "      <td>31.938017</td>\n",
       "      <td>2491757.0</td>\n",
       "      <td>20</td>\n",
       "      <td>1</td>\n",
       "      <td>1985</td>\n",
       "      <td>1985-01-20</td>\n",
       "      <td>Ecological Archives E090-118-D1.</td>\n",
       "      <td>NaN</td>\n",
       "      <td>Amphispiza bilineata</td>\n",
       "      <td>Aves</td>\n",
       "      <td>Animalia</td>\n",
       "      <td>Passeriformes</td>\n",
       "      <td>Chordata</td>\n",
       "      <td>Amphispiza bilineata (Cassin, 1850)</td>\n",
       "      <td>2491757</td>\n",
       "      <td>Bird</td>\n",
       "    </tr>\n",
       "    <tr>\n",
       "      <th>8757</th>\n",
       "      <td>9</td>\n",
       "      <td>NaN</td>\n",
       "      <td>NaN</td>\n",
       "      <td>-109.080903</td>\n",
       "      <td>31.937859</td>\n",
       "      <td>2491757.0</td>\n",
       "      <td>20</td>\n",
       "      <td>1</td>\n",
       "      <td>1985</td>\n",
       "      <td>1985-01-20</td>\n",
       "      <td>Ecological Archives E090-118-D1.</td>\n",
       "      <td>NaN</td>\n",
       "      <td>Amphispiza bilineata</td>\n",
       "      <td>Aves</td>\n",
       "      <td>Animalia</td>\n",
       "      <td>Passeriformes</td>\n",
       "      <td>Chordata</td>\n",
       "      <td>Amphispiza bilineata (Cassin, 1850)</td>\n",
       "      <td>2491757</td>\n",
       "      <td>Bird</td>\n",
       "    </tr>\n",
       "    <tr>\n",
       "      <th>8799</th>\n",
       "      <td>12</td>\n",
       "      <td>NaN</td>\n",
       "      <td>NaN</td>\n",
       "      <td>-109.078519</td>\n",
       "      <td>31.938203</td>\n",
       "      <td>2491757.0</td>\n",
       "      <td>16</td>\n",
       "      <td>2</td>\n",
       "      <td>1985</td>\n",
       "      <td>1985-02-16</td>\n",
       "      <td>Ecological Archives E090-118-D1.</td>\n",
       "      <td>NaN</td>\n",
       "      <td>Amphispiza bilineata</td>\n",
       "      <td>Aves</td>\n",
       "      <td>Animalia</td>\n",
       "      <td>Passeriformes</td>\n",
       "      <td>Chordata</td>\n",
       "      <td>Amphispiza bilineata (Cassin, 1850)</td>\n",
       "      <td>2491757</td>\n",
       "      <td>Bird</td>\n",
       "    </tr>\n",
       "    <tr>\n",
       "      <th>9287</th>\n",
       "      <td>22</td>\n",
       "      <td>NaN</td>\n",
       "      <td>NaN</td>\n",
       "      <td>-109.078602</td>\n",
       "      <td>31.936441</td>\n",
       "      <td>5231474.0</td>\n",
       "      <td>15</td>\n",
       "      <td>6</td>\n",
       "      <td>1985</td>\n",
       "      <td>1985-06-15</td>\n",
       "      <td>Ecological Archives E090-118-D1.</td>\n",
       "      <td>NaN</td>\n",
       "      <td>Campylorhynchus brunneicapillus</td>\n",
       "      <td>Aves</td>\n",
       "      <td>Animalia</td>\n",
       "      <td>Passeriformes</td>\n",
       "      <td>Chordata</td>\n",
       "      <td>Campylorhynchus brunneicapillus (Lafresnaye, 1...</td>\n",
       "      <td>5231474</td>\n",
       "      <td>Bird</td>\n",
       "    </tr>\n",
       "  </tbody>\n",
       "</table>\n",
       "</div>"
      ],
      "text/plain": [
       "      verbatimLocality verbatimSex  weight  decimalLongitude  decimalLatitude  \\\n",
       "8695                14         NaN     NaN       -109.081827        31.937054   \n",
       "8724                10         NaN     NaN       -109.080091        31.938017   \n",
       "8757                 9         NaN     NaN       -109.080903        31.937859   \n",
       "8799                12         NaN     NaN       -109.078519        31.938203   \n",
       "9287                22         NaN     NaN       -109.078602        31.936441   \n",
       "\n",
       "      species_ID  day  month  year  eventDate  \\\n",
       "8695   2491757.0   19      1  1985 1985-01-19   \n",
       "8724   2491757.0   20      1  1985 1985-01-20   \n",
       "8757   2491757.0   20      1  1985 1985-01-20   \n",
       "8799   2491757.0   16      2  1985 1985-02-16   \n",
       "9287   5231474.0   15      6  1985 1985-06-15   \n",
       "\n",
       "                           datasetName  sex                             name  \\\n",
       "8695  Ecological Archives E090-118-D1.  NaN             Amphispiza bilineata   \n",
       "8724  Ecological Archives E090-118-D1.  NaN             Amphispiza bilineata   \n",
       "8757  Ecological Archives E090-118-D1.  NaN             Amphispiza bilineata   \n",
       "8799  Ecological Archives E090-118-D1.  NaN             Amphispiza bilineata   \n",
       "9287  Ecological Archives E090-118-D1.  NaN  Campylorhynchus brunneicapillus   \n",
       "\n",
       "     class   kingdom          order    phylum  \\\n",
       "8695  Aves  Animalia  Passeriformes  Chordata   \n",
       "8724  Aves  Animalia  Passeriformes  Chordata   \n",
       "8757  Aves  Animalia  Passeriformes  Chordata   \n",
       "8799  Aves  Animalia  Passeriformes  Chordata   \n",
       "9287  Aves  Animalia  Passeriformes  Chordata   \n",
       "\n",
       "                                         scientificName       ID  taxa  \n",
       "8695                Amphispiza bilineata (Cassin, 1850)  2491757  Bird  \n",
       "8724                Amphispiza bilineata (Cassin, 1850)  2491757  Bird  \n",
       "8757                Amphispiza bilineata (Cassin, 1850)  2491757  Bird  \n",
       "8799                Amphispiza bilineata (Cassin, 1850)  2491757  Bird  \n",
       "9287  Campylorhynchus brunneicapillus (Lafresnaye, 1...  5231474  Bird  "
      ]
     },
     "execution_count": 288,
     "metadata": {},
     "output_type": "execute_result"
    }
   ],
   "source": [
    "birds_85_89 = survey_data[(survey_data[\"eventDate\"].dt.year >= 1985) & \n",
    "                          (survey_data[\"eventDate\"].dt.year <= 1989) & \n",
    "                          (survey_data['taxa'] == 'Bird')]\n",
    "birds_85_89.head()"
   ]
  },
  {
   "cell_type": "markdown",
   "metadata": {},
   "source": [
    "<div class=\"alert alert-success\">\n",
    "\n",
    "**EXERCISE**\n",
    "\n",
    "- Drop the observations for which no `weight` information is available.\n",
    "- On the filtered data, compare the median weight for each of the species (use the `name` column)\n",
    "- Sort the output from high to low median weight (i.e. descending)\n",
    "    \n",
    "__Note__ You can do this all in a single line statement, but don't have to do it as such!\n",
    "\n",
    "<details><summary>Hints</summary>    \n",
    "\n",
    "- You will need `dropna`, `groupby`, `median` and `sort_values`.\n",
    "    \n",
    "</details>  "
   ]
  },
  {
   "cell_type": "code",
   "execution_count": 393,
   "metadata": {},
   "outputs": [
    {
     "data": {
      "text/plain": [
       "name\n",
       "Dipodomys spectabilis         124.0\n",
       "Spermophilus spilosoma         93.5\n",
       "Sigmodon hispidus              72.0\n",
       "Sigmodon fulviventer           50.0\n",
       "Dipodomys ordii                50.0\n",
       "Sigmodon ochrognathus          49.0\n",
       "Dipodomys merriami             44.0\n",
       "Onychomys leucogaster          32.0\n",
       "Perognathus hispidus           32.0\n",
       "Chaetodipus baileyi            31.0\n",
       "Onychomys torridus             24.0\n",
       "Peromyscus eremicus            22.0\n",
       "Peromyscus maniculatus         22.0\n",
       "Peromyscus leucopus            20.0\n",
       "Chaetodipus intermedius        19.5\n",
       "Chaetodipus penicillatus       17.0\n",
       "Reithrodontomys fulvescens     13.0\n",
       "Reithrodontomys montanus       10.5\n",
       "Reithrodontomys megalotis      10.0\n",
       "Perognathus flavus              8.0\n",
       "Baiomys taylori                 8.0\n",
       "Name: weight, dtype: float64"
      ]
     },
     "execution_count": 393,
     "metadata": {},
     "output_type": "execute_result"
    }
   ],
   "source": [
    "# Multiple lines\n",
    "obs_with_weight = survey_data.dropna(subset=[\"weight\"])\n",
    "median_weight = obs_with_weight.groupby(['name'])[\"weight\"].median()\n",
    "median_weight.sort_values(ascending=False)"
   ]
  },
  {
   "cell_type": "code",
   "execution_count": 394,
   "metadata": {},
   "outputs": [
    {
     "data": {
      "text/plain": [
       "name\n",
       "Dipodomys spectabilis         124.0\n",
       "Spermophilus spilosoma         93.5\n",
       "Sigmodon hispidus              72.0\n",
       "Sigmodon fulviventer           50.0\n",
       "Dipodomys ordii                50.0\n",
       "Sigmodon ochrognathus          49.0\n",
       "Dipodomys merriami             44.0\n",
       "Onychomys leucogaster          32.0\n",
       "Perognathus hispidus           32.0\n",
       "Chaetodipus baileyi            31.0\n",
       "Onychomys torridus             24.0\n",
       "Peromyscus eremicus            22.0\n",
       "Peromyscus maniculatus         22.0\n",
       "Peromyscus leucopus            20.0\n",
       "Chaetodipus intermedius        19.5\n",
       "Chaetodipus penicillatus       17.0\n",
       "Reithrodontomys fulvescens     13.0\n",
       "Reithrodontomys montanus       10.5\n",
       "Reithrodontomys megalotis      10.0\n",
       "Perognathus flavus              8.0\n",
       "Baiomys taylori                 8.0\n",
       "Name: weight, dtype: float64"
      ]
     },
     "execution_count": 394,
     "metadata": {},
     "output_type": "execute_result"
    }
   ],
   "source": [
    "# Single line statement\n",
    "survey_data.dropna(subset=[\"weight\"]).groupby(['name'])[\"weight\"].median().sort_values(ascending=False)"
   ]
  },
  {
   "cell_type": "markdown",
   "metadata": {},
   "source": [
    "## Species abundance"
   ]
  },
  {
   "cell_type": "markdown",
   "metadata": {},
   "source": [
    "<div class=\"alert alert-success\">\n",
    "\n",
    "**EXERCISE**\n",
    "\n",
    "Which 8 species (use the `name` column to identifythe different species) have been observed most over the entire data set?\n",
    "\n",
    "<details><summary>Hints</summary>\n",
    "\n",
    "- Pandas provide a function to combine sorting and showing the first n records, see [here](https://pandas.pydata.org/pandas-docs/stable/generated/pandas.DataFrame.nlargest.html)...\n",
    "    \n",
    "</details>"
   ]
  },
  {
   "cell_type": "code",
   "execution_count": 284,
   "metadata": {
    "clear_cell": true,
    "run_control": {
     "frozen": false,
     "read_only": false
    }
   },
   "outputs": [
    {
     "data": {
      "text/plain": [
       "name\n",
       "Dipodomys merriami           10025\n",
       "Dipodomys ordii               2966\n",
       "Chaetodipus penicillatus      2928\n",
       "Chaetodipus baileyi           2696\n",
       "Reithrodontomys megalotis     2485\n",
       "Dipodomys spectabilis         2481\n",
       "Onychomys torridus            2220\n",
       "Perognathus flavus            1475\n",
       "dtype: int64"
      ]
     },
     "execution_count": 284,
     "metadata": {},
     "output_type": "execute_result"
    }
   ],
   "source": [
    "survey_data.groupby(\"name\").size().nlargest(8)"
   ]
  },
  {
   "cell_type": "code",
   "execution_count": 230,
   "metadata": {
    "clear_cell": true,
    "run_control": {
     "frozen": false,
     "read_only": false
    }
   },
   "outputs": [
    {
     "data": {
      "text/plain": [
       "Dipodomys merriami           10025\n",
       "Dipodomys ordii               2966\n",
       "Chaetodipus penicillatus      2928\n",
       "Chaetodipus baileyi           2696\n",
       "Reithrodontomys megalotis     2485\n",
       "Dipodomys spectabilis         2481\n",
       "Onychomys torridus            2220\n",
       "Perognathus flavus            1475\n",
       "Name: name, dtype: int64"
      ]
     },
     "execution_count": 230,
     "metadata": {},
     "output_type": "execute_result"
    }
   ],
   "source": [
    "survey_data['name'].value_counts()[:8]"
   ]
  },
  {
   "cell_type": "markdown",
   "metadata": {},
   "source": [
    "<div class=\"alert alert-success\">\n",
    "\n",
    "**EXERCISE**\n",
    "\n",
    "- What is the number of different species in each of the `verbatimLocality` plots? Use the `nunique` method. Assign the output to a new variable `n_species_per_plot`.\n",
    "- Define a Matplotlib `Figure` (`fig`) and `Axes` (`ax`) to prepare a plot. Make an horizontal bar chart using Pandas `plot` function linked to the just created Matplotlib `ax`. Each bar represents the `species per plot/verbatimLocality`. Change the y-label to 'Plot number'.\n",
    "\n",
    "<details><summary>Hints</summary>\n",
    "\n",
    "- _...in each of the..._ should provide a hint to use `groupby` for this exercise. The `nunique` is the aggregation function for each of the groups.\n",
    "- `fig, ax = plt.subplots()` prepares a Matplotlib Figure and Axes.\n",
    "    \n",
    "</details>"
   ]
  },
  {
   "cell_type": "code",
   "execution_count": 231,
   "metadata": {
    "clear_cell": true,
    "run_control": {
     "frozen": false,
     "read_only": false
    }
   },
   "outputs": [],
   "source": [
    "n_species_per_plot = survey_data.groupby([\"verbatimLocality\"])[\"name\"].nunique()"
   ]
  },
  {
   "cell_type": "code",
   "execution_count": 232,
   "metadata": {
    "clear_cell": true,
    "run_control": {
     "frozen": false,
     "read_only": false
    }
   },
   "outputs": [
    {
     "data": {
      "image/png": "[encoded data removed]",
      "text/plain": [
       "<Figure size 432x432 with 1 Axes>"
      ]
     },
     "metadata": {},
     "output_type": "display_data"
    }
   ],
   "source": [
    "fig, ax = plt.subplots(figsize=(6, 6))\n",
    "n_species_per_plot.plot(kind=\"barh\", ax=ax)\n",
    "ax.set_ylabel(\"Plot number\");"
   ]
  },
  {
   "cell_type": "code",
   "execution_count": 233,
   "metadata": {
    "clear_cell": true,
    "run_control": {
     "frozen": false,
     "read_only": false
    }
   },
   "outputs": [],
   "source": [
    "# Alternative option to calculate the species per plot:\n",
    "# inspired on the pivot table we already had:\n",
    "# species_per_plot = survey_data.reset_index().pivot_table(\n",
    "#      index=\"name\", columns=\"verbatimLocality\", values=\"ID\", aggfunc='count')\n",
    "# n_species_per_plot = species_per_plot.count()"
   ]
  },
  {
   "cell_type": "markdown",
   "metadata": {},
   "source": [
    "<div class=\"alert alert-success\">\n",
    "\n",
    "**EXERCISE**\n",
    "\n",
    "- What is the number of plots (`verbatimLocality`) each of the species have been observed? Assign the output to a new variable `n_plots_per_species`. Sort the counts from low to high.\n",
    "- Make an horizontal bar chart using Pandas `plot` function to show the number of plots each of the species was found (using the `n_plots_per_species` variable).  \n",
    "\n",
    "<details><summary>Hints</summary>\n",
    "\n",
    "- Use the previous exercise to solve this one.\n",
    "    \n",
    "</details>"
   ]
  },
  {
   "cell_type": "code",
   "execution_count": 262,
   "metadata": {
    "clear_cell": true,
    "run_control": {
     "frozen": false,
     "read_only": false
    }
   },
   "outputs": [
    {
     "data": {
      "image/png": "[encoded data removed]",
      "text/plain": [
       "<Figure size 720x576 with 1 Axes>"
      ]
     },
     "metadata": {},
     "output_type": "display_data"
    }
   ],
   "source": [
    "n_plots_per_species = survey_data.groupby([\"name\"])[\"verbatimLocality\"].nunique().sort_values()\n",
    "\n",
    "fig, ax = plt.subplots(figsize=(10, 8))\n",
    "n_plots_per_species.plot(kind=\"barh\", ax=ax)\n",
    "ax.set_xlabel(\"Number of plots\");\n",
    "ax.set_ylabel(\"\");"
   ]
  },
  {
   "cell_type": "markdown",
   "metadata": {},
   "source": [
    "<div class=\"alert alert-success\">\n",
    "\n",
    "**EXERCISE**\n",
    "\n",
    "- First, exclude the NaN-values from the `sex` column and save the result as a new variable called `subselection_sex`. \n",
    "- Based on this variable `subselection_sex`, calculate the amount of males and females present in each of the plots (`verbatimLocality`). The result should return the counts for each of the combinations of `sex` and `verbatimLocality`. Assign to a new variable `n_plot_sex`.\n",
    "- Use a `pivot_table` to convert the `n_plot_sex` DataFrame to a new DataFrame with the `verbatimLocality` as index and `male`/`female` as column names. Assign to a new variable `pivoted`.\n",
    "\n",
    "<details><summary>Hints</summary>\n",
    "\n",
    "- _...for each of the combinations..._ `groupby` can also be used with multiple columns at the same time.\n",
    "- `reset_index()` is useful function to convert multiple indices into columns again.\n",
    "    \n",
    "</details>"
   ]
  },
  {
   "cell_type": "code",
   "execution_count": 235,
   "metadata": {
    "clear_cell": true,
    "run_control": {
     "frozen": false,
     "read_only": false
    }
   },
   "outputs": [],
   "source": [
    "subselection_sex = survey_data.dropna(subset=[\"sex\"])\n",
    "#subselection_sex = survey_data[survey_data[\"sex\"].notnull()]"
   ]
  },
  {
   "cell_type": "code",
   "execution_count": 236,
   "metadata": {
    "clear_cell": true,
    "run_control": {
     "frozen": false,
     "read_only": false
    }
   },
   "outputs": [
    {
     "data": {
      "text/html": [
       "<div>\n",
       "<style scoped>\n",
       "    .dataframe tbody tr th:only-of-type {\n",
       "        vertical-align: middle;\n",
       "    }\n",
       "\n",
       "    .dataframe tbody tr th {\n",
       "        vertical-align: top;\n",
       "    }\n",
       "\n",
       "    .dataframe thead th {\n",
       "        text-align: right;\n",
       "    }\n",
       "</style>\n",
       "<table border=\"1\" class=\"dataframe\">\n",
       "  <thead>\n",
       "    <tr style=\"text-align: right;\">\n",
       "      <th></th>\n",
       "      <th>sex</th>\n",
       "      <th>verbatimLocality</th>\n",
       "      <th>0</th>\n",
       "    </tr>\n",
       "  </thead>\n",
       "  <tbody>\n",
       "    <tr>\n",
       "      <th>0</th>\n",
       "      <td>female</td>\n",
       "      <td>1</td>\n",
       "      <td>792</td>\n",
       "    </tr>\n",
       "    <tr>\n",
       "      <th>1</th>\n",
       "      <td>female</td>\n",
       "      <td>2</td>\n",
       "      <td>838</td>\n",
       "    </tr>\n",
       "    <tr>\n",
       "      <th>2</th>\n",
       "      <td>female</td>\n",
       "      <td>3</td>\n",
       "      <td>809</td>\n",
       "    </tr>\n",
       "    <tr>\n",
       "      <th>3</th>\n",
       "      <td>female</td>\n",
       "      <td>4</td>\n",
       "      <td>825</td>\n",
       "    </tr>\n",
       "    <tr>\n",
       "      <th>4</th>\n",
       "      <td>female</td>\n",
       "      <td>5</td>\n",
       "      <td>494</td>\n",
       "    </tr>\n",
       "  </tbody>\n",
       "</table>\n",
       "</div>"
      ],
      "text/plain": [
       "      sex  verbatimLocality    0\n",
       "0  female                 1  792\n",
       "1  female                 2  838\n",
       "2  female                 3  809\n",
       "3  female                 4  825\n",
       "4  female                 5  494"
      ]
     },
     "execution_count": 236,
     "metadata": {},
     "output_type": "execute_result"
    }
   ],
   "source": [
    "n_plot_sex = subselection_sex.groupby([\"sex\", \"verbatimLocality\"]).size().reset_index()\n",
    "n_plot_sex.head()"
   ]
  },
  {
   "cell_type": "code",
   "execution_count": 237,
   "metadata": {},
   "outputs": [
    {
     "data": {
      "text/html": [
       "<div>\n",
       "<style scoped>\n",
       "    .dataframe tbody tr th:only-of-type {\n",
       "        vertical-align: middle;\n",
       "    }\n",
       "\n",
       "    .dataframe tbody tr th {\n",
       "        vertical-align: top;\n",
       "    }\n",
       "\n",
       "    .dataframe thead tr th {\n",
       "        text-align: left;\n",
       "    }\n",
       "\n",
       "    .dataframe thead tr:last-of-type th {\n",
       "        text-align: right;\n",
       "    }\n",
       "</style>\n",
       "<table border=\"1\" class=\"dataframe\">\n",
       "  <thead>\n",
       "    <tr>\n",
       "      <th></th>\n",
       "      <th colspan=\"2\" halign=\"left\">0</th>\n",
       "    </tr>\n",
       "    <tr>\n",
       "      <th>sex</th>\n",
       "      <th>female</th>\n",
       "      <th>male</th>\n",
       "    </tr>\n",
       "    <tr>\n",
       "      <th>verbatimLocality</th>\n",
       "      <th></th>\n",
       "      <th></th>\n",
       "    </tr>\n",
       "  </thead>\n",
       "  <tbody>\n",
       "    <tr>\n",
       "      <th>1</th>\n",
       "      <td>792</td>\n",
       "      <td>1027</td>\n",
       "    </tr>\n",
       "    <tr>\n",
       "      <th>2</th>\n",
       "      <td>838</td>\n",
       "      <td>1017</td>\n",
       "    </tr>\n",
       "    <tr>\n",
       "      <th>3</th>\n",
       "      <td>809</td>\n",
       "      <td>742</td>\n",
       "    </tr>\n",
       "    <tr>\n",
       "      <th>4</th>\n",
       "      <td>825</td>\n",
       "      <td>972</td>\n",
       "    </tr>\n",
       "    <tr>\n",
       "      <th>5</th>\n",
       "      <td>494</td>\n",
       "      <td>552</td>\n",
       "    </tr>\n",
       "  </tbody>\n",
       "</table>\n",
       "</div>"
      ],
      "text/plain": [
       "                      0      \n",
       "sex              female  male\n",
       "verbatimLocality             \n",
       "1                   792  1027\n",
       "2                   838  1017\n",
       "3                   809   742\n",
       "4                   825   972\n",
       "5                   494   552"
      ]
     },
     "execution_count": 237,
     "metadata": {},
     "output_type": "execute_result"
    }
   ],
   "source": [
    "pivoted = n_plot_sex.pivot_table(columns=\"sex\", index=\"verbatimLocality\")\n",
    "pivoted.head()"
   ]
  },
  {
   "cell_type": "markdown",
   "metadata": {},
   "source": [
    "As such, we can use the variable `pivoted` to plot the result:"
   ]
  },
  {
   "cell_type": "code",
   "execution_count": 238,
   "metadata": {},
   "outputs": [
    {
     "data": {
      "text/plain": [
       "<AxesSubplot:xlabel='verbatimLocality'>"
      ]
     },
     "execution_count": 238,
     "metadata": {},
     "output_type": "execute_result"
    },
    {
     "data": {
      "image/png": "[encoded data removed]",
      "text/plain": [
       "<Figure size 864x432 with 1 Axes>"
      ]
     },
     "metadata": {},
     "output_type": "display_data"
    }
   ],
   "source": [
    "pivoted.plot(kind='bar', figsize=(12, 6), rot=0)"
   ]
  },
  {
   "cell_type": "markdown",
   "metadata": {},
   "source": [
    "<div class=\"alert alert-success\">\n",
    "\n",
    "**EXERCISE**\n",
    "\n",
    "Recreate the previous plot with the `catplot` function from the Seaborn library using the variable <code>subselection_sex</code>. \n",
    "\n",
    "<details><summary>Hints</summary>\n",
    "\n",
    "- Check the `kind`argument of the `catplot` function to find out how to use counts to define the bars instead of a `y` value.\n",
    "- To link a column to different colors, use the `hue` argument\n",
    "\n",
    "    \n",
    "</details>"
   ]
  },
  {
   "cell_type": "code",
   "execution_count": 239,
   "metadata": {},
   "outputs": [],
   "source": [
    "subselection_sex = survey_data.dropna(subset=[\"sex\"])"
   ]
  },
  {
   "cell_type": "code",
   "execution_count": 240,
   "metadata": {},
   "outputs": [
    {
     "data": {
      "text/plain": [
       "<seaborn.axisgrid.FacetGrid at 0x7f47ca136970>"
      ]
     },
     "execution_count": 240,
     "metadata": {},
     "output_type": "execute_result"
    },
    {
     "data": {
      "image/png": "[encoded data removed]",
      "text/plain": [
       "<Figure size 714.125x216 with 1 Axes>"
      ]
     },
     "metadata": {},
     "output_type": "display_data"
    }
   ],
   "source": [
    "sns.catplot(data=subselection_sex, x=\"verbatimLocality\", \n",
    "            hue=\"sex\", kind=\"count\", height=3, aspect=3)"
   ]
  },
  {
   "cell_type": "markdown",
   "metadata": {},
   "source": [
    "<div class=\"alert alert-success\">\n",
    "\n",
    "**EXERCISE**\n",
    "\n",
    "- Create a table, called `heatmap_prep`, based on the `survey_data` DataFrame with the row index the individual years, in the column the months of the year (1-> 12) and as values of the table, the counts for each of these year/month combinations.\n",
    "- Using the seaborn <a href=\"http://seaborn.pydata.org/generated/seaborn.heatmap.html\">documentation</a> make a heatmap starting from the `heatmap_prep_sns` variable.    \n",
    "\n",
    "<details><summary>Hints</summary>\n",
    "\n",
    "- You want to `resample` the data using the `eventDate` columns to create annual counts\n",
    "- `resample` needs an aggregation function on how to combine the values within a single 'group' (in this case data within a year). In this example, we want to know the `size` of each group, i.e. the number of records within each year.\n",
    "    \n",
    "</details>  "
   ]
  },
  {
   "cell_type": "code",
   "execution_count": 241,
   "metadata": {},
   "outputs": [
    {
     "data": {
      "image/png": "[encoded data removed]",
      "text/plain": [
       "<Figure size 720x576 with 2 Axes>"
      ]
     },
     "metadata": {},
     "output_type": "display_data"
    }
   ],
   "source": [
    "heatmap_prep = survey_data.pivot_table(index='year', columns='month', \n",
    "                                       values=\"ID\", aggfunc='count')\n",
    "fig, ax = plt.subplots(figsize=(10, 8))\n",
    "ax = sns.heatmap(heatmap_prep, cmap='Reds')    "
   ]
  },
  {
   "cell_type": "markdown",
   "metadata": {},
   "source": [
    "Remark that we started from a `tidy` data format (also called *long* format) and converted to *short* format with in the row index the years, in the column the months and the counts for each of these year/month combinations as values."
   ]
  },
  {
   "cell_type": "markdown",
   "metadata": {},
   "source": [
    "<div class=\"alert alert-success\">\n",
    "\n",
    "**EXERCISE**\n",
    "\n",
    "- Make a summary table with the number of records of each of the species in each of the plots (called `verbatimLocality`)? Each of the species `name`s is a row index and each of the `verbatimLocality` plots is a column name.\n",
    "- Using the Seaborn <a href=\"http://seaborn.pydata.org/generated/seaborn.heatmap.html\">documentation</a> to make a heatmap.\n",
    "\n",
    "<details><summary>Hints</summary>\n",
    "\n",
    "    \n",
    "</details>  "
   ]
  },
  {
   "cell_type": "code",
   "execution_count": 242,
   "metadata": {
    "clear_cell": true,
    "run_control": {
     "frozen": false,
     "read_only": false
    }
   },
   "outputs": [
    {
     "data": {
      "text/html": [
       "<div>\n",
       "<style scoped>\n",
       "    .dataframe tbody tr th:only-of-type {\n",
       "        vertical-align: middle;\n",
       "    }\n",
       "\n",
       "    .dataframe tbody tr th {\n",
       "        vertical-align: top;\n",
       "    }\n",
       "\n",
       "    .dataframe thead th {\n",
       "        text-align: right;\n",
       "    }\n",
       "</style>\n",
       "<table border=\"1\" class=\"dataframe\">\n",
       "  <thead>\n",
       "    <tr style=\"text-align: right;\">\n",
       "      <th>verbatimLocality</th>\n",
       "      <th>1</th>\n",
       "      <th>2</th>\n",
       "      <th>3</th>\n",
       "      <th>4</th>\n",
       "      <th>5</th>\n",
       "      <th>6</th>\n",
       "      <th>7</th>\n",
       "      <th>8</th>\n",
       "      <th>9</th>\n",
       "      <th>10</th>\n",
       "      <th>...</th>\n",
       "      <th>15</th>\n",
       "      <th>16</th>\n",
       "      <th>17</th>\n",
       "      <th>18</th>\n",
       "      <th>19</th>\n",
       "      <th>20</th>\n",
       "      <th>21</th>\n",
       "      <th>22</th>\n",
       "      <th>23</th>\n",
       "      <th>24</th>\n",
       "    </tr>\n",
       "    <tr>\n",
       "      <th>name</th>\n",
       "      <th></th>\n",
       "      <th></th>\n",
       "      <th></th>\n",
       "      <th></th>\n",
       "      <th></th>\n",
       "      <th></th>\n",
       "      <th></th>\n",
       "      <th></th>\n",
       "      <th></th>\n",
       "      <th></th>\n",
       "      <th></th>\n",
       "      <th></th>\n",
       "      <th></th>\n",
       "      <th></th>\n",
       "      <th></th>\n",
       "      <th></th>\n",
       "      <th></th>\n",
       "      <th></th>\n",
       "      <th></th>\n",
       "      <th></th>\n",
       "      <th></th>\n",
       "    </tr>\n",
       "  </thead>\n",
       "  <tbody>\n",
       "    <tr>\n",
       "      <th>Ammodramus savannarum</th>\n",
       "      <td>NaN</td>\n",
       "      <td>NaN</td>\n",
       "      <td>NaN</td>\n",
       "      <td>NaN</td>\n",
       "      <td>NaN</td>\n",
       "      <td>NaN</td>\n",
       "      <td>NaN</td>\n",
       "      <td>NaN</td>\n",
       "      <td>NaN</td>\n",
       "      <td>NaN</td>\n",
       "      <td>...</td>\n",
       "      <td>NaN</td>\n",
       "      <td>NaN</td>\n",
       "      <td>NaN</td>\n",
       "      <td>NaN</td>\n",
       "      <td>1.0</td>\n",
       "      <td>NaN</td>\n",
       "      <td>NaN</td>\n",
       "      <td>NaN</td>\n",
       "      <td>NaN</td>\n",
       "      <td>NaN</td>\n",
       "    </tr>\n",
       "    <tr>\n",
       "      <th>Ammospermophilus harrisi</th>\n",
       "      <td>5.0</td>\n",
       "      <td>6.0</td>\n",
       "      <td>2.0</td>\n",
       "      <td>2.0</td>\n",
       "      <td>3.0</td>\n",
       "      <td>6.0</td>\n",
       "      <td>21.0</td>\n",
       "      <td>10.0</td>\n",
       "      <td>14.0</td>\n",
       "      <td>1.0</td>\n",
       "      <td>...</td>\n",
       "      <td>70.0</td>\n",
       "      <td>8.0</td>\n",
       "      <td>27.0</td>\n",
       "      <td>12.0</td>\n",
       "      <td>9.0</td>\n",
       "      <td>28.0</td>\n",
       "      <td>16.0</td>\n",
       "      <td>4.0</td>\n",
       "      <td>19.0</td>\n",
       "      <td>17.0</td>\n",
       "    </tr>\n",
       "    <tr>\n",
       "      <th>Amphispiza bilineata</th>\n",
       "      <td>5.0</td>\n",
       "      <td>10.0</td>\n",
       "      <td>10.0</td>\n",
       "      <td>3.0</td>\n",
       "      <td>2.0</td>\n",
       "      <td>14.0</td>\n",
       "      <td>18.0</td>\n",
       "      <td>6.0</td>\n",
       "      <td>8.0</td>\n",
       "      <td>6.0</td>\n",
       "      <td>...</td>\n",
       "      <td>8.0</td>\n",
       "      <td>8.0</td>\n",
       "      <td>3.0</td>\n",
       "      <td>8.0</td>\n",
       "      <td>11.0</td>\n",
       "      <td>22.0</td>\n",
       "      <td>6.0</td>\n",
       "      <td>10.0</td>\n",
       "      <td>14.0</td>\n",
       "      <td>14.0</td>\n",
       "    </tr>\n",
       "    <tr>\n",
       "      <th>Baiomys taylori</th>\n",
       "      <td>1.0</td>\n",
       "      <td>1.0</td>\n",
       "      <td>18.0</td>\n",
       "      <td>NaN</td>\n",
       "      <td>4.0</td>\n",
       "      <td>NaN</td>\n",
       "      <td>NaN</td>\n",
       "      <td>NaN</td>\n",
       "      <td>NaN</td>\n",
       "      <td>NaN</td>\n",
       "      <td>...</td>\n",
       "      <td>NaN</td>\n",
       "      <td>NaN</td>\n",
       "      <td>NaN</td>\n",
       "      <td>2.0</td>\n",
       "      <td>15.0</td>\n",
       "      <td>1.0</td>\n",
       "      <td>3.0</td>\n",
       "      <td>NaN</td>\n",
       "      <td>NaN</td>\n",
       "      <td>NaN</td>\n",
       "    </tr>\n",
       "    <tr>\n",
       "      <th>Calamospiza melanocorys</th>\n",
       "      <td>NaN</td>\n",
       "      <td>1.0</td>\n",
       "      <td>1.0</td>\n",
       "      <td>NaN</td>\n",
       "      <td>NaN</td>\n",
       "      <td>NaN</td>\n",
       "      <td>NaN</td>\n",
       "      <td>1.0</td>\n",
       "      <td>1.0</td>\n",
       "      <td>2.0</td>\n",
       "      <td>...</td>\n",
       "      <td>1.0</td>\n",
       "      <td>NaN</td>\n",
       "      <td>NaN</td>\n",
       "      <td>1.0</td>\n",
       "      <td>NaN</td>\n",
       "      <td>NaN</td>\n",
       "      <td>1.0</td>\n",
       "      <td>NaN</td>\n",
       "      <td>1.0</td>\n",
       "      <td>NaN</td>\n",
       "    </tr>\n",
       "  </tbody>\n",
       "</table>\n",
       "<p>5 rows × 24 columns</p>\n",
       "</div>"
      ],
      "text/plain": [
       "verbatimLocality           1     2     3    4    5     6     7     8     9   \\\n",
       "name                                                                          \n",
       "Ammodramus savannarum     NaN   NaN   NaN  NaN  NaN   NaN   NaN   NaN   NaN   \n",
       "Ammospermophilus harrisi  5.0   6.0   2.0  2.0  3.0   6.0  21.0  10.0  14.0   \n",
       "Amphispiza bilineata      5.0  10.0  10.0  3.0  2.0  14.0  18.0   6.0   8.0   \n",
       "Baiomys taylori           1.0   1.0  18.0  NaN  4.0   NaN   NaN   NaN   NaN   \n",
       "Calamospiza melanocorys   NaN   1.0   1.0  NaN  NaN   NaN   NaN   1.0   1.0   \n",
       "\n",
       "verbatimLocality           10  ...    15   16    17    18    19    20    21  \\\n",
       "name                           ...                                            \n",
       "Ammodramus savannarum     NaN  ...   NaN  NaN   NaN   NaN   1.0   NaN   NaN   \n",
       "Ammospermophilus harrisi  1.0  ...  70.0  8.0  27.0  12.0   9.0  28.0  16.0   \n",
       "Amphispiza bilineata      6.0  ...   8.0  8.0   3.0   8.0  11.0  22.0   6.0   \n",
       "Baiomys taylori           NaN  ...   NaN  NaN   NaN   2.0  15.0   1.0   3.0   \n",
       "Calamospiza melanocorys   2.0  ...   1.0  NaN   NaN   1.0   NaN   NaN   1.0   \n",
       "\n",
       "verbatimLocality            22    23    24  \n",
       "name                                        \n",
       "Ammodramus savannarum      NaN   NaN   NaN  \n",
       "Ammospermophilus harrisi   4.0  19.0  17.0  \n",
       "Amphispiza bilineata      10.0  14.0  14.0  \n",
       "Baiomys taylori            NaN   NaN   NaN  \n",
       "Calamospiza melanocorys    NaN   1.0   NaN  \n",
       "\n",
       "[5 rows x 24 columns]"
      ]
     },
     "execution_count": 242,
     "metadata": {},
     "output_type": "execute_result"
    }
   ],
   "source": [
    "species_per_plot = survey_data.reset_index().pivot_table(index=\"name\", \n",
    "                                                         columns=\"verbatimLocality\", \n",
    "                                                         values=\"ID\", \n",
    "                                                         aggfunc='count')\n",
    "species_per_plot.head()"
   ]
  },
  {
   "cell_type": "code",
   "execution_count": 243,
   "metadata": {
    "clear_cell": true,
    "run_control": {
     "frozen": false,
     "read_only": false
    }
   },
   "outputs": [
    {
     "data": {
      "text/plain": [
       "<AxesSubplot:xlabel='verbatimLocality', ylabel='name'>"
      ]
     },
     "execution_count": 243,
     "metadata": {},
     "output_type": "execute_result"
    },
    {
     "data": {
      "image/png": "[encoded data removed]",
      "text/plain": [
       "<Figure size 576x576 with 2 Axes>"
      ]
     },
     "metadata": {},
     "output_type": "display_data"
    }
   ],
   "source": [
    "fig, ax = plt.subplots(figsize=(8,8))\n",
    "sns.heatmap(species_per_plot, ax=ax, cmap='Greens')"
   ]
  },
  {
   "cell_type": "markdown",
   "metadata": {},
   "source": [
    "<div class=\"alert alert-success\">\n",
    "\n",
    "**EXERCISE**\n",
    "\n",
    "Make a plot visualizing the evolution of the number of observations for each of the individual __years__ (i.e. annual counts) using the `resample` method.\n",
    "\n",
    "<details><summary>Hints</summary>\n",
    "\n",
    "- You want to `resample` the data using the `eventDate` columns to create annual counts\n",
    "- `resample` needs an aggregation function on how to combine the values within a single 'group' (in this case data within a year). In this example, we want to know the `size` of each group, i.e. the number of records within each year.\n",
    "    \n",
    "</details>"
   ]
  },
  {
   "cell_type": "code",
   "execution_count": 290,
   "metadata": {
    "clear_cell": true,
    "run_control": {
     "frozen": false,
     "read_only": false
    }
   },
   "outputs": [
    {
     "data": {
      "text/plain": [
       "<AxesSubplot:xlabel='eventDate'>"
      ]
     },
     "execution_count": 290,
     "metadata": {},
     "output_type": "execute_result"
    },
    {
     "data": {
      "image/png": "[encoded data removed]",
      "text/plain": [
       "<Figure size 432x288 with 1 Axes>"
      ]
     },
     "metadata": {},
     "output_type": "display_data"
    }
   ],
   "source": [
    "survey_data.resample('A', on='eventDate').size().plot()"
   ]
  },
  {
   "cell_type": "markdown",
   "metadata": {},
   "source": [
    "## (OPTIONAL SECTION) Evolution of species during monitoring period"
   ]
  },
  {
   "cell_type": "markdown",
   "metadata": {},
   "source": [
    "*In this section, all plots can be made with the embedded Pandas plot function, unless specificly asked*"
   ]
  },
  {
   "cell_type": "markdown",
   "metadata": {},
   "source": [
    "<div class=\"alert alert-success\">\n",
    "\n",
    "**EXERCISE**\n",
    "\n",
    "Plot using Pandas `plot` function the number of records for `Dipodomys merriami` for each month of the year (January (1) -> December (12)), aggregated over all years.\n",
    "\n",
    "<details><summary>Hints</summary>\n",
    "\n",
    "- _...for each month of..._ requires `groupby`. \n",
    "- `resample` is not useful here, as we do not want to change the time-interval, but look at month of the year (over all years)\n",
    "    \n",
    "</details>"
   ]
  },
  {
   "cell_type": "code",
   "execution_count": 296,
   "metadata": {
    "clear_cell": true,
    "run_control": {
     "frozen": false,
     "read_only": false
    }
   },
   "outputs": [],
   "source": [
    "merriami = survey_data[survey_data[\"name\"] == \"Dipodomys merriami\"]"
   ]
  },
  {
   "cell_type": "code",
   "execution_count": 299,
   "metadata": {
    "clear_cell": true,
    "run_control": {
     "frozen": false,
     "read_only": false
    }
   },
   "outputs": [
    {
     "data": {
      "text/plain": [
       "Text(0, 0.5, 'Month of the year')"
      ]
     },
     "execution_count": 299,
     "metadata": {},
     "output_type": "execute_result"
    },
    {
     "data": {
      "image/png": "[encoded data removed]",
      "text/plain": [
       "<Figure size 432x288 with 1 Axes>"
      ]
     },
     "metadata": {},
     "output_type": "display_data"
    }
   ],
   "source": [
    "fig, ax = plt.subplots()\n",
    "merriami.groupby(merriami['eventDate'].dt.month).size().plot(kind=\"barh\", ax=ax)\n",
    "ax.set_xlabel(\"number of occurrences\")\n",
    "ax.set_ylabel(\"Month of the year\")"
   ]
  },
  {
   "cell_type": "markdown",
   "metadata": {},
   "source": [
    "<div class=\"alert alert-success\">\n",
    "\n",
    "**EXERCISE**\n",
    "\n",
    "Plot, for the species 'Dipodomys merriami', 'Dipodomys ordii', 'Reithrodontomys megalotis' and 'Chaetodipus baileyi', the monthly number of records as a function of time for the whole monitoring period. Plot each of the individual species in a separate subplot and provide them all with the same y-axis scale\n",
    "\n",
    "<details><summary>Hints</summary>\n",
    "\n",
    "- `groupby` is not useful here, as we do want to change the time-interval to represent data as a function of time\n",
    "    \n",
    "</details>"
   ]
  },
  {
   "cell_type": "code",
   "execution_count": 300,
   "metadata": {
    "clear_cell": true,
    "run_control": {
     "frozen": false,
     "read_only": false
    }
   },
   "outputs": [],
   "source": [
    "subsetspecies = survey_data[survey_data[\"name\"].isin(['Dipodomys merriami', 'Dipodomys ordii',\n",
    "                                                      'Reithrodontomys megalotis', 'Chaetodipus baileyi'])]"
   ]
  },
  {
   "cell_type": "code",
   "execution_count": 301,
   "metadata": {
    "clear_cell": true,
    "run_control": {
     "frozen": false,
     "read_only": false
    }
   },
   "outputs": [],
   "source": [
    "month_evolution = subsetspecies.groupby(\"name\").resample('M', on='eventDate').size()"
   ]
  },
  {
   "cell_type": "code",
   "execution_count": 302,
   "metadata": {
    "clear_cell": true,
    "run_control": {
     "frozen": false,
     "read_only": false
    }
   },
   "outputs": [
    {
     "data": {
      "image/png": "[encoded data removed]",
      "text/plain": [
       "<Figure size 1008x576 with 4 Axes>"
      ]
     },
     "metadata": {},
     "output_type": "display_data"
    }
   ],
   "source": [
    "species_evolution = month_evolution.unstack(level=0)\n",
    "axs = species_evolution.plot(subplots=True, figsize=(14, 8), sharey=True)"
   ]
  },
  {
   "cell_type": "markdown",
   "metadata": {},
   "source": [
    "<div class=\"alert alert-success\">\n",
    "\n",
    "**EXERCISE**\n",
    "\n",
    "Recreate the same plot as in the previous exercise using Seaborn `relplot` functon with the `month_evolution` variable.\n",
    "\n",
    "<details><summary>Hints</summary>\n",
    "\n",
    "\n",
    "    \n",
    "</details>"
   ]
  },
  {
   "cell_type": "code",
   "execution_count": 324,
   "metadata": {
    "clear_cell": true
   },
   "outputs": [],
   "source": [
    "# Given as solution..\n",
    "subsetspecies = survey_data[survey_data[\"name\"].isin(['Dipodomys merriami', 'Dipodomys ordii',\n",
    "                                                      'Reithrodontomys megalotis', 'Chaetodipus baileyi'])]\n",
    "month_evolution = subsetspecies.groupby(\"name\").resample('M', on='eventDate').size()\n",
    "month_evolution.name = \"counts\"\n",
    "month_evolution = month_evolution.reset_index()"
   ]
  },
  {
   "cell_type": "code",
   "execution_count": 325,
   "metadata": {},
   "outputs": [
    {
     "data": {
      "text/plain": [
       "<seaborn.axisgrid.FacetGrid at 0x7f47c6c40310>"
      ]
     },
     "execution_count": 325,
     "metadata": {},
     "output_type": "execute_result"
    },
    {
     "data": {
      "image/png": "[encoded data removed]",
      "text/plain": [
       "<Figure size 877x576 with 4 Axes>"
      ]
     },
     "metadata": {},
     "output_type": "display_data"
    }
   ],
   "source": [
    "sns.relplot(data=month_evolution, x='eventDate', y=\"counts\", \n",
    "            row=\"name\", kind=\"line\", hue=\"name\", height=2, aspect=5)"
   ]
  },
  {
   "cell_type": "markdown",
   "metadata": {},
   "source": [
    "<div class=\"alert alert-success\">\n",
    "\n",
    "**EXERCISE**\n",
    "\n",
    "Plot the annual amount of occurrences for each of the 'taxa' as a function of time using Seaborn. Plot each taxa in a separate subplot and do not share the y-axis among the facets.\n",
    "\n",
    "<details><summary>Hints</summary>\n",
    "\n",
    "- Combine `resample` and `groupby`!\n",
    "- Check out the previous exercise for the plot function.\n",
    "- Pass the `sharey=False` to the `facet_kws` argument as a dictionary.\n",
    "    \n",
    "</details>"
   ]
  },
  {
   "cell_type": "code",
   "execution_count": 356,
   "metadata": {
    "clear_cell": true,
    "run_control": {
     "frozen": false,
     "read_only": false
    }
   },
   "outputs": [],
   "source": [
    "year_evolution = survey_data.groupby(\"taxa\").resample('A', on='eventDate').size()\n",
    "year_evolution.name = \"counts\"\n",
    "year_evolution = year_evolution.reset_index()"
   ]
  },
  {
   "cell_type": "code",
   "execution_count": 358,
   "metadata": {},
   "outputs": [
    {
     "data": {
      "text/html": [
       "<div>\n",
       "<style scoped>\n",
       "    .dataframe tbody tr th:only-of-type {\n",
       "        vertical-align: middle;\n",
       "    }\n",
       "\n",
       "    .dataframe tbody tr th {\n",
       "        vertical-align: top;\n",
       "    }\n",
       "\n",
       "    .dataframe thead th {\n",
       "        text-align: right;\n",
       "    }\n",
       "</style>\n",
       "<table border=\"1\" class=\"dataframe\">\n",
       "  <thead>\n",
       "    <tr style=\"text-align: right;\">\n",
       "      <th></th>\n",
       "      <th>taxa</th>\n",
       "      <th>eventDate</th>\n",
       "      <th>counts</th>\n",
       "    </tr>\n",
       "  </thead>\n",
       "  <tbody>\n",
       "    <tr>\n",
       "      <th>0</th>\n",
       "      <td>Bird</td>\n",
       "      <td>1980-12-31</td>\n",
       "      <td>17</td>\n",
       "    </tr>\n",
       "    <tr>\n",
       "      <th>1</th>\n",
       "      <td>Bird</td>\n",
       "      <td>1981-12-31</td>\n",
       "      <td>8</td>\n",
       "    </tr>\n",
       "    <tr>\n",
       "      <th>2</th>\n",
       "      <td>Bird</td>\n",
       "      <td>1982-12-31</td>\n",
       "      <td>31</td>\n",
       "    </tr>\n",
       "    <tr>\n",
       "      <th>3</th>\n",
       "      <td>Bird</td>\n",
       "      <td>1983-12-31</td>\n",
       "      <td>31</td>\n",
       "    </tr>\n",
       "    <tr>\n",
       "      <th>4</th>\n",
       "      <td>Bird</td>\n",
       "      <td>1984-12-31</td>\n",
       "      <td>16</td>\n",
       "    </tr>\n",
       "  </tbody>\n",
       "</table>\n",
       "</div>"
      ],
      "text/plain": [
       "   taxa  eventDate  counts\n",
       "0  Bird 1980-12-31      17\n",
       "1  Bird 1981-12-31       8\n",
       "2  Bird 1982-12-31      31\n",
       "3  Bird 1983-12-31      31\n",
       "4  Bird 1984-12-31      16"
      ]
     },
     "execution_count": 358,
     "metadata": {},
     "output_type": "execute_result"
    }
   ],
   "source": [
    "year_evolution.head()"
   ]
  },
  {
   "cell_type": "code",
   "execution_count": 359,
   "metadata": {},
   "outputs": [
    {
     "data": {
      "text/plain": [
       "<seaborn.axisgrid.FacetGrid at 0x7f47c4b69670>"
      ]
     },
     "execution_count": 359,
     "metadata": {},
     "output_type": "execute_result"
    },
    {
     "data": {
      "image/png": "[encoded data removed]",
      "text/plain": [
       "<Figure size 1440x432 with 5 Axes>"
      ]
     },
     "metadata": {},
     "output_type": "display_data"
    }
   ],
   "source": [
    "sns.relplot(data=year_evolution, x='eventDate', y=\"counts\", \n",
    "            col=\"taxa\", col_wrap=2, kind=\"line\", height=2, aspect=5, \n",
    "            facet_kws={\"sharey\": False})"
   ]
  },
  {
   "cell_type": "markdown",
   "metadata": {},
   "source": [
    "<div class=\"alert alert-success\">\n",
    "\n",
    "**EXERCISE**\n",
    "\n",
    "The observations where taken by volunteers. You wonder on which day of the week the most observations where done. Calculate for each day of the week (`weekday`) the number of observations and make a barplot.\n",
    "\n",
    "<details><summary>Hints</summary>\n",
    "\n",
    "- You can do this! \n",
    "    \n",
    "</details>"
   ]
  },
  {
   "cell_type": "code",
   "execution_count": 369,
   "metadata": {
    "clear_cell": true,
    "run_control": {
     "frozen": false,
     "read_only": false
    }
   },
   "outputs": [
    {
     "data": {
      "image/png": "[encoded data removed]",
      "text/plain": [
       "<Figure size 432x288 with 1 Axes>"
      ]
     },
     "metadata": {},
     "output_type": "display_data"
    }
   ],
   "source": [
    "fig, ax = plt.subplots()\n",
    "survey_data.groupby(survey_data[\"eventDate\"].dt.weekday).size().plot(kind='barh', color='#66b266', ax=ax)\n",
    "xticks = ax.set_yticklabels(['Monday', 'Tuesday', 'Wednesday', \"Thursday\", \"Friday\", \"Saturday\", \"Sunday\"])"
   ]
  },
  {
   "cell_type": "markdown",
   "metadata": {},
   "source": [
    "Nice work!"
   ]
  }
 ],
 "metadata": {
  "celltoolbar": "Nbtutor - export exercises",
  "kernelspec": {
   "display_name": "Python 3",
   "language": "python",
   "name": "python3"
  },
  "language_info": {
   "codemirror_mode": {
    "name": "ipython",
    "version": 3
   },
   "file_extension": ".py",
   "mimetype": "text/x-python",
   "name": "python",
   "nbconvert_exporter": "python",
   "pygments_lexer": "ipython3",
   "version": "3.8.6"
  },
  "nav_menu": {},
  "toc": {
   "navigate_menu": true,
   "number_sections": true,
   "sideBar": true,
   "threshold": 6,
   "toc_cell": false,
   "toc_section_display": "block",
   "toc_window_display": true
  }
 },
 "nbformat": 4,
 "nbformat_minor": 4
}
